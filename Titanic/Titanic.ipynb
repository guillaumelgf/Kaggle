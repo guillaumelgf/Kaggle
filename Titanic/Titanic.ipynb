{
 "cells": [
  {
   "cell_type": "markdown",
   "metadata": {},
   "source": [
    "# Titanic: Machine Learning from desaster\n",
    "\n",
    "<ul>\n",
    "    <li><a href=\"#introduction\">I - Introduction</a></li>\n",
    "    <li><a href=\"#data_analysis\">II - Data analysis</a></li>\n",
    "    <ul>\n",
    "        <li><a href=\"#loading_datas\">1. Loading Datas</a></li>\n",
    "        <li><a href=\"#missing_datas\">2. Missing Datas</a></li>\n",
    "        <ul>\n",
    "            <li><a href=\"#general_overview\">2.1 General overview</a></li>\n",
    "            <li><a href=\"#age\">2.2 Age</a></li>\n",
    "            <li><a href=\"#embarked\">2.3 Embarked</a></li>\n",
    "        </ul>\n",
    "        <li><a href=\"#feature_engineering\">3. Feature Engineering</a></li>\n",
    "        <ul>\n",
    "            <li><a href=\"#name\">3.1 Convert the name</a></li>\n",
    "            <li><a href=\"#family_size\">3.2 Family size</a></li>\n",
    "            <li><a href=\"#object_features\">3.3 Object features</a></li>\n",
    "        </ul>\n",
    "        <li><a href=\"#corr\">4. Most Important Feature</a></li>\n",
    "    </ul>\n",
    "    <li><a href=\"#decision_tree\">III - Decision Tree Algorithm</a></li>\n",
    "    <ul>\n",
    "        <li><a href=\"#cleaning\">1. Last Cleaning</a></li>\n",
    "        <li><a href=\"#split\">2. Split Train/Test</a></li>\n",
    "        <li><a href=\"#first_model\">3. First Rough Model</a></li>\n",
    "        <li><a href=\"#tuning\">4. Tuning the Algorithm</a></li>\n",
    "    </ul>\n",
    "    <li><a href=\"#conclusion\">IV - Conclusion</a></li>\n",
    "</ul>\n",
    "\n",
    "# I-  Introduction<a id=\"introduction\"></a>\n",
    "\n",
    "### Goal\n",
    "\n",
    "It is your job to predict if a passenger survived the sinking of the Titanic or not.<br> \n",
    "For each PassengerId in the test set, you must predict a 0 or 1 value for the Survived variable.\n",
    "\n",
    "### Metric\n",
    "\n",
    "Your score is the percentage of passengers you correctly predict. This is known simply as \"accuracy”.\n",
    "\n",
    "### Submission File Format\n",
    "\n",
    "<p style=\"text-align:justify;\">You should submit a csv file with exactly 418 entries plus a header row. Your submission will show an error if you have extra columns (beyond PassengerId and Survived) or rows.</p>\n",
    "\n",
    "The file should have exactly 2 columns:\n",
    "<ul>\n",
    "    <li>PassengerId (sorted in any order)</li>\n",
    "    <li>Survived (contains your binary predictions: 1 for survived, 0 for deceased)</li>\n",
    "</ul>\n",
    "<div class=\"alert alert-info\">\n",
    "PassengerId,Survived<br>\n",
    "&nbsp;892,0<br>\n",
    "&nbsp;893,1<br>\n",
    "&nbsp;894,0<br>\n",
    "&nbsp;Etc.\n",
    "</div>        "
   ]
  },
  {
   "cell_type": "markdown",
   "metadata": {},
   "source": [
    "# II - Data Analysis<a id=\"data_analysis\"></a>\n",
    "\n",
    "## 1. Loading Datas<a id=\"loading_datas\"></a>\n",
    "\n",
    "First I import the libraries necessary for data analysis.\n",
    "<ul>\n",
    "    <li><u>Pandas:</u> It is a very usefull library for machine learning. It provides very powerfull datastructures and data analysis tools for Python.</li>\n",
    "    <li><p style=\"text-align:justify;\"><u>Matplotlib & Seaborn:</u> I use these two libraries in combination so I can display interesting graphs to show correlations amoung the different features. Matplotlib and seaborn offer a great diversity of graphs and are very oftenly used in Python projects.</p></li>\n",
    "</ul>\n",
    "\n",
    "<p style=\"text-align:justify;\">After importing the libraries, I used pandas to load the traininng (train_df) and test (test_df) datasets. df stands for dataframe which is the format used by the pandas library to manipulate datas. I then created two other variables combining the training and test datasets. I will use full_datas to quickly make modifications on both datasets at the same time during pre-processing. full_datas_df will be used for quick data visualisation as it still is a dataframe.</p>"
   ]
  },
  {
   "cell_type": "code",
   "execution_count": 2,
   "metadata": {},
   "outputs": [],
   "source": [
    "import pandas as pd\n",
    "import matplotlib.pyplot as plt\n",
    "import seaborn as sns\n",
    "import numpy as np\n",
    "from sklearn.preprocessing import LabelEncoder\n",
    "\n",
    "import scipy.stats as st"
   ]
  },
  {
   "cell_type": "code",
   "execution_count": 3,
   "metadata": {},
   "outputs": [],
   "source": [
    "train_df = pd.read_csv(\"datas/train.csv\")\n",
    "test_df = pd.read_csv(\"datas/test.csv\")"
   ]
  },
  {
   "cell_type": "code",
   "execution_count": 4,
   "metadata": {},
   "outputs": [
    {
     "data": {
      "text/html": [
       "<div>\n",
       "<style scoped>\n",
       "    .dataframe tbody tr th:only-of-type {\n",
       "        vertical-align: middle;\n",
       "    }\n",
       "\n",
       "    .dataframe tbody tr th {\n",
       "        vertical-align: top;\n",
       "    }\n",
       "\n",
       "    .dataframe thead th {\n",
       "        text-align: right;\n",
       "    }\n",
       "</style>\n",
       "<table border=\"1\" class=\"dataframe\">\n",
       "  <thead>\n",
       "    <tr style=\"text-align: right;\">\n",
       "      <th></th>\n",
       "      <th>PassengerId</th>\n",
       "      <th>Survived</th>\n",
       "      <th>Pclass</th>\n",
       "      <th>Name</th>\n",
       "      <th>Sex</th>\n",
       "      <th>Age</th>\n",
       "      <th>SibSp</th>\n",
       "      <th>Parch</th>\n",
       "      <th>Ticket</th>\n",
       "      <th>Fare</th>\n",
       "      <th>Cabin</th>\n",
       "      <th>Embarked</th>\n",
       "    </tr>\n",
       "  </thead>\n",
       "  <tbody>\n",
       "    <tr>\n",
       "      <th>0</th>\n",
       "      <td>1</td>\n",
       "      <td>0</td>\n",
       "      <td>3</td>\n",
       "      <td>Braund, Mr. Owen Harris</td>\n",
       "      <td>male</td>\n",
       "      <td>22.0</td>\n",
       "      <td>1</td>\n",
       "      <td>0</td>\n",
       "      <td>A/5 21171</td>\n",
       "      <td>7.2500</td>\n",
       "      <td>NaN</td>\n",
       "      <td>S</td>\n",
       "    </tr>\n",
       "    <tr>\n",
       "      <th>1</th>\n",
       "      <td>2</td>\n",
       "      <td>1</td>\n",
       "      <td>1</td>\n",
       "      <td>Cumings, Mrs. John Bradley (Florence Briggs Th...</td>\n",
       "      <td>female</td>\n",
       "      <td>38.0</td>\n",
       "      <td>1</td>\n",
       "      <td>0</td>\n",
       "      <td>PC 17599</td>\n",
       "      <td>71.2833</td>\n",
       "      <td>C85</td>\n",
       "      <td>C</td>\n",
       "    </tr>\n",
       "    <tr>\n",
       "      <th>2</th>\n",
       "      <td>3</td>\n",
       "      <td>1</td>\n",
       "      <td>3</td>\n",
       "      <td>Heikkinen, Miss. Laina</td>\n",
       "      <td>female</td>\n",
       "      <td>26.0</td>\n",
       "      <td>0</td>\n",
       "      <td>0</td>\n",
       "      <td>STON/O2. 3101282</td>\n",
       "      <td>7.9250</td>\n",
       "      <td>NaN</td>\n",
       "      <td>S</td>\n",
       "    </tr>\n",
       "    <tr>\n",
       "      <th>3</th>\n",
       "      <td>4</td>\n",
       "      <td>1</td>\n",
       "      <td>1</td>\n",
       "      <td>Futrelle, Mrs. Jacques Heath (Lily May Peel)</td>\n",
       "      <td>female</td>\n",
       "      <td>35.0</td>\n",
       "      <td>1</td>\n",
       "      <td>0</td>\n",
       "      <td>113803</td>\n",
       "      <td>53.1000</td>\n",
       "      <td>C123</td>\n",
       "      <td>S</td>\n",
       "    </tr>\n",
       "    <tr>\n",
       "      <th>4</th>\n",
       "      <td>5</td>\n",
       "      <td>0</td>\n",
       "      <td>3</td>\n",
       "      <td>Allen, Mr. William Henry</td>\n",
       "      <td>male</td>\n",
       "      <td>35.0</td>\n",
       "      <td>0</td>\n",
       "      <td>0</td>\n",
       "      <td>373450</td>\n",
       "      <td>8.0500</td>\n",
       "      <td>NaN</td>\n",
       "      <td>S</td>\n",
       "    </tr>\n",
       "  </tbody>\n",
       "</table>\n",
       "</div>"
      ],
      "text/plain": [
       "   PassengerId  Survived  Pclass  \\\n",
       "0            1         0       3   \n",
       "1            2         1       1   \n",
       "2            3         1       3   \n",
       "3            4         1       1   \n",
       "4            5         0       3   \n",
       "\n",
       "                                                Name     Sex   Age  SibSp  \\\n",
       "0                            Braund, Mr. Owen Harris    male  22.0      1   \n",
       "1  Cumings, Mrs. John Bradley (Florence Briggs Th...  female  38.0      1   \n",
       "2                             Heikkinen, Miss. Laina  female  26.0      0   \n",
       "3       Futrelle, Mrs. Jacques Heath (Lily May Peel)  female  35.0      1   \n",
       "4                           Allen, Mr. William Henry    male  35.0      0   \n",
       "\n",
       "   Parch            Ticket     Fare Cabin Embarked  \n",
       "0      0         A/5 21171   7.2500   NaN        S  \n",
       "1      0          PC 17599  71.2833   C85        C  \n",
       "2      0  STON/O2. 3101282   7.9250   NaN        S  \n",
       "3      0            113803  53.1000  C123        S  \n",
       "4      0            373450   8.0500   NaN        S  "
      ]
     },
     "metadata": {},
     "output_type": "display_data"
    },
    {
     "name": "stdout",
     "output_type": "stream",
     "text": [
      "The shape of the train dataset is (891, 12)\n",
      "The shape of the test datasset is (418, 11)\n"
     ]
    }
   ],
   "source": [
    "display(train_df.head())\n",
    "print(\"The shape of the train dataset is {}\".format(train_df.shape))\n",
    "print(\"The shape of the test datasset is {}\".format(test_df.shape))"
   ]
  },
  {
   "cell_type": "markdown",
   "metadata": {},
   "source": [
    "<p style=\"text-align:justify;\">The train dataset contains 891 passengers, the test dataset contains 418 passengers. We have access to 11 features to predict weither the passenger is going to survive or not. The train dataset also contains the label of the data: \"Survived\". This feature can either be 0 for died or 1 for survived.</p>\n",
    "\n",
    "By looking at the Kaggle website, we get a description of each feature.\n",
    "\n",
    "<table>\n",
    "<tbody>\n",
    "<tr><th><b>Variable</b></th><th><b>Definition</b></th><th><b>Key</b></th></tr>\n",
    "<tr>\n",
    "<td>survival</td>\n",
    "<td>Survival</td>\n",
    "<td>0 = No, 1 = Yes</td>\n",
    "</tr>\n",
    "<tr>\n",
    "<td>pclass</td>\n",
    "<td>Ticket class</td>\n",
    "<td>1 = 1st, 2 = 2nd, 3 = 3rd</td>\n",
    "</tr>\n",
    "<tr>\n",
    "<td>sex</td>\n",
    "<td>Sex</td>\n",
    "<td></td>\n",
    "</tr>\n",
    "<tr>\n",
    "<td>Age</td>\n",
    "<td>Age in years</td>\n",
    "<td></td>\n",
    "</tr>\n",
    "<tr>\n",
    "<td>sibsp</td>\n",
    "<td># of siblings / spouses aboard the Titanic</td>\n",
    "<td></td>\n",
    "</tr>\n",
    "<tr>\n",
    "<td>parch</td>\n",
    "<td># of parents / children aboard the Titanic</td>\n",
    "<td></td>\n",
    "</tr>\n",
    "<tr>\n",
    "<td>ticket</td>\n",
    "<td>Ticket number</td>\n",
    "<td></td>\n",
    "</tr>\n",
    "<tr>\n",
    "<td>fare</td>\n",
    "<td>Passenger fare</td>\n",
    "<td></td>\n",
    "</tr>\n",
    "<tr>\n",
    "<td>cabin</td>\n",
    "<td>Cabin number</td>\n",
    "<td></td>\n",
    "</tr>\n",
    "<tr>\n",
    "<td>embarked</td>\n",
    "<td>Port of Embarkation</td>\n",
    "<td>C = Cherbourg, Q = Queenstown, S = Southampton</td>\n",
    "</tr>\n",
    "</tbody>\n",
    "</table>\n",
    "\n",
    "<p style=\"text-align:justify;\">I decided to drop the PassengerId, because I am sure that including this feature will only reduce the performances of the classification algorithm. I also dropped the Ticket feature as the pre-processing for this feature seems too hard for the importance it has.</p>"
   ]
  },
  {
   "cell_type": "code",
   "execution_count": 5,
   "metadata": {},
   "outputs": [],
   "source": [
    "train_df.drop([\"PassengerId\", \"Ticket\"], axis=1, inplace=True)\n",
    "test_df.drop([\"PassengerId\", \"Ticket\"], axis=1, inplace=True)"
   ]
  },
  {
   "cell_type": "markdown",
   "metadata": {},
   "source": [
    "## 2. Missing Datas<a id=\"missing_datas\"></a>\n",
    "\n",
    "### 2.1 General overview<a id=\"general_overview\"></a>\n",
    "\n",
    "Let's see how many missing datas there are in our datasets. The following table displays the percentage of missing datas for each features."
   ]
  },
  {
   "cell_type": "code",
   "execution_count": 6,
   "metadata": {},
   "outputs": [
    {
     "data": {
      "text/html": [
       "<div>\n",
       "<style scoped>\n",
       "    .dataframe tbody tr th:only-of-type {\n",
       "        vertical-align: middle;\n",
       "    }\n",
       "\n",
       "    .dataframe tbody tr th {\n",
       "        vertical-align: top;\n",
       "    }\n",
       "\n",
       "    .dataframe thead th {\n",
       "        text-align: right;\n",
       "    }\n",
       "</style>\n",
       "<table border=\"1\" class=\"dataframe\">\n",
       "  <thead>\n",
       "    <tr style=\"text-align: right;\">\n",
       "      <th></th>\n",
       "      <th>Train missing</th>\n",
       "      <th>Test missing</th>\n",
       "    </tr>\n",
       "  </thead>\n",
       "  <tbody>\n",
       "    <tr>\n",
       "      <th>Cabin</th>\n",
       "      <td>77.104377</td>\n",
       "      <td>36.700337</td>\n",
       "    </tr>\n",
       "    <tr>\n",
       "      <th>Age</th>\n",
       "      <td>19.865320</td>\n",
       "      <td>9.652076</td>\n",
       "    </tr>\n",
       "    <tr>\n",
       "      <th>Embarked</th>\n",
       "      <td>0.224467</td>\n",
       "      <td>0.000000</td>\n",
       "    </tr>\n",
       "    <tr>\n",
       "      <th>Fare</th>\n",
       "      <td>0.000000</td>\n",
       "      <td>0.112233</td>\n",
       "    </tr>\n",
       "  </tbody>\n",
       "</table>\n",
       "</div>"
      ],
      "text/plain": [
       "          Train missing  Test missing\n",
       "Cabin         77.104377     36.700337\n",
       "Age           19.865320      9.652076\n",
       "Embarked       0.224467      0.000000\n",
       "Fare           0.000000      0.112233"
      ]
     },
     "metadata": {},
     "output_type": "display_data"
    },
    {
     "name": "stdout",
     "output_type": "stream",
     "text": [
      "these 4 features have missing datas.\n"
     ]
    }
   ],
   "source": [
    "missing_train = train_df.isnull().sum()/len(train_df)*100\n",
    "missing_test = test_df.isnull().sum()/len(train_df)*100\n",
    "\n",
    "missings = pd.concat([missing_train, missing_test], axis=1, keys=[\"Train missing\", \"Test missing\"]).sort_values(\"Train missing\", ascending=False)\n",
    "fm = missings[missings.gt(0).any(axis=1)]\n",
    "display(fm)\n",
    "print(\"these {} features have missing datas.\".format(len(fm)))"
   ]
  },
  {
   "cell_type": "markdown",
   "metadata": {},
   "source": [
    "<p style=\"text-align:justify;\">I then decided to drop the Cabin feature, because it has more than 20% of missing features. The age carries too much information to be dropped and the other features can be completed easily.</p>"
   ]
  },
  {
   "cell_type": "code",
   "execution_count": 7,
   "metadata": {},
   "outputs": [
    {
     "name": "stdout",
     "output_type": "stream",
     "text": [
      "The Cabin feature was dropped because it does not carry enought information.\n"
     ]
    }
   ],
   "source": [
    "for index in missing_train[missing_train>20].index:\n",
    "    train_df.drop(index, axis=1, inplace=True)\n",
    "    test_df.drop(index, axis=1, inplace=True)\n",
    "    print(\"The {} feature was dropped because it does not carry enought information.\".format(index))"
   ]
  },
  {
   "cell_type": "markdown",
   "metadata": {},
   "source": [
    "Now let's analyse each feature with missing datas one by one."
   ]
  },
  {
   "cell_type": "markdown",
   "metadata": {},
   "source": [
    "### 2.2 Age<a id=\"age\"></a>\n",
    "Let's plot the number of passenger who survived and those who died according to their age."
   ]
  },
  {
   "cell_type": "code",
   "execution_count": 8,
   "metadata": {},
   "outputs": [
    {
     "data": {
      "image/png": "[encoded data removed]",
      "text/plain": [
       "<matplotlib.figure.Figure at 0x2e4d51b1278>"
      ]
     },
     "metadata": {},
     "output_type": "display_data"
    }
   ],
   "source": [
    "sns.distplot(train_df[train_df[\"Survived\"] == 1][\"Age\"].dropna())\n",
    "sns.distplot(train_df[train_df[\"Survived\"] == 0][\"Age\"].dropna())\n",
    "plt.show()"
   ]
  },
  {
   "cell_type": "markdown",
   "metadata": {},
   "source": [
    "<p style=\"text-align:justify\">From this graph, we can see that there is a very small correlation between the age of the passenger and its chances of survival. We will complete the Age feature but it does not carry a lot of valuable information.</p>\n",
    "\n",
    "I used a random function to select ages wich are common ages for the dataset."
   ]
  },
  {
   "cell_type": "code",
   "execution_count": 9,
   "metadata": {
    "scrolled": true
   },
   "outputs": [
    {
     "name": "stderr",
     "output_type": "stream",
     "text": [
      "C:\\Users\\roland\\AppData\\Roaming\\Python\\Python36\\site-packages\\ipykernel_launcher.py:6: SettingWithCopyWarning: \n",
      "A value is trying to be set on a copy of a slice from a DataFrame\n",
      "\n",
      "See the caveats in the documentation: http://pandas.pydata.org/pandas-docs/stable/indexing.html#indexing-view-versus-copy\n",
      "  \n"
     ]
    }
   ],
   "source": [
    "for dataset in (train_df, test_df):\n",
    "    age_avg = dataset['Age'].mean()\n",
    "    age_std = dataset['Age'].std()\n",
    "    age_null_count = dataset['Age'].isnull().sum()\n",
    "    age_null_random_list = np.random.randint(age_avg - age_std, age_avg + age_std, size=age_null_count)\n",
    "    dataset['Age'][np.isnan(dataset['Age'])] = age_null_random_list\n",
    "    dataset['Age'] = dataset['Age'].astype(int)"
   ]
  },
  {
   "cell_type": "markdown",
   "metadata": {},
   "source": [
    "### 2.3 Embarked and Fare<a id=\"embarked\"></a>\n",
    "<p style=\"text-align:justify\">There are only 2 missing datas for Embarked and 1 missing for Fare. I decided to use two different, but very simple technics to fill these missing datas. As it is a Numerical Continuous feature, I replaced the missing data of the fare by the median value for the train dataset. I replaced the two missing Embarked features with the top value for this feature.</p>"
   ]
  },
  {
   "cell_type": "code",
   "execution_count": 10,
   "metadata": {},
   "outputs": [],
   "source": [
    "train_df[\"Embarked\"] = train_df[\"Embarked\"].fillna(train_df[\"Embarked\"].describe().top)\n",
    "test_df[\"Embarked\"] = test_df[\"Embarked\"].fillna(test_df[\"Embarked\"].describe().top)"
   ]
  },
  {
   "cell_type": "code",
   "execution_count": 11,
   "metadata": {},
   "outputs": [],
   "source": [
    "test_df[\"Fare\"] = test_df[\"Fare\"].fillna(test_df[\"Fare\"].median)"
   ]
  },
  {
   "cell_type": "markdown",
   "metadata": {},
   "source": [
    "With a complete dataset to work with, I can now do some pre-processing."
   ]
  },
  {
   "cell_type": "markdown",
   "metadata": {},
   "source": [
    "## 3. Feature engineering<a id=\"feature_engineering\"></a>\n",
    "\n",
    "### 3.1 Convert the name<a id=\"name\"></a>\n",
    "\n",
    "<p style=\"text-align:justify\">We can extract interesting informations from the name of the passengers. I decided to extract the title of each person using a RegEx expression. Right after doing that, I made a couple of scripts to see the repartition of this feature.</p>"
   ]
  },
  {
   "cell_type": "code",
   "execution_count": 12,
   "metadata": {},
   "outputs": [
    {
     "name": "stdout",
     "output_type": "stream",
     "text": [
      "Percentage of the title in train dataset:\n",
      "Mr        57.416268\n",
      "Miss      18.660287\n",
      "Mrs       17.224880\n",
      "Master     5.023923\n",
      "Col        0.478469\n",
      "Rev        0.478469\n",
      "Dr         0.239234\n",
      "Dona       0.239234\n",
      "Ms         0.239234\n",
      "Name: Title, dtype: float64\n",
      "\n",
      "Percentage of the title in test dataset:\n",
      "Mr          58.024691\n",
      "Miss        20.426487\n",
      "Mrs         14.029181\n",
      "Master       4.489338\n",
      "Dr           0.785634\n",
      "Rev          0.673401\n",
      "Major        0.224467\n",
      "Mlle         0.224467\n",
      "Col          0.224467\n",
      "Lady         0.112233\n",
      "Jonkheer     0.112233\n",
      "Mme          0.112233\n",
      "Don          0.112233\n",
      "Sir          0.112233\n",
      "Capt         0.112233\n",
      "Countess     0.112233\n",
      "Ms           0.112233\n",
      "Name: Title, dtype: float64\n",
      "\n",
      "This titles are present in train but not in test:\n",
      "{'Sir', 'Don', 'Lady', 'Countess', 'Mlle', 'Mme', 'Major', 'Jonkheer', 'Capt'}\n"
     ]
    }
   ],
   "source": [
    "train_df['Title'] = train_df.Name.str.extract(' ([A-Za-z]+)\\.', expand=False)\n",
    "test_df['Title'] = test_df.Name.str.extract(' ([A-Za-z]+)\\.', expand=False)\n",
    "\n",
    "print(\"Percentage of the title in train dataset:\")\n",
    "print(test_df['Title'].value_counts()/test_df[\"Title\"].count()*100)\n",
    "print(\"\\nPercentage of the title in test dataset:\")\n",
    "print(train_df['Title'].value_counts()/train_df[\"Title\"].count()*100)\n",
    "\n",
    "print(\"\\nThis titles are present in train but not in test:\")\n",
    "print(set(train_df[\"Title\"]) - set(test_df[\"Title\"]))"
   ]
  },
  {
   "cell_type": "markdown",
   "metadata": {},
   "source": [
    "<p style=\"text-align:justify;\">The information to get from this analysis is that all titles are not interesting for survival prediction. Indeed we can see that some of the titles present in the train dataset are not in the test dataset. Thus they are not usefull for the prediction. We also need to get rid of the titles which represent less than 10% of the dataset. The sample corresponding to these titles are not big enought to be significant.</p>\n",
    "\n",
    "<p style=\"text-align:justify;\">The simmilar titles are merged such as \"Mlle\" and \"Miss\". And all the titles that are not usefull are coombined into one single title: \"Rare\". Then we have no more information to extract from the name feature so I drop it.</p>"
   ]
  },
  {
   "cell_type": "code",
   "execution_count": 13,
   "metadata": {},
   "outputs": [],
   "source": [
    "for dataset in (train_df, test_df):\n",
    "    dataset['Title'] = dataset['Title'].replace(['Lady', 'Countess','Capt', 'Col','Don', 'Dr', 'Major', 'Rev', 'Sir', 'Jonkheer', 'Dona', 'Master'], 'Rare')\n",
    "    dataset['Title'] = dataset['Title'].replace('Mlle', 'Miss')\n",
    "    dataset['Title'] = dataset['Title'].replace('Ms', 'Miss')\n",
    "    dataset['Title'] = dataset['Title'].replace('Mme', 'Mrs')\n",
    "    dataset.drop([\"Name\"], axis=1, inplace=True)"
   ]
  },
  {
   "cell_type": "markdown",
   "metadata": {},
   "source": [
    "Here are the final titles and there presence in the dataset in percentage."
   ]
  },
  {
   "cell_type": "code",
   "execution_count": 14,
   "metadata": {},
   "outputs": [
    {
     "data": {
      "text/plain": [
       "Mr      757\n",
       "Miss    264\n",
       "Mrs     198\n",
       "Rare     90\n",
       "Name: Title, dtype: int64"
      ]
     },
     "execution_count": 14,
     "metadata": {},
     "output_type": "execute_result"
    }
   ],
   "source": [
    "title_df = pd.concat([train_df, test_df])\n",
    "title_df[\"Title\"].value_counts()"
   ]
  },
  {
   "cell_type": "code",
   "execution_count": 60,
   "metadata": {},
   "outputs": [
    {
     "data": {
      "image/png": "[encoded data removed]",
      "text/plain": [
       "<matplotlib.figure.Figure at 0x2e4d57dbc88>"
      ]
     },
     "metadata": {},
     "output_type": "display_data"
    }
   ],
   "source": [
    "sns.countplot(x=\"Title\", data=title_df, hue=\"Survived\")\n",
    "plt.show()"
   ]
  },
  {
   "cell_type": "markdown",
   "metadata": {},
   "source": [
    "### 3.2 Family sizes<a id=\"family_size\"></a>"
   ]
  },
  {
   "cell_type": "markdown",
   "metadata": {},
   "source": [
    "Let's build a new feature using both SibSp and Parch and create a number which represents the number of members in the families of each passenger."
   ]
  },
  {
   "cell_type": "code",
   "execution_count": 15,
   "metadata": {},
   "outputs": [
    {
     "data": {
      "text/html": [
       "<div>\n",
       "<style scoped>\n",
       "    .dataframe tbody tr th:only-of-type {\n",
       "        vertical-align: middle;\n",
       "    }\n",
       "\n",
       "    .dataframe tbody tr th {\n",
       "        vertical-align: top;\n",
       "    }\n",
       "\n",
       "    .dataframe thead th {\n",
       "        text-align: right;\n",
       "    }\n",
       "</style>\n",
       "<table border=\"1\" class=\"dataframe\">\n",
       "  <thead>\n",
       "    <tr style=\"text-align: right;\">\n",
       "      <th></th>\n",
       "      <th>Pclass</th>\n",
       "      <th>Sex</th>\n",
       "      <th>Age</th>\n",
       "      <th>SibSp</th>\n",
       "      <th>Parch</th>\n",
       "      <th>Fare</th>\n",
       "      <th>Embarked</th>\n",
       "      <th>Title</th>\n",
       "      <th>Family_size</th>\n",
       "    </tr>\n",
       "  </thead>\n",
       "  <tbody>\n",
       "    <tr>\n",
       "      <th>0</th>\n",
       "      <td>3</td>\n",
       "      <td>male</td>\n",
       "      <td>34</td>\n",
       "      <td>0</td>\n",
       "      <td>0</td>\n",
       "      <td>7.8292</td>\n",
       "      <td>Q</td>\n",
       "      <td>Mr</td>\n",
       "      <td>1</td>\n",
       "    </tr>\n",
       "    <tr>\n",
       "      <th>1</th>\n",
       "      <td>3</td>\n",
       "      <td>female</td>\n",
       "      <td>47</td>\n",
       "      <td>1</td>\n",
       "      <td>0</td>\n",
       "      <td>7</td>\n",
       "      <td>S</td>\n",
       "      <td>Mrs</td>\n",
       "      <td>2</td>\n",
       "    </tr>\n",
       "    <tr>\n",
       "      <th>2</th>\n",
       "      <td>2</td>\n",
       "      <td>male</td>\n",
       "      <td>62</td>\n",
       "      <td>0</td>\n",
       "      <td>0</td>\n",
       "      <td>9.6875</td>\n",
       "      <td>Q</td>\n",
       "      <td>Mr</td>\n",
       "      <td>1</td>\n",
       "    </tr>\n",
       "    <tr>\n",
       "      <th>3</th>\n",
       "      <td>3</td>\n",
       "      <td>male</td>\n",
       "      <td>27</td>\n",
       "      <td>0</td>\n",
       "      <td>0</td>\n",
       "      <td>8.6625</td>\n",
       "      <td>S</td>\n",
       "      <td>Mr</td>\n",
       "      <td>1</td>\n",
       "    </tr>\n",
       "    <tr>\n",
       "      <th>4</th>\n",
       "      <td>3</td>\n",
       "      <td>female</td>\n",
       "      <td>22</td>\n",
       "      <td>1</td>\n",
       "      <td>1</td>\n",
       "      <td>12.2875</td>\n",
       "      <td>S</td>\n",
       "      <td>Mrs</td>\n",
       "      <td>3</td>\n",
       "    </tr>\n",
       "  </tbody>\n",
       "</table>\n",
       "</div>"
      ],
      "text/plain": [
       "   Pclass     Sex  Age  SibSp  Parch     Fare Embarked Title  Family_size\n",
       "0       3    male   34      0      0   7.8292        Q    Mr            1\n",
       "1       3  female   47      1      0        7        S   Mrs            2\n",
       "2       2    male   62      0      0   9.6875        Q    Mr            1\n",
       "3       3    male   27      0      0   8.6625        S    Mr            1\n",
       "4       3  female   22      1      1  12.2875        S   Mrs            3"
      ]
     },
     "execution_count": 15,
     "metadata": {},
     "output_type": "execute_result"
    }
   ],
   "source": [
    "train_df[\"Family_size\"] = train_df[\"SibSp\"] + train_df[\"Parch\"] + 1\n",
    "test_df[\"Family_size\"] = test_df[\"SibSp\"] + test_df[\"Parch\"] + 1\n",
    "test_df.head()"
   ]
  },
  {
   "cell_type": "code",
   "execution_count": 16,
   "metadata": {
    "scrolled": false
   },
   "outputs": [
    {
     "data": {
      "image/png": "[encoded data removed]",
      "text/plain": [
       "<matplotlib.figure.Figure at 0x2e4d55c9780>"
      ]
     },
     "metadata": {},
     "output_type": "display_data"
    }
   ],
   "source": [
    "sns.countplot(x = \"Family_size\", hue = \"Survived\", data=train_df)\n",
    "plt.show()"
   ]
  },
  {
   "cell_type": "markdown",
   "metadata": {},
   "source": [
    "<p style=\"text-align:justify;\">We can clearly see from the graph above that this feature as an impact on the chances of survival of the passengers. From this graph, I decided to create 3 bins of family sizes: </p>\n",
    "<ul>\n",
    "    <li>Family_size == 1</li>\n",
    "    <li>Family_size > 1 && Family_size < 5</li>\n",
    "    <li>Family_size > 4</li>\n",
    "</ul>"
   ]
  },
  {
   "cell_type": "code",
   "execution_count": 17,
   "metadata": {},
   "outputs": [],
   "source": [
    "for dataset in (train_df, test_df):\n",
    "    dataset.loc[dataset['Family_size'] == 1, 'Family_size'] = 0\n",
    "    dataset.loc[(dataset['Family_size'] > 1) & (dataset['Family_size'] < 5), 'Family_size'] = 1\n",
    "    dataset.loc[dataset['Family_size'] > 4, 'Family_size'] = 2"
   ]
  },
  {
   "cell_type": "code",
   "execution_count": 18,
   "metadata": {},
   "outputs": [
    {
     "data": {
      "text/html": [
       "<div>\n",
       "<style scoped>\n",
       "    .dataframe tbody tr th:only-of-type {\n",
       "        vertical-align: middle;\n",
       "    }\n",
       "\n",
       "    .dataframe tbody tr th {\n",
       "        vertical-align: top;\n",
       "    }\n",
       "\n",
       "    .dataframe thead th {\n",
       "        text-align: right;\n",
       "    }\n",
       "</style>\n",
       "<table border=\"1\" class=\"dataframe\">\n",
       "  <thead>\n",
       "    <tr style=\"text-align: right;\">\n",
       "      <th></th>\n",
       "      <th>Survived</th>\n",
       "      <th>Pclass</th>\n",
       "      <th>Sex</th>\n",
       "      <th>Age</th>\n",
       "      <th>SibSp</th>\n",
       "      <th>Parch</th>\n",
       "      <th>Fare</th>\n",
       "      <th>Embarked</th>\n",
       "      <th>Title</th>\n",
       "      <th>Family_size</th>\n",
       "    </tr>\n",
       "  </thead>\n",
       "  <tbody>\n",
       "    <tr>\n",
       "      <th>0</th>\n",
       "      <td>0</td>\n",
       "      <td>3</td>\n",
       "      <td>male</td>\n",
       "      <td>22</td>\n",
       "      <td>1</td>\n",
       "      <td>0</td>\n",
       "      <td>7.2500</td>\n",
       "      <td>S</td>\n",
       "      <td>Mr</td>\n",
       "      <td>1</td>\n",
       "    </tr>\n",
       "    <tr>\n",
       "      <th>1</th>\n",
       "      <td>1</td>\n",
       "      <td>1</td>\n",
       "      <td>female</td>\n",
       "      <td>38</td>\n",
       "      <td>1</td>\n",
       "      <td>0</td>\n",
       "      <td>71.2833</td>\n",
       "      <td>C</td>\n",
       "      <td>Mrs</td>\n",
       "      <td>1</td>\n",
       "    </tr>\n",
       "    <tr>\n",
       "      <th>2</th>\n",
       "      <td>1</td>\n",
       "      <td>3</td>\n",
       "      <td>female</td>\n",
       "      <td>26</td>\n",
       "      <td>0</td>\n",
       "      <td>0</td>\n",
       "      <td>7.9250</td>\n",
       "      <td>S</td>\n",
       "      <td>Miss</td>\n",
       "      <td>0</td>\n",
       "    </tr>\n",
       "    <tr>\n",
       "      <th>3</th>\n",
       "      <td>1</td>\n",
       "      <td>1</td>\n",
       "      <td>female</td>\n",
       "      <td>35</td>\n",
       "      <td>1</td>\n",
       "      <td>0</td>\n",
       "      <td>53.1000</td>\n",
       "      <td>S</td>\n",
       "      <td>Mrs</td>\n",
       "      <td>1</td>\n",
       "    </tr>\n",
       "    <tr>\n",
       "      <th>4</th>\n",
       "      <td>0</td>\n",
       "      <td>3</td>\n",
       "      <td>male</td>\n",
       "      <td>35</td>\n",
       "      <td>0</td>\n",
       "      <td>0</td>\n",
       "      <td>8.0500</td>\n",
       "      <td>S</td>\n",
       "      <td>Mr</td>\n",
       "      <td>0</td>\n",
       "    </tr>\n",
       "  </tbody>\n",
       "</table>\n",
       "</div>"
      ],
      "text/plain": [
       "   Survived  Pclass     Sex  Age  SibSp  Parch     Fare Embarked Title  \\\n",
       "0         0       3    male   22      1      0   7.2500        S    Mr   \n",
       "1         1       1  female   38      1      0  71.2833        C   Mrs   \n",
       "2         1       3  female   26      0      0   7.9250        S  Miss   \n",
       "3         1       1  female   35      1      0  53.1000        S   Mrs   \n",
       "4         0       3    male   35      0      0   8.0500        S    Mr   \n",
       "\n",
       "   Family_size  \n",
       "0            1  \n",
       "1            1  \n",
       "2            0  \n",
       "3            1  \n",
       "4            0  "
      ]
     },
     "execution_count": 18,
     "metadata": {},
     "output_type": "execute_result"
    }
   ],
   "source": [
    "train_df.head()"
   ]
  },
  {
   "cell_type": "markdown",
   "metadata": {},
   "source": [
    "### 3.3 Object features<a id=\"object_features\"></a>\n",
    "We need to convert the datas we now have to be able to feed them into a classification algorithm. Let's first take a look at the different types of data we have."
   ]
  },
  {
   "cell_type": "code",
   "execution_count": 19,
   "metadata": {},
   "outputs": [
    {
     "name": "stdout",
     "output_type": "stream",
     "text": [
      "<class 'pandas.core.frame.DataFrame'>\n",
      "RangeIndex: 418 entries, 0 to 417\n",
      "Data columns (total 9 columns):\n",
      "Pclass         418 non-null int64\n",
      "Sex            418 non-null object\n",
      "Age            418 non-null int32\n",
      "SibSp          418 non-null int64\n",
      "Parch          418 non-null int64\n",
      "Fare           418 non-null object\n",
      "Embarked       418 non-null object\n",
      "Title          418 non-null object\n",
      "Family_size    418 non-null int64\n",
      "dtypes: int32(1), int64(4), object(4)\n",
      "memory usage: 27.8+ KB\n"
     ]
    },
    {
     "data": {
      "text/plain": [
       "None"
      ]
     },
     "metadata": {},
     "output_type": "display_data"
    },
    {
     "data": {
      "text/plain": [
       "{'Embarked', 'Sex', 'Title'}"
      ]
     },
     "metadata": {},
     "output_type": "display_data"
    },
    {
     "name": "stdout",
     "output_type": "stream",
     "text": [
      "There are 3 features to vonvert.\n"
     ]
    }
   ],
   "source": [
    "display(test_df.info())\n",
    "obj_features = set([col for col in train_df.columns if train_df[col].dtype == \"object\"])\n",
    "display(obj_features)\n",
    "print(\"There are {} features to vonvert.\".format(len(obj_features)))"
   ]
  },
  {
   "cell_type": "code",
   "execution_count": 20,
   "metadata": {},
   "outputs": [
    {
     "data": {
      "image/png": "[encoded data removed]",
      "text/plain": [
       "<matplotlib.figure.Figure at 0x2e4d55b65f8>"
      ]
     },
     "metadata": {},
     "output_type": "display_data"
    }
   ],
   "source": [
    "plt.figure(figsize=(8,8))\n",
    "sns.barplot(x=\"Sex\", y=\"Survived\", data=train_df)\n",
    "plt.show()"
   ]
  },
  {
   "cell_type": "markdown",
   "metadata": {},
   "source": [
    "<p style=\"text-align:justify;\">We can see in this figure that you have better chances of survival when you are a female than a male. Thus this feature is ordinal and can be converted as follow.</p>"
   ]
  },
  {
   "cell_type": "code",
   "execution_count": 21,
   "metadata": {},
   "outputs": [
    {
     "data": {
      "image/png": "[encoded data removed]",
      "text/plain": [
       "<matplotlib.figure.Figure at 0x2e4d559bef0>"
      ]
     },
     "metadata": {},
     "output_type": "display_data"
    }
   ],
   "source": [
    "plt.figure(figsize=(8,8))\n",
    "sns.barplot(x=\"Embarked\", y=\"Survived\", data=train_df)\n",
    "plt.show()"
   ]
  },
  {
   "cell_type": "markdown",
   "metadata": {},
   "source": [
    "Same as before we have here an ordinal feature. The order is as follow: C > Q > S."
   ]
  },
  {
   "cell_type": "code",
   "execution_count": 22,
   "metadata": {},
   "outputs": [],
   "source": [
    "for dataset in (train_df, test_df):\n",
    "    dataset[\"Sex_code\"] = dataset[\"Sex\"].map({\"male\": 0, \"female\":1})\n",
    "    dataset[\"Embarked_code\"] = dataset[\"Embarked\"].map({\"C\": 0, \"Q\": 1, \"S\": 2})\n",
    "    dataset[\"Title_code\"] = dataset[\"Title\"].map({\"Master\": 0, \"Miss\": 1, \"Mlle\":2, \"Mme\": 3, \"Mr\": 4, \"Mrs\": 5, \"Ms\":6, \"Rare\": 7})"
   ]
  },
  {
   "cell_type": "code",
   "execution_count": 23,
   "metadata": {},
   "outputs": [
    {
     "data": {
      "text/html": [
       "<div>\n",
       "<style scoped>\n",
       "    .dataframe tbody tr th:only-of-type {\n",
       "        vertical-align: middle;\n",
       "    }\n",
       "\n",
       "    .dataframe tbody tr th {\n",
       "        vertical-align: top;\n",
       "    }\n",
       "\n",
       "    .dataframe thead th {\n",
       "        text-align: right;\n",
       "    }\n",
       "</style>\n",
       "<table border=\"1\" class=\"dataframe\">\n",
       "  <thead>\n",
       "    <tr style=\"text-align: right;\">\n",
       "      <th></th>\n",
       "      <th>Survived</th>\n",
       "      <th>Pclass</th>\n",
       "      <th>Sex</th>\n",
       "      <th>Age</th>\n",
       "      <th>SibSp</th>\n",
       "      <th>Parch</th>\n",
       "      <th>Fare</th>\n",
       "      <th>Embarked</th>\n",
       "      <th>Title</th>\n",
       "      <th>Family_size</th>\n",
       "      <th>Sex_code</th>\n",
       "      <th>Embarked_code</th>\n",
       "      <th>Title_code</th>\n",
       "    </tr>\n",
       "  </thead>\n",
       "  <tbody>\n",
       "    <tr>\n",
       "      <th>0</th>\n",
       "      <td>0</td>\n",
       "      <td>3</td>\n",
       "      <td>male</td>\n",
       "      <td>22</td>\n",
       "      <td>1</td>\n",
       "      <td>0</td>\n",
       "      <td>7.2500</td>\n",
       "      <td>S</td>\n",
       "      <td>Mr</td>\n",
       "      <td>1</td>\n",
       "      <td>0</td>\n",
       "      <td>2</td>\n",
       "      <td>4</td>\n",
       "    </tr>\n",
       "    <tr>\n",
       "      <th>1</th>\n",
       "      <td>1</td>\n",
       "      <td>1</td>\n",
       "      <td>female</td>\n",
       "      <td>38</td>\n",
       "      <td>1</td>\n",
       "      <td>0</td>\n",
       "      <td>71.2833</td>\n",
       "      <td>C</td>\n",
       "      <td>Mrs</td>\n",
       "      <td>1</td>\n",
       "      <td>1</td>\n",
       "      <td>0</td>\n",
       "      <td>5</td>\n",
       "    </tr>\n",
       "    <tr>\n",
       "      <th>2</th>\n",
       "      <td>1</td>\n",
       "      <td>3</td>\n",
       "      <td>female</td>\n",
       "      <td>26</td>\n",
       "      <td>0</td>\n",
       "      <td>0</td>\n",
       "      <td>7.9250</td>\n",
       "      <td>S</td>\n",
       "      <td>Miss</td>\n",
       "      <td>0</td>\n",
       "      <td>1</td>\n",
       "      <td>2</td>\n",
       "      <td>1</td>\n",
       "    </tr>\n",
       "    <tr>\n",
       "      <th>3</th>\n",
       "      <td>1</td>\n",
       "      <td>1</td>\n",
       "      <td>female</td>\n",
       "      <td>35</td>\n",
       "      <td>1</td>\n",
       "      <td>0</td>\n",
       "      <td>53.1000</td>\n",
       "      <td>S</td>\n",
       "      <td>Mrs</td>\n",
       "      <td>1</td>\n",
       "      <td>1</td>\n",
       "      <td>2</td>\n",
       "      <td>5</td>\n",
       "    </tr>\n",
       "    <tr>\n",
       "      <th>4</th>\n",
       "      <td>0</td>\n",
       "      <td>3</td>\n",
       "      <td>male</td>\n",
       "      <td>35</td>\n",
       "      <td>0</td>\n",
       "      <td>0</td>\n",
       "      <td>8.0500</td>\n",
       "      <td>S</td>\n",
       "      <td>Mr</td>\n",
       "      <td>0</td>\n",
       "      <td>0</td>\n",
       "      <td>2</td>\n",
       "      <td>4</td>\n",
       "    </tr>\n",
       "  </tbody>\n",
       "</table>\n",
       "</div>"
      ],
      "text/plain": [
       "   Survived  Pclass     Sex  Age  SibSp  Parch     Fare Embarked Title  \\\n",
       "0         0       3    male   22      1      0   7.2500        S    Mr   \n",
       "1         1       1  female   38      1      0  71.2833        C   Mrs   \n",
       "2         1       3  female   26      0      0   7.9250        S  Miss   \n",
       "3         1       1  female   35      1      0  53.1000        S   Mrs   \n",
       "4         0       3    male   35      0      0   8.0500        S    Mr   \n",
       "\n",
       "   Family_size  Sex_code  Embarked_code  Title_code  \n",
       "0            1         0              2           4  \n",
       "1            1         1              0           5  \n",
       "2            0         1              2           1  \n",
       "3            1         1              2           5  \n",
       "4            0         0              2           4  "
      ]
     },
     "execution_count": 23,
     "metadata": {},
     "output_type": "execute_result"
    }
   ],
   "source": [
    "train_df.head()"
   ]
  },
  {
   "cell_type": "markdown",
   "metadata": {},
   "source": [
    "## 4. Most Important Feature<a id=\"corr\"></a>"
   ]
  },
  {
   "cell_type": "markdown",
   "metadata": {},
   "source": [
    "I like to display the correlation matrix to see what are the links between the features we now have."
   ]
  },
  {
   "cell_type": "code",
   "execution_count": 24,
   "metadata": {},
   "outputs": [
    {
     "data": {
      "image/png": "[encoded data removed]",
      "text/plain": [
       "<matplotlib.figure.Figure at 0x2e4d582bc88>"
      ]
     },
     "metadata": {},
     "output_type": "display_data"
    }
   ],
   "source": [
    "CorrelationMat=train_df.corr().abs()\n",
    "cm=sns.clustermap(CorrelationMat, center=0, cmap=\"GnBu\",\n",
    "               linewidths=.75, figsize=(10, 10), metric=\"correlation\")\n",
    "plt.show()"
   ]
  },
  {
   "cell_type": "code",
   "execution_count": 25,
   "metadata": {
    "scrolled": true
   },
   "outputs": [
    {
     "data": {
      "text/plain": [
       "Survived         1.000000\n",
       "Sex_code         0.543351\n",
       "Pclass           0.338481\n",
       "Fare             0.257307\n",
       "Embarked_code    0.167675\n",
       "Title_code       0.150866\n",
       "Family_size      0.108631\n",
       "Parch            0.081629\n",
       "Age              0.055995\n",
       "SibSp            0.035322\n",
       "Name: Survived, dtype: float64"
      ]
     },
     "metadata": {},
     "output_type": "display_data"
    }
   ],
   "source": [
    "display(CorrelationMat.loc[\"Survived\"].sort_values(ascending=False))"
   ]
  },
  {
   "cell_type": "markdown",
   "metadata": {},
   "source": [
    "<p style=\"text-align:justify;\">Interestingly enough we can see that the sex of the passenger is indeed very correlated to survival. But right after that comes the passenger class and fare. The Age only comes at the penultimate rank. I expected the age of the passenger to have a greater impact on the chances of survival. Let's modify this feature a little bit to see if we can use it in a better way.</p>\n",
    "\n",
    "<p style=\"text-align:justify;\">Also it is great to notice that the Title plays an important role and that the feature we created: Family_size has 10% of correlation with the Survived feature. The efforts invested in engineering these features paid.</p>"
   ]
  },
  {
   "cell_type": "markdown",
   "metadata": {},
   "source": [
    "# III - Decision Tree Algorithm <a id=\"decision_tree\"></a>\n",
    "\n",
    "## 1. Last Cleaning<a id=\"cleaning\"></a>\n",
    "\n",
    "Before applying any algorithm, let's drop the remaining object features"
   ]
  },
  {
   "cell_type": "code",
   "execution_count": 26,
   "metadata": {},
   "outputs": [
    {
     "name": "stdout",
     "output_type": "stream",
     "text": [
      "The Sex feature was dropped.\n",
      "The Title feature was dropped.\n",
      "The Embarked feature was dropped.\n"
     ]
    }
   ],
   "source": [
    "obj_features = set([col for col in train_df.columns if train_df[col].dtype == \"object\"])\n",
    "for feature in obj_features:\n",
    "    train_df.drop(feature, axis=1, inplace=True)\n",
    "    test_df.drop(feature, axis=1, inplace=True)\n",
    "    print(\"The {} feature was dropped.\".format(feature))"
   ]
  },
  {
   "cell_type": "code",
   "execution_count": 27,
   "metadata": {},
   "outputs": [
    {
     "data": {
      "text/html": [
       "<div>\n",
       "<style scoped>\n",
       "    .dataframe tbody tr th:only-of-type {\n",
       "        vertical-align: middle;\n",
       "    }\n",
       "\n",
       "    .dataframe tbody tr th {\n",
       "        vertical-align: top;\n",
       "    }\n",
       "\n",
       "    .dataframe thead th {\n",
       "        text-align: right;\n",
       "    }\n",
       "</style>\n",
       "<table border=\"1\" class=\"dataframe\">\n",
       "  <thead>\n",
       "    <tr style=\"text-align: right;\">\n",
       "      <th></th>\n",
       "      <th>Survived</th>\n",
       "      <th>Pclass</th>\n",
       "      <th>Age</th>\n",
       "      <th>SibSp</th>\n",
       "      <th>Parch</th>\n",
       "      <th>Fare</th>\n",
       "      <th>Family_size</th>\n",
       "      <th>Sex_code</th>\n",
       "      <th>Embarked_code</th>\n",
       "      <th>Title_code</th>\n",
       "    </tr>\n",
       "  </thead>\n",
       "  <tbody>\n",
       "    <tr>\n",
       "      <th>0</th>\n",
       "      <td>0</td>\n",
       "      <td>3</td>\n",
       "      <td>22</td>\n",
       "      <td>1</td>\n",
       "      <td>0</td>\n",
       "      <td>7.2500</td>\n",
       "      <td>1</td>\n",
       "      <td>0</td>\n",
       "      <td>2</td>\n",
       "      <td>4</td>\n",
       "    </tr>\n",
       "    <tr>\n",
       "      <th>1</th>\n",
       "      <td>1</td>\n",
       "      <td>1</td>\n",
       "      <td>38</td>\n",
       "      <td>1</td>\n",
       "      <td>0</td>\n",
       "      <td>71.2833</td>\n",
       "      <td>1</td>\n",
       "      <td>1</td>\n",
       "      <td>0</td>\n",
       "      <td>5</td>\n",
       "    </tr>\n",
       "    <tr>\n",
       "      <th>2</th>\n",
       "      <td>1</td>\n",
       "      <td>3</td>\n",
       "      <td>26</td>\n",
       "      <td>0</td>\n",
       "      <td>0</td>\n",
       "      <td>7.9250</td>\n",
       "      <td>0</td>\n",
       "      <td>1</td>\n",
       "      <td>2</td>\n",
       "      <td>1</td>\n",
       "    </tr>\n",
       "    <tr>\n",
       "      <th>3</th>\n",
       "      <td>1</td>\n",
       "      <td>1</td>\n",
       "      <td>35</td>\n",
       "      <td>1</td>\n",
       "      <td>0</td>\n",
       "      <td>53.1000</td>\n",
       "      <td>1</td>\n",
       "      <td>1</td>\n",
       "      <td>2</td>\n",
       "      <td>5</td>\n",
       "    </tr>\n",
       "    <tr>\n",
       "      <th>4</th>\n",
       "      <td>0</td>\n",
       "      <td>3</td>\n",
       "      <td>35</td>\n",
       "      <td>0</td>\n",
       "      <td>0</td>\n",
       "      <td>8.0500</td>\n",
       "      <td>0</td>\n",
       "      <td>0</td>\n",
       "      <td>2</td>\n",
       "      <td>4</td>\n",
       "    </tr>\n",
       "  </tbody>\n",
       "</table>\n",
       "</div>"
      ],
      "text/plain": [
       "   Survived  Pclass  Age  SibSp  Parch     Fare  Family_size  Sex_code  \\\n",
       "0         0       3   22      1      0   7.2500            1         0   \n",
       "1         1       1   38      1      0  71.2833            1         1   \n",
       "2         1       3   26      0      0   7.9250            0         1   \n",
       "3         1       1   35      1      0  53.1000            1         1   \n",
       "4         0       3   35      0      0   8.0500            0         0   \n",
       "\n",
       "   Embarked_code  Title_code  \n",
       "0              2           4  \n",
       "1              0           5  \n",
       "2              2           1  \n",
       "3              2           5  \n",
       "4              2           4  "
      ]
     },
     "execution_count": 27,
     "metadata": {},
     "output_type": "execute_result"
    }
   ],
   "source": [
    "train_df.head()"
   ]
  },
  {
   "cell_type": "markdown",
   "metadata": {},
   "source": [
    "## 2. Split Train/Test<a id=\"split\"></a>"
   ]
  },
  {
   "cell_type": "markdown",
   "metadata": {},
   "source": [
    "I first import the scikit-learn library which will help me perform the training. Then I use the same library to split the dataset into 20% test and 80% training."
   ]
  },
  {
   "cell_type": "code",
   "execution_count": 41,
   "metadata": {},
   "outputs": [],
   "source": [
    "import graphviz\n",
    "from sklearn import tree\n",
    "from sklearn import model_selection\n",
    "\n",
    "from IPython.display import Image  \n",
    "from sklearn.tree import export_graphviz\n",
    "import pydotplus"
   ]
  },
  {
   "cell_type": "code",
   "execution_count": 42,
   "metadata": {},
   "outputs": [],
   "source": [
    "labels = train_df.Survived\n",
    "features = train_df.drop([\"Survived\"], axis=1)"
   ]
  },
  {
   "cell_type": "code",
   "execution_count": 43,
   "metadata": {},
   "outputs": [],
   "source": [
    "X_train, X_test, y_train, y_test = model_selection.train_test_split(features, labels, test_size=0.2, random_state=42)"
   ]
  },
  {
   "cell_type": "code",
   "execution_count": 44,
   "metadata": {},
   "outputs": [
    {
     "name": "stdout",
     "output_type": "stream",
     "text": [
      "(891, 9) is the initial feature shape\n",
      "\n",
      "(712, 9) is the training shape\n",
      "(179, 9) is the test shape\n"
     ]
    }
   ],
   "source": [
    "print(\"{} is the initial feature shape\\n\".format(features.shape))\n",
    "print(\"{} is the training shape\".format(X_train.shape))\n",
    "print(\"{} is the test shape\".format(X_test.shape))"
   ]
  },
  {
   "cell_type": "markdown",
   "metadata": {},
   "source": [
    "## 3. First Rough Model<a id=\"first_model\"></a>"
   ]
  },
  {
   "cell_type": "markdown",
   "metadata": {},
   "source": [
    "For this first rough model, I let scikit decide of the three without providing any parameter."
   ]
  },
  {
   "cell_type": "code",
   "execution_count": 45,
   "metadata": {},
   "outputs": [],
   "source": [
    "clf = tree.DecisionTreeClassifier()\n",
    "clf = clf.fit(X_train, y_train)"
   ]
  },
  {
   "cell_type": "code",
   "execution_count": 46,
   "metadata": {},
   "outputs": [
    {
     "name": "stdout",
     "output_type": "stream",
     "text": [
      "Train accuracy: 98.88%\n",
      "Test accuracy: 79.89%\n",
      "Bias: 18.99\n"
     ]
    }
   ],
   "source": [
    "test_prediction = clf.predict(X_test)\n",
    "test_accuracy = sum(test_prediction == y_test.values)/len(test_prediction)*100\n",
    "\n",
    "train_prediction = clf.predict(X_train)\n",
    "train_accuracy = sum(train_prediction == y_train.values)/len(train_prediction)*100\n",
    "\n",
    "print(\"Train accuracy: {:.2f}%\".format(train_accuracy))\n",
    "print(\"Test accuracy: {:.2f}%\".format(test_accuracy))\n",
    "print(\"Bias: {:.2f}\".format(train_accuracy-test_accuracy))"
   ]
  },
  {
   "cell_type": "markdown",
   "metadata": {},
   "source": [
    "<p style=\"text-align:justify;\">As we can see we have a huge bias after testing our training. This mean that we overfitted the training dataset. Thus we will not perform very well if we try to submit a test prediction with this algorithm. I display the decision graph below to see how it looks. The algorithm clearly tries to find impossible correlations.<br> We need to improve the algorithm.</p>"
   ]
  },
  {
   "cell_type": "code",
   "execution_count": 47,
   "metadata": {},
   "outputs": [],
   "source": [
    "dot_data = tree.export_graphviz(clf, out_file=None, \n",
    "                         feature_names=features.columns.values,  \n",
    "                         class_names=[\"Died\", \"Survived\"],  \n",
    "                         filled=True, rounded=True,  \n",
    "                         special_characters=True)  "
   ]
  },
  {
   "cell_type": "markdown",
   "metadata": {},
   "source": [
    "<img src=\"images/first_tree.png\">"
   ]
  },
  {
   "cell_type": "markdown",
   "metadata": {},
   "source": [
    "## 4. Tuning the Algorithm<a id=\"tuning\"></a>"
   ]
  },
  {
   "cell_type": "markdown",
   "metadata": {},
   "source": [
    "There are two arguments that we can tweak to get better result in our learning using scikit-learn.\n",
    "\n",
    "<ul style=\"text-align:justify;\">\n",
    "    <li><b>max_depth:</b> The max_depth parameter denotes maximum depth of the tree. It can take any integer value or None. If None, then nodes are expanded until all leaves are pure or until all leaves contain less than min_samples_split samples. By default, it takes “None” value.</li>\n",
    "    <li><b>min_samples_leaf:</b> The minimum number of samples required to be at a leaf node. If an integer value is taken then consider min_samples_leaf as the minimum no. If float, then it shows percentage. By default, it takes “1” value.</li>\n",
    "</ul>"
   ]
  },
  {
   "cell_type": "code",
   "execution_count": 64,
   "metadata": {},
   "outputs": [
    {
     "name": "stdout",
     "output_type": "stream",
     "text": [
      "Train accuracy: 98.88%\n",
      "Test accuracy: 58.66%\n",
      "Bias: 40.22\n"
     ]
    },
    {
     "data": {
      "image/png": "[encoded data removed]",
      "text/plain": [
       "<IPython.core.display.Image object>"
      ]
     },
     "execution_count": 64,
     "metadata": {},
     "output_type": "execute_result"
    }
   ],
   "source": [
    "#for max_d in range(1,50):\n",
    "\n",
    "#for min_s in range()\n",
    "clf_entropy = tree.DecisionTreeClassifier(criterion=\"entropy\", min_samples_leaf=0.5)\n",
    "clf_entropy.fit(X_train, y_train)\n",
    "\n",
    "test_prediction = clf_entropy.predict(X_test)\n",
    "test_accuracy = sum(test_prediction == y_test.values)/len(test_prediction)*100\n",
    "\n",
    "train_prediction = clf.predict(X_train)\n",
    "train_accuracy = sum(train_prediction == y_train.values)/len(train_prediction)*100\n",
    "\n",
    "#print(\"\\n{}\".format(max_d))\n",
    "print(\"Train accuracy: {:.2f}%\".format(train_accuracy))\n",
    "print(\"Test accuracy: {:.2f}%\".format(test_accuracy))\n",
    "print(\"Bias: {:.2f}\".format(train_accuracy-test_accuracy))\n",
    "\n",
    "\n",
    "dot_data = tree.export_graphviz(clf_entropy, out_file=None, \n",
    "                         feature_names=features.columns.values,  \n",
    "                         class_names=[\"Died\", \"Survived\"],  \n",
    "                         filled=True, rounded=True,  \n",
    "                         special_characters=True)  \n",
    "graph = pydotplus.graph_from_dot_data(dot_data)  \n",
    "Image(graph.create_png())"
   ]
  },
  {
   "cell_type": "markdown",
   "metadata": {},
   "source": [
    "https://medium.com/@mohtedibf/indepth-parameter-tuning-for-decision-tree-6753118a03c3"
   ]
  },
  {
   "cell_type": "markdown",
   "metadata": {},
   "source": [
    "# IV - Conclusion<a id=\"conclusion\"></a>"
   ]
  },
  {
   "cell_type": "code",
   "execution_count": null,
   "metadata": {},
   "outputs": [],
   "source": []
  }
 ],
 "metadata": {
  "kernelspec": {
   "display_name": "Python 3",
   "language": "python",
   "name": "python3"
  },
  "language_info": {
   "codemirror_mode": {
    "name": "ipython",
    "version": 3
   },
   "file_extension": ".py",
   "mimetype": "text/x-python",
   "name": "python",
   "nbconvert_exporter": "python",
   "pygments_lexer": "ipython3",
   "version": "3.6.5"
  }
 },
 "nbformat": 4,
 "nbformat_minor": 2
}
