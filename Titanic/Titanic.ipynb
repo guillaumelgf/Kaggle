{
 "cells": [
  {
   "cell_type": "markdown",
   "metadata": {},
   "source": [
    "# Titanic: Machine Learning from desaster\n",
    "\n",
    "<ul>\n",
    "    <li><a href=\"#introduction\">I - Introduction</a></li>\n",
    "    <li><a href=\"#data_analysis\">II - Data analysis</a></li>\n",
    "    <ul>\n",
    "        <li><a href=\"#loading_datas\">1. Loading Datas</a></li>\n",
    "        <li><a href=\"#missing_datas\">2. Missing Datas</a></li>\n",
    "        <ul>\n",
    "            <li><a href=\"#general_overview\">2.1 General overview</a></li>\n",
    "            <li><a href=\"#age\">2.2 Age</a></li>\n",
    "            <li><a href=\"#embarked\">2.3 Embarked</a></li>\n",
    "        </ul>\n",
    "        <li><a href=\"#feature_engineering\">3. Feature Engineering</a></li>\n",
    "        <ul>\n",
    "            <li><a href=\"#name\">3.1 Convert the name</a></li>\n",
    "            <li><a href=\"#family_size\">3.2 Family size</a></li>\n",
    "            <li><a href=\"#object_features\">3.3 Object features</a></li>\n",
    "        </ul>\n",
    "        <li><a href=\"#corr\">4. Most Important Feature</a></li>\n",
    "    </ul>\n",
    "    <li><a href=\"#decision_tree\">III - Decision Tree Algorithm</a></li>\n",
    "    <ul>\n",
    "        <li><a href=\"#cleaning\">1. Last Cleaning</a></li>\n",
    "        <li><a href=\"#split\">2. Split Train/Test</a></li>\n",
    "        <li><a href=\"#first_model\">3. First Rough Model</a></li>\n",
    "        <li><a href=\"#tuning\">4. Tuning the Algorithm</a></li>\n",
    "    </ul>\n",
    "    <li><a href=\"#conclusion\">IV - Conclusion</a></li>\n",
    "</ul>\n",
    "\n",
    "# I-  Introduction<a id=\"introduction\"></a>\n",
    "\n",
    "### Goal\n",
    "\n",
    "It is your job to predict if a passenger survived the sinking of the Titanic or not.<br> \n",
    "For each PassengerId in the test set, you must predict a 0 or 1 value for the Survived variable.\n",
    "\n",
    "### Metric\n",
    "\n",
    "Your score is the percentage of passengers you correctly predict. This is known simply as \"accuracy”.\n",
    "\n",
    "### Submission File Format\n",
    "\n",
    "<p style=\"text-align:justify;\">You should submit a csv file with exactly 418 entries plus a header row. Your submission will show an error if you have extra columns (beyond PassengerId and Survived) or rows.</p>\n",
    "\n",
    "The file should have exactly 2 columns:\n",
    "<ul>\n",
    "    <li>PassengerId (sorted in any order)</li>\n",
    "    <li>Survived (contains your binary predictions: 1 for survived, 0 for deceased)</li>\n",
    "</ul>\n",
    "<div class=\"alert alert-info\">\n",
    "PassengerId,Survived<br>\n",
    "&nbsp;892,0<br>\n",
    "&nbsp;893,1<br>\n",
    "&nbsp;894,0<br>\n",
    "&nbsp;Etc.\n",
    "</div>        "
   ]
  },
  {
   "cell_type": "markdown",
   "metadata": {},
   "source": [
    "# II - Data Analysis<a id=\"data_analysis\"></a>\n",
    "\n",
    "## 1. Loading Datas<a id=\"loading_datas\"></a>\n",
    "\n",
    "First I import the libraries necessary for data analysis.\n",
    "<ul>\n",
    "    <li><u>Pandas:</u> It is a very usefull library for machine learning. It provides very powerfull datastructures and data analysis tools for Python.</li>\n",
    "    <li><p style=\"text-align:justify;\"><u>Matplotlib & Seaborn:</u> I use these two libraries in combination so I can display interesting graphs to show correlations amoung the different features. Matplotlib and seaborn offer a great diversity of graphs and are very oftenly used in Python projects.</p></li>\n",
    "</ul>\n",
    "\n",
    "<p style=\"text-align:justify;\">After importing the libraries, I used pandas to load the traininng (train_df) and test (test_df) datasets. df stands for dataframe which is the format used by the pandas library to manipulate datas. I then created two other variables combining the training and test datasets. I will use full_datas to quickly make modifications on both datasets at the same time during pre-processing. full_datas_df will be used for quick data visualisation as it still is a dataframe.</p>"
   ]
  },
  {
   "cell_type": "code",
   "execution_count": 2,
   "metadata": {},
   "outputs": [],
   "source": [
    "import pandas as pd\n",
    "import matplotlib.pyplot as plt\n",
    "import seaborn as sns\n",
    "import numpy as np\n",
    "from sklearn.preprocessing import LabelEncoder\n",
    "\n",
    "import scipy.stats as st"
   ]
  },
  {
   "cell_type": "code",
   "execution_count": 3,
   "metadata": {},
   "outputs": [],
   "source": [
    "train_df = pd.read_csv(\"datas/train.csv\")\n",
    "test_df = pd.read_csv(\"datas/test.csv\")"
   ]
  },
  {
   "cell_type": "code",
   "execution_count": 4,
   "metadata": {},
   "outputs": [
    {
     "data": {
      "text/html": [
       "<div>\n",
       "<style scoped>\n",
       "    .dataframe tbody tr th:only-of-type {\n",
       "        vertical-align: middle;\n",
       "    }\n",
       "\n",
       "    .dataframe tbody tr th {\n",
       "        vertical-align: top;\n",
       "    }\n",
       "\n",
       "    .dataframe thead th {\n",
       "        text-align: right;\n",
       "    }\n",
       "</style>\n",
       "<table border=\"1\" class=\"dataframe\">\n",
       "  <thead>\n",
       "    <tr style=\"text-align: right;\">\n",
       "      <th></th>\n",
       "      <th>PassengerId</th>\n",
       "      <th>Survived</th>\n",
       "      <th>Pclass</th>\n",
       "      <th>Name</th>\n",
       "      <th>Sex</th>\n",
       "      <th>Age</th>\n",
       "      <th>SibSp</th>\n",
       "      <th>Parch</th>\n",
       "      <th>Ticket</th>\n",
       "      <th>Fare</th>\n",
       "      <th>Cabin</th>\n",
       "      <th>Embarked</th>\n",
       "    </tr>\n",
       "  </thead>\n",
       "  <tbody>\n",
       "    <tr>\n",
       "      <th>0</th>\n",
       "      <td>1</td>\n",
       "      <td>0</td>\n",
       "      <td>3</td>\n",
       "      <td>Braund, Mr. Owen Harris</td>\n",
       "      <td>male</td>\n",
       "      <td>22.0</td>\n",
       "      <td>1</td>\n",
       "      <td>0</td>\n",
       "      <td>A/5 21171</td>\n",
       "      <td>7.2500</td>\n",
       "      <td>NaN</td>\n",
       "      <td>S</td>\n",
       "    </tr>\n",
       "    <tr>\n",
       "      <th>1</th>\n",
       "      <td>2</td>\n",
       "      <td>1</td>\n",
       "      <td>1</td>\n",
       "      <td>Cumings, Mrs. John Bradley (Florence Briggs Th...</td>\n",
       "      <td>female</td>\n",
       "      <td>38.0</td>\n",
       "      <td>1</td>\n",
       "      <td>0</td>\n",
       "      <td>PC 17599</td>\n",
       "      <td>71.2833</td>\n",
       "      <td>C85</td>\n",
       "      <td>C</td>\n",
       "    </tr>\n",
       "    <tr>\n",
       "      <th>2</th>\n",
       "      <td>3</td>\n",
       "      <td>1</td>\n",
       "      <td>3</td>\n",
       "      <td>Heikkinen, Miss. Laina</td>\n",
       "      <td>female</td>\n",
       "      <td>26.0</td>\n",
       "      <td>0</td>\n",
       "      <td>0</td>\n",
       "      <td>STON/O2. 3101282</td>\n",
       "      <td>7.9250</td>\n",
       "      <td>NaN</td>\n",
       "      <td>S</td>\n",
       "    </tr>\n",
       "    <tr>\n",
       "      <th>3</th>\n",
       "      <td>4</td>\n",
       "      <td>1</td>\n",
       "      <td>1</td>\n",
       "      <td>Futrelle, Mrs. Jacques Heath (Lily May Peel)</td>\n",
       "      <td>female</td>\n",
       "      <td>35.0</td>\n",
       "      <td>1</td>\n",
       "      <td>0</td>\n",
       "      <td>113803</td>\n",
       "      <td>53.1000</td>\n",
       "      <td>C123</td>\n",
       "      <td>S</td>\n",
       "    </tr>\n",
       "    <tr>\n",
       "      <th>4</th>\n",
       "      <td>5</td>\n",
       "      <td>0</td>\n",
       "      <td>3</td>\n",
       "      <td>Allen, Mr. William Henry</td>\n",
       "      <td>male</td>\n",
       "      <td>35.0</td>\n",
       "      <td>0</td>\n",
       "      <td>0</td>\n",
       "      <td>373450</td>\n",
       "      <td>8.0500</td>\n",
       "      <td>NaN</td>\n",
       "      <td>S</td>\n",
       "    </tr>\n",
       "  </tbody>\n",
       "</table>\n",
       "</div>"
      ],
      "text/plain": [
       "   PassengerId  Survived  Pclass  \\\n",
       "0            1         0       3   \n",
       "1            2         1       1   \n",
       "2            3         1       3   \n",
       "3            4         1       1   \n",
       "4            5         0       3   \n",
       "\n",
       "                                                Name     Sex   Age  SibSp  \\\n",
       "0                            Braund, Mr. Owen Harris    male  22.0      1   \n",
       "1  Cumings, Mrs. John Bradley (Florence Briggs Th...  female  38.0      1   \n",
       "2                             Heikkinen, Miss. Laina  female  26.0      0   \n",
       "3       Futrelle, Mrs. Jacques Heath (Lily May Peel)  female  35.0      1   \n",
       "4                           Allen, Mr. William Henry    male  35.0      0   \n",
       "\n",
       "   Parch            Ticket     Fare Cabin Embarked  \n",
       "0      0         A/5 21171   7.2500   NaN        S  \n",
       "1      0          PC 17599  71.2833   C85        C  \n",
       "2      0  STON/O2. 3101282   7.9250   NaN        S  \n",
       "3      0            113803  53.1000  C123        S  \n",
       "4      0            373450   8.0500   NaN        S  "
      ]
     },
     "metadata": {},
     "output_type": "display_data"
    },
    {
     "name": "stdout",
     "output_type": "stream",
     "text": [
      "The shape of the train dataset is (891, 12)\n",
      "The shape of the test datasset is (418, 11)\n"
     ]
    }
   ],
   "source": [
    "display(train_df.head())\n",
    "print(\"The shape of the train dataset is {}\".format(train_df.shape))\n",
    "print(\"The shape of the test datasset is {}\".format(test_df.shape))"
   ]
  },
  {
   "cell_type": "markdown",
   "metadata": {},
   "source": [
    "<p style=\"text-align:justify;\">The train dataset contains 891 passengers, the test dataset contains 418 passengers. We have access to 11 features to predict weither the passenger is going to survive or not. The train dataset also contains the label of the data: \"Survived\". This feature can either be 0 for died or 1 for survived.</p>\n",
    "\n",
    "By looking at the Kaggle website, we get a description of each feature.\n",
    "\n",
    "<table>\n",
    "<tbody>\n",
    "<tr><th><b>Variable</b></th><th><b>Definition</b></th><th><b>Key</b></th></tr>\n",
    "<tr>\n",
    "<td>survival</td>\n",
    "<td>Survival</td>\n",
    "<td>0 = No, 1 = Yes</td>\n",
    "</tr>\n",
    "<tr>\n",
    "<td>pclass</td>\n",
    "<td>Ticket class</td>\n",
    "<td>1 = 1st, 2 = 2nd, 3 = 3rd</td>\n",
    "</tr>\n",
    "<tr>\n",
    "<td>sex</td>\n",
    "<td>Sex</td>\n",
    "<td></td>\n",
    "</tr>\n",
    "<tr>\n",
    "<td>Age</td>\n",
    "<td>Age in years</td>\n",
    "<td></td>\n",
    "</tr>\n",
    "<tr>\n",
    "<td>sibsp</td>\n",
    "<td># of siblings / spouses aboard the Titanic</td>\n",
    "<td></td>\n",
    "</tr>\n",
    "<tr>\n",
    "<td>parch</td>\n",
    "<td># of parents / children aboard the Titanic</td>\n",
    "<td></td>\n",
    "</tr>\n",
    "<tr>\n",
    "<td>ticket</td>\n",
    "<td>Ticket number</td>\n",
    "<td></td>\n",
    "</tr>\n",
    "<tr>\n",
    "<td>fare</td>\n",
    "<td>Passenger fare</td>\n",
    "<td></td>\n",
    "</tr>\n",
    "<tr>\n",
    "<td>cabin</td>\n",
    "<td>Cabin number</td>\n",
    "<td></td>\n",
    "</tr>\n",
    "<tr>\n",
    "<td>embarked</td>\n",
    "<td>Port of Embarkation</td>\n",
    "<td>C = Cherbourg, Q = Queenstown, S = Southampton</td>\n",
    "</tr>\n",
    "</tbody>\n",
    "</table>\n",
    "\n",
    "<p style=\"text-align:justify;\">I decided to drop the PassengerId, because I am sure that including this feature will only reduce the performances of the classification algorithm. I also dropped the Ticket feature as the pre-processing for this feature seems too hard for the importance it has.</p>"
   ]
  },
  {
   "cell_type": "code",
   "execution_count": 5,
   "metadata": {},
   "outputs": [],
   "source": [
    "train_df.drop([\"PassengerId\", \"Ticket\"], axis=1, inplace=True)\n",
    "test_df.drop([\"PassengerId\", \"Ticket\"], axis=1, inplace=True)"
   ]
  },
  {
   "cell_type": "markdown",
   "metadata": {},
   "source": [
    "## 2. Missing Datas<a id=\"missing_datas\"></a>\n",
    "\n",
    "### 2.1 General overview<a id=\"general_overview\"></a>\n",
    "\n",
    "Let's see how many missing datas there are in our datasets. The following table displays the percentage of missing datas for each features."
   ]
  },
  {
   "cell_type": "code",
   "execution_count": 6,
   "metadata": {},
   "outputs": [
    {
     "data": {
      "text/html": [
       "<div>\n",
       "<style scoped>\n",
       "    .dataframe tbody tr th:only-of-type {\n",
       "        vertical-align: middle;\n",
       "    }\n",
       "\n",
       "    .dataframe tbody tr th {\n",
       "        vertical-align: top;\n",
       "    }\n",
       "\n",
       "    .dataframe thead th {\n",
       "        text-align: right;\n",
       "    }\n",
       "</style>\n",
       "<table border=\"1\" class=\"dataframe\">\n",
       "  <thead>\n",
       "    <tr style=\"text-align: right;\">\n",
       "      <th></th>\n",
       "      <th>Train missing</th>\n",
       "      <th>Test missing</th>\n",
       "    </tr>\n",
       "  </thead>\n",
       "  <tbody>\n",
       "    <tr>\n",
       "      <th>Cabin</th>\n",
       "      <td>77.104377</td>\n",
       "      <td>36.700337</td>\n",
       "    </tr>\n",
       "    <tr>\n",
       "      <th>Age</th>\n",
       "      <td>19.865320</td>\n",
       "      <td>9.652076</td>\n",
       "    </tr>\n",
       "    <tr>\n",
       "      <th>Embarked</th>\n",
       "      <td>0.224467</td>\n",
       "      <td>0.000000</td>\n",
       "    </tr>\n",
       "    <tr>\n",
       "      <th>Fare</th>\n",
       "      <td>0.000000</td>\n",
       "      <td>0.112233</td>\n",
       "    </tr>\n",
       "  </tbody>\n",
       "</table>\n",
       "</div>"
      ],
      "text/plain": [
       "          Train missing  Test missing\n",
       "Cabin         77.104377     36.700337\n",
       "Age           19.865320      9.652076\n",
       "Embarked       0.224467      0.000000\n",
       "Fare           0.000000      0.112233"
      ]
     },
     "metadata": {},
     "output_type": "display_data"
    },
    {
     "name": "stdout",
     "output_type": "stream",
     "text": [
      "these 4 features have missing datas.\n"
     ]
    }
   ],
   "source": [
    "missing_train = train_df.isnull().sum()/len(train_df)*100\n",
    "missing_test = test_df.isnull().sum()/len(train_df)*100\n",
    "\n",
    "missings = pd.concat([missing_train, missing_test], axis=1, keys=[\"Train missing\", \"Test missing\"]).sort_values(\"Train missing\", ascending=False)\n",
    "fm = missings[missings.gt(0).any(axis=1)]\n",
    "display(fm)\n",
    "print(\"these {} features have missing datas.\".format(len(fm)))"
   ]
  },
  {
   "cell_type": "markdown",
   "metadata": {},
   "source": [
    "<p style=\"text-align:justify;\">I then decided to drop the Cabin feature, because it has more than 20% of missing features. The age carries too much information to be dropped and the other features can be completed easily.</p>"
   ]
  },
  {
   "cell_type": "code",
   "execution_count": 7,
   "metadata": {},
   "outputs": [
    {
     "name": "stdout",
     "output_type": "stream",
     "text": [
      "The Cabin feature was dropped because it does not carry enought information.\n"
     ]
    }
   ],
   "source": [
    "for index in missing_train[missing_train>20].index:\n",
    "    train_df.drop(index, axis=1, inplace=True)\n",
    "    test_df.drop(index, axis=1, inplace=True)\n",
    "    print(\"The {} feature was dropped because it does not carry enought information.\".format(index))"
   ]
  },
  {
   "cell_type": "markdown",
   "metadata": {},
   "source": [
    "Now let's analyse each feature with missing datas one by one."
   ]
  },
  {
   "cell_type": "markdown",
   "metadata": {},
   "source": [
    "### 2.2 Age<a id=\"age\"></a>\n",
    "Let's plot the number of passenger who survived and those who died according to their age."
   ]
  },
  {
   "cell_type": "code",
   "execution_count": 19,
   "metadata": {},
   "outputs": [
    {
     "data": {
      "image/png": "[encoded data removed]",
      "text/plain": [
       "<matplotlib.figure.Figure at 0x200f2cf35c0>"
      ]
     },
     "metadata": {},
     "output_type": "display_data"
    }
   ],
   "source": [
    "sns.distplot(train_df[train_df[\"Survived\"] == 1][\"Age\"].dropna())\n",
    "sns.distplot(train_df[train_df[\"Survived\"] == 0][\"Age\"].dropna())\n",
    "plt.show()"
   ]
  },
  {
   "cell_type": "markdown",
   "metadata": {},
   "source": [
    "<p style=\"text-align:justify\">From this graph, we can see that there is a very small correlation between the age of the passenger and its chances of survival. We will complete the Age feature but it does not carry a lot of valuable information.</p>\n",
    "\n",
    "I used a random function to select ages wich are common ages for the dataset."
   ]
  },
  {
   "cell_type": "code",
   "execution_count": 9,
   "metadata": {
    "scrolled": true
   },
   "outputs": [
    {
     "name": "stderr",
     "output_type": "stream",
     "text": [
      "C:\\Users\\roland\\AppData\\Roaming\\Python\\Python36\\site-packages\\ipykernel_launcher.py:6: SettingWithCopyWarning: \n",
      "A value is trying to be set on a copy of a slice from a DataFrame\n",
      "\n",
      "See the caveats in the documentation: http://pandas.pydata.org/pandas-docs/stable/indexing.html#indexing-view-versus-copy\n",
      "  \n"
     ]
    }
   ],
   "source": [
    "for dataset in (train_df, test_df):\n",
    "    age_avg = dataset['Age'].mean()\n",
    "    age_std = dataset['Age'].std()\n",
    "    age_null_count = dataset['Age'].isnull().sum()\n",
    "    age_null_random_list = np.random.randint(age_avg - age_std, age_avg + age_std, size=age_null_count)\n",
    "    dataset['Age'][np.isnan(dataset['Age'])] = age_null_random_list\n",
    "    dataset['Age'] = dataset['Age'].astype(int)"
   ]
  },
  {
   "cell_type": "markdown",
   "metadata": {},
   "source": [
    "### 2.3 Embarked and Fare<a id=\"embarked\"></a>\n",
    "<p style=\"text-align:justify\">There are only 2 missing datas for Embarked and 1 missing for Fare. I decided to use two different, but very simple technics to fill these missing datas. As it is a Numerical Continuous feature, I replaced the missing data of the fare by the median value for the train dataset. I replaced the two missing Embarked features with the top value for this feature.</p>"
   ]
  },
  {
   "cell_type": "code",
   "execution_count": 10,
   "metadata": {},
   "outputs": [],
   "source": [
    "train_df[\"Embarked\"] = train_df[\"Embarked\"].fillna(train_df[\"Embarked\"].describe().top)\n",
    "test_df[\"Embarked\"] = test_df[\"Embarked\"].fillna(test_df[\"Embarked\"].describe().top)"
   ]
  },
  {
   "cell_type": "code",
   "execution_count": 11,
   "metadata": {},
   "outputs": [],
   "source": [
    "test_df[\"Fare\"] = test_df[\"Fare\"].fillna(test_df[\"Fare\"].median)"
   ]
  },
  {
   "cell_type": "markdown",
   "metadata": {},
   "source": [
    "With a complete dataset to work with, I can now do some pre-processing."
   ]
  },
  {
   "cell_type": "markdown",
   "metadata": {},
   "source": [
    "## 3. Feature engineering<a id=\"feature_engineering\"></a>\n",
    "\n",
    "### 3.1 Convert the name<a id=\"name\"></a>\n",
    "\n",
    "<p style=\"text-align:justify\">We can extract interesting informations from the name of the passengers. I decided to extract the title of each person using a RegEx expression. Right after doing that, I made a couple of scripts to see the repartition of this feature.</p>"
   ]
  },
  {
   "cell_type": "code",
   "execution_count": 12,
   "metadata": {},
   "outputs": [
    {
     "name": "stdout",
     "output_type": "stream",
     "text": [
      "Percentage of the title in train dataset:\n",
      "Mr        57.416268\n",
      "Miss      18.660287\n",
      "Mrs       17.224880\n",
      "Master     5.023923\n",
      "Rev        0.478469\n",
      "Col        0.478469\n",
      "Ms         0.239234\n",
      "Dona       0.239234\n",
      "Dr         0.239234\n",
      "Name: Title, dtype: float64\n",
      "\n",
      "Percentage of the title in test dataset:\n",
      "Mr          58.024691\n",
      "Miss        20.426487\n",
      "Mrs         14.029181\n",
      "Master       4.489338\n",
      "Dr           0.785634\n",
      "Rev          0.673401\n",
      "Major        0.224467\n",
      "Mlle         0.224467\n",
      "Col          0.224467\n",
      "Sir          0.112233\n",
      "Ms           0.112233\n",
      "Mme          0.112233\n",
      "Don          0.112233\n",
      "Lady         0.112233\n",
      "Countess     0.112233\n",
      "Jonkheer     0.112233\n",
      "Capt         0.112233\n",
      "Name: Title, dtype: float64\n",
      "\n",
      "This titles are present in train but not in test:\n",
      "{'Countess', 'Jonkheer', 'Capt', 'Sir', 'Don', 'Major', 'Mlle', 'Lady', 'Mme'}\n"
     ]
    }
   ],
   "source": [
    "train_df['Title'] = train_df.Name.str.extract(' ([A-Za-z]+)\\.', expand=False)\n",
    "test_df['Title'] = test_df.Name.str.extract(' ([A-Za-z]+)\\.', expand=False)\n",
    "\n",
    "print(\"Percentage of the title in train dataset:\")\n",
    "print(test_df['Title'].value_counts()/test_df[\"Title\"].count()*100)\n",
    "print(\"\\nPercentage of the title in test dataset:\")\n",
    "print(train_df['Title'].value_counts()/train_df[\"Title\"].count()*100)\n",
    "\n",
    "print(\"\\nThis titles are present in train but not in test:\")\n",
    "print(set(train_df[\"Title\"]) - set(test_df[\"Title\"]))"
   ]
  },
  {
   "cell_type": "markdown",
   "metadata": {},
   "source": [
    "<p style=\"text-align:justify;\">The information to get from this analysis is that all titles are not interesting for survival prediction. Indeed we can see that some of the titles present in the train dataset are not in the test dataset. Thus they are not usefull for the prediction. We also need to get rid of the titles which represent less than 10% of the dataset. The sample corresponding to these titles are not big enought to be significant.</p>\n",
    "\n",
    "<p style=\"text-align:justify;\">The simmilar titles are merged such as \"Mlle\" and \"Miss\". And all the titles that are not usefull are coombined into one single title: \"Rare\". Then we have no more information to extract from the name feature so I drop it.</p>"
   ]
  },
  {
   "cell_type": "code",
   "execution_count": 13,
   "metadata": {},
   "outputs": [],
   "source": [
    "for dataset in (train_df, test_df):\n",
    "    dataset['Title'] = dataset['Title'].replace(['Lady', 'Countess','Capt', 'Col','Don', 'Dr', 'Major', 'Rev', 'Sir', 'Jonkheer', 'Dona', 'Master'], 'Rare')\n",
    "    dataset['Title'] = dataset['Title'].replace('Mlle', 'Miss')\n",
    "    dataset['Title'] = dataset['Title'].replace('Ms', 'Miss')\n",
    "    dataset['Title'] = dataset['Title'].replace('Mme', 'Mrs')\n",
    "    dataset.drop([\"Name\"], axis=1, inplace=True)"
   ]
  },
  {
   "cell_type": "markdown",
   "metadata": {},
   "source": [
    "Here are the final titles and there presence in the dataset in percentage."
   ]
  },
  {
   "cell_type": "code",
   "execution_count": 14,
   "metadata": {},
   "outputs": [
    {
     "data": {
      "text/plain": [
       "Mr      757\n",
       "Miss    264\n",
       "Mrs     198\n",
       "Rare     90\n",
       "Name: Title, dtype: int64"
      ]
     },
     "execution_count": 14,
     "metadata": {},
     "output_type": "execute_result"
    }
   ],
   "source": [
    "title_df = pd.concat([train_df, test_df])\n",
    "title_df[\"Title\"].value_counts()"
   ]
  },
  {
   "cell_type": "markdown",
   "metadata": {},
   "source": [
    "### 3.2 Family sizes<a id=\"family_size\"></a>"
   ]
  },
  {
   "cell_type": "markdown",
   "metadata": {},
   "source": [
    "Let's build a new feature using both SibSp and Parch and create a number which represents the number of members in the families of each passenger."
   ]
  },
  {
   "cell_type": "code",
   "execution_count": 15,
   "metadata": {},
   "outputs": [
    {
     "data": {
      "text/html": [
       "<div>\n",
       "<style scoped>\n",
       "    .dataframe tbody tr th:only-of-type {\n",
       "        vertical-align: middle;\n",
       "    }\n",
       "\n",
       "    .dataframe tbody tr th {\n",
       "        vertical-align: top;\n",
       "    }\n",
       "\n",
       "    .dataframe thead th {\n",
       "        text-align: right;\n",
       "    }\n",
       "</style>\n",
       "<table border=\"1\" class=\"dataframe\">\n",
       "  <thead>\n",
       "    <tr style=\"text-align: right;\">\n",
       "      <th></th>\n",
       "      <th>Pclass</th>\n",
       "      <th>Sex</th>\n",
       "      <th>Age</th>\n",
       "      <th>SibSp</th>\n",
       "      <th>Parch</th>\n",
       "      <th>Fare</th>\n",
       "      <th>Embarked</th>\n",
       "      <th>Title</th>\n",
       "      <th>Family_size</th>\n",
       "    </tr>\n",
       "  </thead>\n",
       "  <tbody>\n",
       "    <tr>\n",
       "      <th>0</th>\n",
       "      <td>3</td>\n",
       "      <td>male</td>\n",
       "      <td>34</td>\n",
       "      <td>0</td>\n",
       "      <td>0</td>\n",
       "      <td>7.8292</td>\n",
       "      <td>Q</td>\n",
       "      <td>Mr</td>\n",
       "      <td>1</td>\n",
       "    </tr>\n",
       "    <tr>\n",
       "      <th>1</th>\n",
       "      <td>3</td>\n",
       "      <td>female</td>\n",
       "      <td>47</td>\n",
       "      <td>1</td>\n",
       "      <td>0</td>\n",
       "      <td>7</td>\n",
       "      <td>S</td>\n",
       "      <td>Mrs</td>\n",
       "      <td>2</td>\n",
       "    </tr>\n",
       "    <tr>\n",
       "      <th>2</th>\n",
       "      <td>2</td>\n",
       "      <td>male</td>\n",
       "      <td>62</td>\n",
       "      <td>0</td>\n",
       "      <td>0</td>\n",
       "      <td>9.6875</td>\n",
       "      <td>Q</td>\n",
       "      <td>Mr</td>\n",
       "      <td>1</td>\n",
       "    </tr>\n",
       "    <tr>\n",
       "      <th>3</th>\n",
       "      <td>3</td>\n",
       "      <td>male</td>\n",
       "      <td>27</td>\n",
       "      <td>0</td>\n",
       "      <td>0</td>\n",
       "      <td>8.6625</td>\n",
       "      <td>S</td>\n",
       "      <td>Mr</td>\n",
       "      <td>1</td>\n",
       "    </tr>\n",
       "    <tr>\n",
       "      <th>4</th>\n",
       "      <td>3</td>\n",
       "      <td>female</td>\n",
       "      <td>22</td>\n",
       "      <td>1</td>\n",
       "      <td>1</td>\n",
       "      <td>12.2875</td>\n",
       "      <td>S</td>\n",
       "      <td>Mrs</td>\n",
       "      <td>3</td>\n",
       "    </tr>\n",
       "  </tbody>\n",
       "</table>\n",
       "</div>"
      ],
      "text/plain": [
       "   Pclass     Sex  Age  SibSp  Parch     Fare Embarked Title  Family_size\n",
       "0       3    male   34      0      0   7.8292        Q    Mr            1\n",
       "1       3  female   47      1      0        7        S   Mrs            2\n",
       "2       2    male   62      0      0   9.6875        Q    Mr            1\n",
       "3       3    male   27      0      0   8.6625        S    Mr            1\n",
       "4       3  female   22      1      1  12.2875        S   Mrs            3"
      ]
     },
     "execution_count": 15,
     "metadata": {},
     "output_type": "execute_result"
    }
   ],
   "source": [
    "train_df[\"Family_size\"] = train_df[\"SibSp\"] + train_df[\"Parch\"] + 1\n",
    "test_df[\"Family_size\"] = test_df[\"SibSp\"] + test_df[\"Parch\"] + 1\n",
    "test_df.head()"
   ]
  },
  {
   "cell_type": "code",
   "execution_count": 16,
   "metadata": {
    "scrolled": false
   },
   "outputs": [
    {
     "data": {
      "image/png": "[encoded data removed]",
      "text/plain": [
       "<matplotlib.figure.Figure at 0x234de5442e8>"
      ]
     },
     "metadata": {},
     "output_type": "display_data"
    }
   ],
   "source": [
    "sns.countplot(x = \"Family_size\", hue = \"Survived\", data=train_df)\n",
    "plt.show()"
   ]
  },
  {
   "cell_type": "markdown",
   "metadata": {},
   "source": [
    "<p style=\"text-align:justify;\">We can clearly see from the graph above that this feature as an impact on the chances of survival of the passengers. From this graph, I decided to create 3 bins of family sizes: </p>\n",
    "<ul>\n",
    "    <li>Family_size == 1</li>\n",
    "    <li>Family_size > 1 && Family_size < 5</li>\n",
    "    <li>Family_size > 4</li>\n",
    "</ul>"
   ]
  },
  {
   "cell_type": "code",
   "execution_count": 17,
   "metadata": {},
   "outputs": [],
   "source": [
    "for dataset in (train_df, test_df):\n",
    "    dataset.loc[dataset['Family_size'] == 1, 'Family_size'] = 0\n",
    "    dataset.loc[(dataset['Family_size'] > 1) & (dataset['Family_size'] < 5), 'Family_size'] = 1\n",
    "    dataset.loc[dataset['Family_size'] > 4, 'Family_size'] = 2"
   ]
  },
  {
   "cell_type": "code",
   "execution_count": 18,
   "metadata": {},
   "outputs": [
    {
     "data": {
      "text/html": [
       "<div>\n",
       "<style scoped>\n",
       "    .dataframe tbody tr th:only-of-type {\n",
       "        vertical-align: middle;\n",
       "    }\n",
       "\n",
       "    .dataframe tbody tr th {\n",
       "        vertical-align: top;\n",
       "    }\n",
       "\n",
       "    .dataframe thead th {\n",
       "        text-align: right;\n",
       "    }\n",
       "</style>\n",
       "<table border=\"1\" class=\"dataframe\">\n",
       "  <thead>\n",
       "    <tr style=\"text-align: right;\">\n",
       "      <th></th>\n",
       "      <th>Survived</th>\n",
       "      <th>Pclass</th>\n",
       "      <th>Sex</th>\n",
       "      <th>Age</th>\n",
       "      <th>SibSp</th>\n",
       "      <th>Parch</th>\n",
       "      <th>Fare</th>\n",
       "      <th>Embarked</th>\n",
       "      <th>Title</th>\n",
       "      <th>Family_size</th>\n",
       "    </tr>\n",
       "  </thead>\n",
       "  <tbody>\n",
       "    <tr>\n",
       "      <th>0</th>\n",
       "      <td>0</td>\n",
       "      <td>3</td>\n",
       "      <td>male</td>\n",
       "      <td>22</td>\n",
       "      <td>1</td>\n",
       "      <td>0</td>\n",
       "      <td>7.2500</td>\n",
       "      <td>S</td>\n",
       "      <td>Mr</td>\n",
       "      <td>1</td>\n",
       "    </tr>\n",
       "    <tr>\n",
       "      <th>1</th>\n",
       "      <td>1</td>\n",
       "      <td>1</td>\n",
       "      <td>female</td>\n",
       "      <td>38</td>\n",
       "      <td>1</td>\n",
       "      <td>0</td>\n",
       "      <td>71.2833</td>\n",
       "      <td>C</td>\n",
       "      <td>Mrs</td>\n",
       "      <td>1</td>\n",
       "    </tr>\n",
       "    <tr>\n",
       "      <th>2</th>\n",
       "      <td>1</td>\n",
       "      <td>3</td>\n",
       "      <td>female</td>\n",
       "      <td>26</td>\n",
       "      <td>0</td>\n",
       "      <td>0</td>\n",
       "      <td>7.9250</td>\n",
       "      <td>S</td>\n",
       "      <td>Miss</td>\n",
       "      <td>0</td>\n",
       "    </tr>\n",
       "    <tr>\n",
       "      <th>3</th>\n",
       "      <td>1</td>\n",
       "      <td>1</td>\n",
       "      <td>female</td>\n",
       "      <td>35</td>\n",
       "      <td>1</td>\n",
       "      <td>0</td>\n",
       "      <td>53.1000</td>\n",
       "      <td>S</td>\n",
       "      <td>Mrs</td>\n",
       "      <td>1</td>\n",
       "    </tr>\n",
       "    <tr>\n",
       "      <th>4</th>\n",
       "      <td>0</td>\n",
       "      <td>3</td>\n",
       "      <td>male</td>\n",
       "      <td>35</td>\n",
       "      <td>0</td>\n",
       "      <td>0</td>\n",
       "      <td>8.0500</td>\n",
       "      <td>S</td>\n",
       "      <td>Mr</td>\n",
       "      <td>0</td>\n",
       "    </tr>\n",
       "  </tbody>\n",
       "</table>\n",
       "</div>"
      ],
      "text/plain": [
       "   Survived  Pclass     Sex  Age  SibSp  Parch     Fare Embarked Title  \\\n",
       "0         0       3    male   22      1      0   7.2500        S    Mr   \n",
       "1         1       1  female   38      1      0  71.2833        C   Mrs   \n",
       "2         1       3  female   26      0      0   7.9250        S  Miss   \n",
       "3         1       1  female   35      1      0  53.1000        S   Mrs   \n",
       "4         0       3    male   35      0      0   8.0500        S    Mr   \n",
       "\n",
       "   Family_size  \n",
       "0            1  \n",
       "1            1  \n",
       "2            0  \n",
       "3            1  \n",
       "4            0  "
      ]
     },
     "execution_count": 18,
     "metadata": {},
     "output_type": "execute_result"
    }
   ],
   "source": [
    "train_df.head()"
   ]
  },
  {
   "cell_type": "markdown",
   "metadata": {},
   "source": [
    "### 3.3 Object features<a id=\"object_features\"></a>\n",
    "We need to convert the datas we now have to be able to feed them into a classification algorithm. Let's first take a look at the different types of data we have."
   ]
  },
  {
   "cell_type": "code",
   "execution_count": 19,
   "metadata": {},
   "outputs": [
    {
     "name": "stdout",
     "output_type": "stream",
     "text": [
      "<class 'pandas.core.frame.DataFrame'>\n",
      "RangeIndex: 418 entries, 0 to 417\n",
      "Data columns (total 9 columns):\n",
      "Pclass         418 non-null int64\n",
      "Sex            418 non-null object\n",
      "Age            418 non-null int32\n",
      "SibSp          418 non-null int64\n",
      "Parch          418 non-null int64\n",
      "Fare           418 non-null object\n",
      "Embarked       418 non-null object\n",
      "Title          418 non-null object\n",
      "Family_size    418 non-null int64\n",
      "dtypes: int32(1), int64(4), object(4)\n",
      "memory usage: 27.8+ KB\n"
     ]
    },
    {
     "data": {
      "text/plain": [
       "None"
      ]
     },
     "metadata": {},
     "output_type": "display_data"
    },
    {
     "data": {
      "text/plain": [
       "{'Embarked', 'Sex', 'Title'}"
      ]
     },
     "metadata": {},
     "output_type": "display_data"
    },
    {
     "name": "stdout",
     "output_type": "stream",
     "text": [
      "There are 3 features to vonvert.\n"
     ]
    }
   ],
   "source": [
    "display(test_df.info())\n",
    "obj_features = set([col for col in train_df.columns if train_df[col].dtype == \"object\"])\n",
    "display(obj_features)\n",
    "print(\"There are {} features to vonvert.\".format(len(obj_features)))"
   ]
  },
  {
   "cell_type": "code",
   "execution_count": 20,
   "metadata": {},
   "outputs": [
    {
     "data": {
      "image/png": "[encoded data removed]",
      "text/plain": [
       "<matplotlib.figure.Figure at 0x234de580940>"
      ]
     },
     "metadata": {},
     "output_type": "display_data"
    }
   ],
   "source": [
    "plt.figure(figsize=(8,8))\n",
    "sns.barplot(x=\"Sex\", y=\"Survived\", data=train_df)\n",
    "plt.show()"
   ]
  },
  {
   "cell_type": "markdown",
   "metadata": {},
   "source": [
    "<p style=\"text-align:justify;\">We can see in this figure that you have better chances of survival when you are a female than a male. Thus this feature is ordinal and can be converted as follow.</p>"
   ]
  },
  {
   "cell_type": "code",
   "execution_count": 21,
   "metadata": {},
   "outputs": [
    {
     "data": {
      "image/png": "[encoded data removed]",
      "text/plain": [
       "<matplotlib.figure.Figure at 0x234de5a9470>"
      ]
     },
     "metadata": {},
     "output_type": "display_data"
    }
   ],
   "source": [
    "plt.figure(figsize=(8,8))\n",
    "sns.barplot(x=\"Embarked\", y=\"Survived\", data=train_df)\n",
    "plt.show()"
   ]
  },
  {
   "cell_type": "markdown",
   "metadata": {},
   "source": [
    "Same as before we have here an ordinal feature. The order is as follow: C > Q > S."
   ]
  },
  {
   "cell_type": "code",
   "execution_count": 22,
   "metadata": {},
   "outputs": [],
   "source": [
    "for dataset in (train_df, test_df):\n",
    "    dataset[\"Sex_code\"] = dataset[\"Sex\"].map({\"male\": 0, \"female\":1})\n",
    "    dataset[\"Embarked_code\"] = dataset[\"Embarked\"].map({\"C\": 0, \"Q\": 1, \"S\": 2})\n",
    "    dataset[\"Title_code\"] = dataset[\"Title\"].map({\"Master\": 0, \"Miss\": 1, \"Mlle\":2, \"Mme\": 3, \"Mr\": 4, \"Mrs\": 5, \"Ms\":6, \"Rare\": 7})"
   ]
  },
  {
   "cell_type": "code",
   "execution_count": 23,
   "metadata": {},
   "outputs": [
    {
     "data": {
      "text/html": [
       "<div>\n",
       "<style scoped>\n",
       "    .dataframe tbody tr th:only-of-type {\n",
       "        vertical-align: middle;\n",
       "    }\n",
       "\n",
       "    .dataframe tbody tr th {\n",
       "        vertical-align: top;\n",
       "    }\n",
       "\n",
       "    .dataframe thead th {\n",
       "        text-align: right;\n",
       "    }\n",
       "</style>\n",
       "<table border=\"1\" class=\"dataframe\">\n",
       "  <thead>\n",
       "    <tr style=\"text-align: right;\">\n",
       "      <th></th>\n",
       "      <th>Survived</th>\n",
       "      <th>Pclass</th>\n",
       "      <th>Sex</th>\n",
       "      <th>Age</th>\n",
       "      <th>SibSp</th>\n",
       "      <th>Parch</th>\n",
       "      <th>Fare</th>\n",
       "      <th>Embarked</th>\n",
       "      <th>Title</th>\n",
       "      <th>Family_size</th>\n",
       "      <th>Sex_code</th>\n",
       "      <th>Embarked_code</th>\n",
       "      <th>Title_code</th>\n",
       "    </tr>\n",
       "  </thead>\n",
       "  <tbody>\n",
       "    <tr>\n",
       "      <th>0</th>\n",
       "      <td>0</td>\n",
       "      <td>3</td>\n",
       "      <td>male</td>\n",
       "      <td>22</td>\n",
       "      <td>1</td>\n",
       "      <td>0</td>\n",
       "      <td>7.2500</td>\n",
       "      <td>S</td>\n",
       "      <td>Mr</td>\n",
       "      <td>1</td>\n",
       "      <td>0</td>\n",
       "      <td>2</td>\n",
       "      <td>4</td>\n",
       "    </tr>\n",
       "    <tr>\n",
       "      <th>1</th>\n",
       "      <td>1</td>\n",
       "      <td>1</td>\n",
       "      <td>female</td>\n",
       "      <td>38</td>\n",
       "      <td>1</td>\n",
       "      <td>0</td>\n",
       "      <td>71.2833</td>\n",
       "      <td>C</td>\n",
       "      <td>Mrs</td>\n",
       "      <td>1</td>\n",
       "      <td>1</td>\n",
       "      <td>0</td>\n",
       "      <td>5</td>\n",
       "    </tr>\n",
       "    <tr>\n",
       "      <th>2</th>\n",
       "      <td>1</td>\n",
       "      <td>3</td>\n",
       "      <td>female</td>\n",
       "      <td>26</td>\n",
       "      <td>0</td>\n",
       "      <td>0</td>\n",
       "      <td>7.9250</td>\n",
       "      <td>S</td>\n",
       "      <td>Miss</td>\n",
       "      <td>0</td>\n",
       "      <td>1</td>\n",
       "      <td>2</td>\n",
       "      <td>1</td>\n",
       "    </tr>\n",
       "    <tr>\n",
       "      <th>3</th>\n",
       "      <td>1</td>\n",
       "      <td>1</td>\n",
       "      <td>female</td>\n",
       "      <td>35</td>\n",
       "      <td>1</td>\n",
       "      <td>0</td>\n",
       "      <td>53.1000</td>\n",
       "      <td>S</td>\n",
       "      <td>Mrs</td>\n",
       "      <td>1</td>\n",
       "      <td>1</td>\n",
       "      <td>2</td>\n",
       "      <td>5</td>\n",
       "    </tr>\n",
       "    <tr>\n",
       "      <th>4</th>\n",
       "      <td>0</td>\n",
       "      <td>3</td>\n",
       "      <td>male</td>\n",
       "      <td>35</td>\n",
       "      <td>0</td>\n",
       "      <td>0</td>\n",
       "      <td>8.0500</td>\n",
       "      <td>S</td>\n",
       "      <td>Mr</td>\n",
       "      <td>0</td>\n",
       "      <td>0</td>\n",
       "      <td>2</td>\n",
       "      <td>4</td>\n",
       "    </tr>\n",
       "  </tbody>\n",
       "</table>\n",
       "</div>"
      ],
      "text/plain": [
       "   Survived  Pclass     Sex  Age  SibSp  Parch     Fare Embarked Title  \\\n",
       "0         0       3    male   22      1      0   7.2500        S    Mr   \n",
       "1         1       1  female   38      1      0  71.2833        C   Mrs   \n",
       "2         1       3  female   26      0      0   7.9250        S  Miss   \n",
       "3         1       1  female   35      1      0  53.1000        S   Mrs   \n",
       "4         0       3    male   35      0      0   8.0500        S    Mr   \n",
       "\n",
       "   Family_size  Sex_code  Embarked_code  Title_code  \n",
       "0            1         0              2           4  \n",
       "1            1         1              0           5  \n",
       "2            0         1              2           1  \n",
       "3            1         1              2           5  \n",
       "4            0         0              2           4  "
      ]
     },
     "execution_count": 23,
     "metadata": {},
     "output_type": "execute_result"
    }
   ],
   "source": [
    "train_df.head()"
   ]
  },
  {
   "cell_type": "markdown",
   "metadata": {},
   "source": [
    "## 4. Most Important Feature<a id=\"corr\"></a>"
   ]
  },
  {
   "cell_type": "markdown",
   "metadata": {},
   "source": [
    "I like to display the correlation matrix to see what are the links between the features we now have."
   ]
  },
  {
   "cell_type": "code",
   "execution_count": 24,
   "metadata": {},
   "outputs": [
    {
     "data": {
      "image/png": "[encoded data removed]",
      "text/plain": [
       "<matplotlib.figure.Figure at 0x234de7f8278>"
      ]
     },
     "metadata": {},
     "output_type": "display_data"
    }
   ],
   "source": [
    "CorrelationMat=train_df.corr().abs()\n",
    "cm=sns.clustermap(CorrelationMat, center=0, cmap=\"GnBu\",\n",
    "               linewidths=.75, figsize=(10, 10), metric=\"correlation\")\n",
    "plt.show()"
   ]
  },
  {
   "cell_type": "code",
   "execution_count": 25,
   "metadata": {
    "scrolled": true
   },
   "outputs": [
    {
     "data": {
      "text/plain": [
       "Survived         1.000000\n",
       "Sex_code         0.543351\n",
       "Pclass           0.338481\n",
       "Fare             0.257307\n",
       "Embarked_code    0.167675\n",
       "Title_code       0.150866\n",
       "Family_size      0.108631\n",
       "Parch            0.081629\n",
       "Age              0.069619\n",
       "SibSp            0.035322\n",
       "Name: Survived, dtype: float64"
      ]
     },
     "metadata": {},
     "output_type": "display_data"
    }
   ],
   "source": [
    "display(CorrelationMat.loc[\"Survived\"].sort_values(ascending=False))"
   ]
  },
  {
   "cell_type": "markdown",
   "metadata": {},
   "source": [
    "<p style=\"text-align:justify;\">Interestingly enough we can see that the sex of the passenger is indeed very correlated to survival. But right after that comes the passenger class and fare. The Age only comes at the penultimate rank. I expected the age of the passenger to have a greater impact on the chances of survival. Let's modify this feature a little bit to see if we can use it in a better way.</p>\n",
    "\n",
    "<p style=\"text-align:justify;\">Also it is great to notice that the Title plays an important role and that the feature we created: Family_size has 10% of correlation with the Survived feature. The efforts invested in engineering these features paid.</p>"
   ]
  },
  {
   "cell_type": "markdown",
   "metadata": {},
   "source": [
    "# III - Decision Tree Algorithm <a id=\"decision_tree\"></a>\n",
    "\n",
    "## 1. Last Cleaning<a id=\"cleaning\"></a>\n",
    "\n",
    "Before applying any algorithm, let's drop the remaining object features"
   ]
  },
  {
   "cell_type": "code",
   "execution_count": 26,
   "metadata": {},
   "outputs": [
    {
     "name": "stdout",
     "output_type": "stream",
     "text": [
      "The Embarked feature was dropped.\n",
      "The Title feature was dropped.\n",
      "The Sex feature was dropped.\n"
     ]
    }
   ],
   "source": [
    "obj_features = set([col for col in train_df.columns if train_df[col].dtype == \"object\"])\n",
    "for feature in obj_features:\n",
    "    train_df.drop(feature, axis=1, inplace=True)\n",
    "    test_df.drop(feature, axis=1, inplace=True)\n",
    "    print(\"The {} feature was dropped.\".format(feature))"
   ]
  },
  {
   "cell_type": "code",
   "execution_count": 27,
   "metadata": {},
   "outputs": [
    {
     "data": {
      "text/html": [
       "<div>\n",
       "<style scoped>\n",
       "    .dataframe tbody tr th:only-of-type {\n",
       "        vertical-align: middle;\n",
       "    }\n",
       "\n",
       "    .dataframe tbody tr th {\n",
       "        vertical-align: top;\n",
       "    }\n",
       "\n",
       "    .dataframe thead th {\n",
       "        text-align: right;\n",
       "    }\n",
       "</style>\n",
       "<table border=\"1\" class=\"dataframe\">\n",
       "  <thead>\n",
       "    <tr style=\"text-align: right;\">\n",
       "      <th></th>\n",
       "      <th>Survived</th>\n",
       "      <th>Pclass</th>\n",
       "      <th>Age</th>\n",
       "      <th>SibSp</th>\n",
       "      <th>Parch</th>\n",
       "      <th>Fare</th>\n",
       "      <th>Family_size</th>\n",
       "      <th>Sex_code</th>\n",
       "      <th>Embarked_code</th>\n",
       "      <th>Title_code</th>\n",
       "    </tr>\n",
       "  </thead>\n",
       "  <tbody>\n",
       "    <tr>\n",
       "      <th>0</th>\n",
       "      <td>0</td>\n",
       "      <td>3</td>\n",
       "      <td>22</td>\n",
       "      <td>1</td>\n",
       "      <td>0</td>\n",
       "      <td>7.2500</td>\n",
       "      <td>1</td>\n",
       "      <td>0</td>\n",
       "      <td>2</td>\n",
       "      <td>4</td>\n",
       "    </tr>\n",
       "    <tr>\n",
       "      <th>1</th>\n",
       "      <td>1</td>\n",
       "      <td>1</td>\n",
       "      <td>38</td>\n",
       "      <td>1</td>\n",
       "      <td>0</td>\n",
       "      <td>71.2833</td>\n",
       "      <td>1</td>\n",
       "      <td>1</td>\n",
       "      <td>0</td>\n",
       "      <td>5</td>\n",
       "    </tr>\n",
       "    <tr>\n",
       "      <th>2</th>\n",
       "      <td>1</td>\n",
       "      <td>3</td>\n",
       "      <td>26</td>\n",
       "      <td>0</td>\n",
       "      <td>0</td>\n",
       "      <td>7.9250</td>\n",
       "      <td>0</td>\n",
       "      <td>1</td>\n",
       "      <td>2</td>\n",
       "      <td>1</td>\n",
       "    </tr>\n",
       "    <tr>\n",
       "      <th>3</th>\n",
       "      <td>1</td>\n",
       "      <td>1</td>\n",
       "      <td>35</td>\n",
       "      <td>1</td>\n",
       "      <td>0</td>\n",
       "      <td>53.1000</td>\n",
       "      <td>1</td>\n",
       "      <td>1</td>\n",
       "      <td>2</td>\n",
       "      <td>5</td>\n",
       "    </tr>\n",
       "    <tr>\n",
       "      <th>4</th>\n",
       "      <td>0</td>\n",
       "      <td>3</td>\n",
       "      <td>35</td>\n",
       "      <td>0</td>\n",
       "      <td>0</td>\n",
       "      <td>8.0500</td>\n",
       "      <td>0</td>\n",
       "      <td>0</td>\n",
       "      <td>2</td>\n",
       "      <td>4</td>\n",
       "    </tr>\n",
       "  </tbody>\n",
       "</table>\n",
       "</div>"
      ],
      "text/plain": [
       "   Survived  Pclass  Age  SibSp  Parch     Fare  Family_size  Sex_code  \\\n",
       "0         0       3   22      1      0   7.2500            1         0   \n",
       "1         1       1   38      1      0  71.2833            1         1   \n",
       "2         1       3   26      0      0   7.9250            0         1   \n",
       "3         1       1   35      1      0  53.1000            1         1   \n",
       "4         0       3   35      0      0   8.0500            0         0   \n",
       "\n",
       "   Embarked_code  Title_code  \n",
       "0              2           4  \n",
       "1              0           5  \n",
       "2              2           1  \n",
       "3              2           5  \n",
       "4              2           4  "
      ]
     },
     "execution_count": 27,
     "metadata": {},
     "output_type": "execute_result"
    }
   ],
   "source": [
    "train_df.head()"
   ]
  },
  {
   "cell_type": "markdown",
   "metadata": {},
   "source": [
    "## 2. Split Train/Test<a id=\"split\"></a>"
   ]
  },
  {
   "cell_type": "markdown",
   "metadata": {},
   "source": [
    "I first import the scikit-learn library which will help me perform the training. Then I use the same library to split the dataset into 20% test and 80% training."
   ]
  },
  {
   "cell_type": "code",
   "execution_count": 28,
   "metadata": {},
   "outputs": [],
   "source": [
    "import graphviz\n",
    "from sklearn import tree\n",
    "from sklearn import model_selection"
   ]
  },
  {
   "cell_type": "code",
   "execution_count": 29,
   "metadata": {},
   "outputs": [],
   "source": [
    "labels = train_df.Survived\n",
    "features = train_df.drop([\"Survived\"], axis=1)"
   ]
  },
  {
   "cell_type": "code",
   "execution_count": 30,
   "metadata": {},
   "outputs": [],
   "source": [
    "X_train, X_test, y_train, y_test = model_selection.train_test_split(features, labels, test_size=0.2, random_state=42)"
   ]
  },
  {
   "cell_type": "code",
   "execution_count": 31,
   "metadata": {},
   "outputs": [
    {
     "name": "stdout",
     "output_type": "stream",
     "text": [
      "(891, 9) is the initial feature shape\n",
      "\n",
      "(712, 9) is the training shape\n",
      "(179, 9) is the test shape\n"
     ]
    }
   ],
   "source": [
    "print(\"{} is the initial feature shape\\n\".format(features.shape))\n",
    "print(\"{} is the training shape\".format(X_train.shape))\n",
    "print(\"{} is the test shape\".format(X_test.shape))"
   ]
  },
  {
   "cell_type": "markdown",
   "metadata": {},
   "source": [
    "## 3. First Rough Model<a id=\"first_model\"></a>"
   ]
  },
  {
   "cell_type": "markdown",
   "metadata": {},
   "source": [
    "For this first rough model, I let scikit decide of the three without providing any parameter."
   ]
  },
  {
   "cell_type": "code",
   "execution_count": 32,
   "metadata": {},
   "outputs": [],
   "source": [
    "clf = tree.DecisionTreeClassifier()\n",
    "clf = clf.fit(X_train, y_train)"
   ]
  },
  {
   "cell_type": "code",
   "execution_count": 33,
   "metadata": {},
   "outputs": [
    {
     "name": "stdout",
     "output_type": "stream",
     "text": [
      "Train accuracy: 98.74%\n",
      "Test accuracy: 79.33%\n",
      "Bias: 19.41\n"
     ]
    }
   ],
   "source": [
    "test_prediction = clf.predict(X_test)\n",
    "test_accuracy = sum(test_prediction == y_test.values)/len(test_prediction)*100\n",
    "\n",
    "train_prediction = clf.predict(X_train)\n",
    "train_accuracy = sum(train_prediction == y_train.values)/len(train_prediction)*100\n",
    "\n",
    "print(\"Train accuracy: {:.2f}%\".format(train_accuracy))\n",
    "print(\"Test accuracy: {:.2f}%\".format(test_accuracy))\n",
    "print(\"Bias: {:.2f}\".format(train_accuracy-test_accuracy))"
   ]
  },
  {
   "cell_type": "markdown",
   "metadata": {},
   "source": [
    "<p style=\"text-align:justify;\">As we can see we have a huge bias after testing our training. This mean that we overfitted the training dataset. Thus we will not perform very well if we try to submit a test prediction with this algorithm. I display the decision graph below to see how it looks. The algorithm clearly tries to find impossible correlations.<br> We need to improve the algorithm.</p>"
   ]
  },
  {
   "cell_type": "code",
   "execution_count": 34,
   "metadata": {},
   "outputs": [],
   "source": [
    "dot_data = tree.export_graphviz(clf, out_file=None, \n",
    "                         feature_names=features.columns.values,  \n",
    "                         class_names=[\"Died\", \"Survived\"],  \n",
    "                         filled=True, rounded=True,  \n",
    "                         special_characters=True)  "
   ]
  },
  {
   "cell_type": "markdown",
   "metadata": {},
   "source": [
    "<img src=\"images/first_tree.png\">"
   ]
  },
  {
   "cell_type": "markdown",
   "metadata": {},
   "source": [
    "## 4. Tuning the Algorithm<a id=\"tuning\"></a>"
   ]
  },
  {
   "cell_type": "markdown",
   "metadata": {},
   "source": [
    "There are two arguments that we can tweak to get better result in our learning using scikit-learn.\n",
    "\n",
    "<ul style=\"text-align:justify;\">\n",
    "    <li><b>max_depth:</b> The max_depth parameter denotes maximum depth of the tree. It can take any integer value or None. If None, then nodes are expanded until all leaves are pure or until all leaves contain less than min_samples_split samples. By default, it takes “None” value.</li>\n",
    "    <li><b>min_samples_leaf:</b> The minimum number of samples required to be at a leaf node. If an integer value is taken then consider min_samples_leaf as the minimum no. If float, then it shows percentage. By default, it takes “1” value.</li>\n",
    "</ul>"
   ]
  },
  {
   "cell_type": "code",
   "execution_count": 96,
   "metadata": {},
   "outputs": [
    {
     "name": "stdout",
     "output_type": "stream",
     "text": [
      "\n",
      "49\n",
      "Train accuracy: 98.74%\n",
      "Test accuracy: 79.33%\n",
      "Bias: 19.41\n"
     ]
    },
    {
     "data": {
      "image/svg+xml": [
       "<?xml version=\"1.0\" encoding=\"UTF-8\" standalone=\"no\"?>\r\n",
       "<!DOCTYPE svg PUBLIC \"-//W3C//DTD SVG 1.1//EN\"\r\n",
       " \"http://www.w3.org/Graphics/SVG/1.1/DTD/svg11.dtd\">\r\n",
       "<!-- Generated by graphviz version 2.38.0 (20140413.2041)\r\n",
       " -->\r\n",
       "<!-- Title: Tree Pages: 1 -->\r\n",
       "<svg width=\"1367pt\" height=\"1028pt\"\r\n",
       " viewBox=\"0.00 0.00 1367.00 1028.00\" xmlns=\"http://www.w3.org/2000/svg\" xmlns:xlink=\"http://www.w3.org/1999/xlink\">\r\n",
       "<g id=\"graph0\" class=\"graph\" transform=\"scale(1 1) rotate(0) translate(4 1024)\">\r\n",
       "<title>Tree</title>\r\n",
       "<polygon fill=\"white\" stroke=\"none\" points=\"-4,4 -4,-1024 1363,-1024 1363,4 -4,4\"/>\r\n",
       "<!-- 0 -->\r\n",
       "<g id=\"node1\" class=\"node\"><title>0</title>\r\n",
       "<path fill=\"#e58139\" fill-opacity=\"0.396078\" stroke=\"black\" d=\"M869,-1020C869,-1020 763,-1020 763,-1020 757,-1020 751,-1014 751,-1008 751,-1008 751,-949 751,-949 751,-943 757,-937 763,-937 763,-937 869,-937 869,-937 875,-937 881,-943 881,-949 881,-949 881,-1008 881,-1008 881,-1014 875,-1020 869,-1020\"/>\r\n",
       "<text text-anchor=\"start\" x=\"765.5\" y=\"-1004.8\" font-family=\"Helvetica,sans-Serif\" font-size=\"14.00\">Sex_code ≤ 0.5</text>\r\n",
       "<text text-anchor=\"start\" x=\"766\" y=\"-989.8\" font-family=\"Helvetica,sans-Serif\" font-size=\"14.00\">entropy = 0.955</text>\r\n",
       "<text text-anchor=\"start\" x=\"768.5\" y=\"-974.8\" font-family=\"Helvetica,sans-Serif\" font-size=\"14.00\">samples = 712</text>\r\n",
       "<text text-anchor=\"start\" x=\"759\" y=\"-959.8\" font-family=\"Helvetica,sans-Serif\" font-size=\"14.00\">value = [444, 268]</text>\r\n",
       "<text text-anchor=\"start\" x=\"776.5\" y=\"-944.8\" font-family=\"Helvetica,sans-Serif\" font-size=\"14.00\">class = Died</text>\r\n",
       "</g>\r\n",
       "<!-- 1 -->\r\n",
       "<g id=\"node2\" class=\"node\"><title>1</title>\r\n",
       "<path fill=\"#e58139\" fill-opacity=\"0.772549\" stroke=\"black\" d=\"M795,-901C795,-901 697,-901 697,-901 691,-901 685,-895 685,-889 685,-889 685,-830 685,-830 685,-824 691,-818 697,-818 697,-818 795,-818 795,-818 801,-818 807,-824 807,-830 807,-830 807,-889 807,-889 807,-895 801,-901 795,-901\"/>\r\n",
       "<text text-anchor=\"start\" x=\"694.5\" y=\"-885.8\" font-family=\"Helvetica,sans-Serif\" font-size=\"14.00\">Title_code ≤ 5.5</text>\r\n",
       "<text text-anchor=\"start\" x=\"696\" y=\"-870.8\" font-family=\"Helvetica,sans-Serif\" font-size=\"14.00\">entropy = 0.694</text>\r\n",
       "<text text-anchor=\"start\" x=\"698.5\" y=\"-855.8\" font-family=\"Helvetica,sans-Serif\" font-size=\"14.00\">samples = 467</text>\r\n",
       "<text text-anchor=\"start\" x=\"693\" y=\"-840.8\" font-family=\"Helvetica,sans-Serif\" font-size=\"14.00\">value = [380, 87]</text>\r\n",
       "<text text-anchor=\"start\" x=\"706.5\" y=\"-825.8\" font-family=\"Helvetica,sans-Serif\" font-size=\"14.00\">class = Died</text>\r\n",
       "</g>\r\n",
       "<!-- 0&#45;&gt;1 -->\r\n",
       "<g id=\"edge1\" class=\"edge\"><title>0&#45;&gt;1</title>\r\n",
       "<path fill=\"none\" stroke=\"black\" d=\"M791.714,-936.907C786.447,-928.105 780.822,-918.703 775.383,-909.612\"/>\r\n",
       "<polygon fill=\"black\" stroke=\"black\" points=\"778.381,-907.805 770.243,-901.021 772.374,-911.399 778.381,-907.805\"/>\r\n",
       "<text text-anchor=\"middle\" x=\"764.149\" y=\"-921.567\" font-family=\"Helvetica,sans-Serif\" font-size=\"14.00\">True</text>\r\n",
       "</g>\r\n",
       "<!-- 22 -->\r\n",
       "<g id=\"node23\" class=\"node\"><title>22</title>\r\n",
       "<path fill=\"#399de5\" fill-opacity=\"0.647059\" stroke=\"black\" d=\"M935,-901C935,-901 837,-901 837,-901 831,-901 825,-895 825,-889 825,-889 825,-830 825,-830 825,-824 831,-818 837,-818 837,-818 935,-818 935,-818 941,-818 947,-824 947,-830 947,-830 947,-889 947,-889 947,-895 941,-901 935,-901\"/>\r\n",
       "<text text-anchor=\"start\" x=\"846.5\" y=\"-885.8\" font-family=\"Helvetica,sans-Serif\" font-size=\"14.00\">Pclass ≤ 2.5</text>\r\n",
       "<text text-anchor=\"start\" x=\"836\" y=\"-870.8\" font-family=\"Helvetica,sans-Serif\" font-size=\"14.00\">entropy = 0.829</text>\r\n",
       "<text text-anchor=\"start\" x=\"838.5\" y=\"-855.8\" font-family=\"Helvetica,sans-Serif\" font-size=\"14.00\">samples = 245</text>\r\n",
       "<text text-anchor=\"start\" x=\"833\" y=\"-840.8\" font-family=\"Helvetica,sans-Serif\" font-size=\"14.00\">value = [64, 181]</text>\r\n",
       "<text text-anchor=\"start\" x=\"834\" y=\"-825.8\" font-family=\"Helvetica,sans-Serif\" font-size=\"14.00\">class = Survived</text>\r\n",
       "</g>\r\n",
       "<!-- 0&#45;&gt;22 -->\r\n",
       "<g id=\"edge22\" class=\"edge\"><title>0&#45;&gt;22</title>\r\n",
       "<path fill=\"none\" stroke=\"black\" d=\"M840.286,-936.907C845.553,-928.105 851.178,-918.703 856.617,-909.612\"/>\r\n",
       "<polygon fill=\"black\" stroke=\"black\" points=\"859.626,-911.399 861.757,-901.021 853.619,-907.805 859.626,-911.399\"/>\r\n",
       "<text text-anchor=\"middle\" x=\"867.851\" y=\"-921.567\" font-family=\"Helvetica,sans-Serif\" font-size=\"14.00\">False</text>\r\n",
       "</g>\r\n",
       "<!-- 2 -->\r\n",
       "<g id=\"node3\" class=\"node\"><title>2</title>\r\n",
       "<path fill=\"#e58139\" fill-opacity=\"0.815686\" stroke=\"black\" d=\"M659,-782C659,-782 561,-782 561,-782 555,-782 549,-776 549,-770 549,-770 549,-711 549,-711 549,-705 555,-699 561,-699 561,-699 659,-699 659,-699 665,-699 671,-705 671,-711 671,-711 671,-770 671,-770 671,-776 665,-782 659,-782\"/>\r\n",
       "<text text-anchor=\"start\" x=\"565\" y=\"-766.8\" font-family=\"Helvetica,sans-Serif\" font-size=\"14.00\">Fare ≤ 26.269</text>\r\n",
       "<text text-anchor=\"start\" x=\"560\" y=\"-751.8\" font-family=\"Helvetica,sans-Serif\" font-size=\"14.00\">entropy = 0.623</text>\r\n",
       "<text text-anchor=\"start\" x=\"562.5\" y=\"-736.8\" font-family=\"Helvetica,sans-Serif\" font-size=\"14.00\">samples = 419</text>\r\n",
       "<text text-anchor=\"start\" x=\"557\" y=\"-721.8\" font-family=\"Helvetica,sans-Serif\" font-size=\"14.00\">value = [354, 65]</text>\r\n",
       "<text text-anchor=\"start\" x=\"570.5\" y=\"-706.8\" font-family=\"Helvetica,sans-Serif\" font-size=\"14.00\">class = Died</text>\r\n",
       "</g>\r\n",
       "<!-- 1&#45;&gt;2 -->\r\n",
       "<g id=\"edge2\" class=\"edge\"><title>1&#45;&gt;2</title>\r\n",
       "<path fill=\"none\" stroke=\"black\" d=\"M698.815,-817.907C687.845,-808.469 676.074,-798.343 664.806,-788.649\"/>\r\n",
       "<polygon fill=\"black\" stroke=\"black\" points=\"666.964,-785.889 657.101,-782.021 662.399,-791.196 666.964,-785.889\"/>\r\n",
       "</g>\r\n",
       "<!-- 21 -->\r\n",
       "<g id=\"node22\" class=\"node\"><title>21</title>\r\n",
       "<path fill=\"#e58139\" fill-opacity=\"0.152941\" stroke=\"black\" d=\"M793,-774.5C793,-774.5 701,-774.5 701,-774.5 695,-774.5 689,-768.5 689,-762.5 689,-762.5 689,-718.5 689,-718.5 689,-712.5 695,-706.5 701,-706.5 701,-706.5 793,-706.5 793,-706.5 799,-706.5 805,-712.5 805,-718.5 805,-718.5 805,-762.5 805,-762.5 805,-768.5 799,-774.5 793,-774.5\"/>\r\n",
       "<text text-anchor=\"start\" x=\"697\" y=\"-759.3\" font-family=\"Helvetica,sans-Serif\" font-size=\"14.00\">entropy = 0.995</text>\r\n",
       "<text text-anchor=\"start\" x=\"703.5\" y=\"-744.3\" font-family=\"Helvetica,sans-Serif\" font-size=\"14.00\">samples = 48</text>\r\n",
       "<text text-anchor=\"start\" x=\"698.5\" y=\"-729.3\" font-family=\"Helvetica,sans-Serif\" font-size=\"14.00\">value = [26, 22]</text>\r\n",
       "<text text-anchor=\"start\" x=\"707.5\" y=\"-714.3\" font-family=\"Helvetica,sans-Serif\" font-size=\"14.00\">class = Died</text>\r\n",
       "</g>\r\n",
       "<!-- 1&#45;&gt;21 -->\r\n",
       "<g id=\"edge21\" class=\"edge\"><title>1&#45;&gt;21</title>\r\n",
       "<path fill=\"none\" stroke=\"black\" d=\"M746.347,-817.907C746.438,-807.204 746.537,-795.615 746.63,-784.776\"/>\r\n",
       "<polygon fill=\"black\" stroke=\"black\" points=\"750.131,-784.697 746.717,-774.667 743.131,-784.637 750.131,-784.697\"/>\r\n",
       "</g>\r\n",
       "<!-- 3 -->\r\n",
       "<g id=\"node4\" class=\"node\"><title>3</title>\r\n",
       "<path fill=\"#e58139\" fill-opacity=\"0.878431\" stroke=\"black\" d=\"M526,-663C526,-663 428,-663 428,-663 422,-663 416,-657 416,-651 416,-651 416,-592 416,-592 416,-586 422,-580 428,-580 428,-580 526,-580 526,-580 532,-580 538,-586 538,-592 538,-592 538,-651 538,-651 538,-657 532,-663 526,-663\"/>\r\n",
       "<text text-anchor=\"start\" x=\"442\" y=\"-647.8\" font-family=\"Helvetica,sans-Serif\" font-size=\"14.00\">Age ≤ 33.5</text>\r\n",
       "<text text-anchor=\"start\" x=\"427\" y=\"-632.8\" font-family=\"Helvetica,sans-Serif\" font-size=\"14.00\">entropy = 0.497</text>\r\n",
       "<text text-anchor=\"start\" x=\"429.5\" y=\"-617.8\" font-family=\"Helvetica,sans-Serif\" font-size=\"14.00\">samples = 321</text>\r\n",
       "<text text-anchor=\"start\" x=\"424\" y=\"-602.8\" font-family=\"Helvetica,sans-Serif\" font-size=\"14.00\">value = [286, 35]</text>\r\n",
       "<text text-anchor=\"start\" x=\"437.5\" y=\"-587.8\" font-family=\"Helvetica,sans-Serif\" font-size=\"14.00\">class = Died</text>\r\n",
       "</g>\r\n",
       "<!-- 2&#45;&gt;3 -->\r\n",
       "<g id=\"edge3\" class=\"edge\"><title>2&#45;&gt;3</title>\r\n",
       "<path fill=\"none\" stroke=\"black\" d=\"M563.856,-698.907C553.128,-689.469 541.616,-679.343 530.597,-669.649\"/>\r\n",
       "<polygon fill=\"black\" stroke=\"black\" points=\"532.882,-666.998 523.062,-663.021 528.259,-672.254 532.882,-666.998\"/>\r\n",
       "</g>\r\n",
       "<!-- 18 -->\r\n",
       "<g id=\"node19\" class=\"node\"><title>18</title>\r\n",
       "<path fill=\"#e58139\" fill-opacity=\"0.556863\" stroke=\"black\" d=\"M660,-663C660,-663 568,-663 568,-663 562,-663 556,-657 556,-651 556,-651 556,-592 556,-592 556,-586 562,-580 568,-580 568,-580 660,-580 660,-580 666,-580 672,-586 672,-592 672,-592 672,-651 672,-651 672,-657 666,-663 660,-663\"/>\r\n",
       "<text text-anchor=\"start\" x=\"569\" y=\"-647.8\" font-family=\"Helvetica,sans-Serif\" font-size=\"14.00\">Fare ≤ 52.277</text>\r\n",
       "<text text-anchor=\"start\" x=\"564\" y=\"-632.8\" font-family=\"Helvetica,sans-Serif\" font-size=\"14.00\">entropy = 0.889</text>\r\n",
       "<text text-anchor=\"start\" x=\"570.5\" y=\"-617.8\" font-family=\"Helvetica,sans-Serif\" font-size=\"14.00\">samples = 98</text>\r\n",
       "<text text-anchor=\"start\" x=\"565.5\" y=\"-602.8\" font-family=\"Helvetica,sans-Serif\" font-size=\"14.00\">value = [68, 30]</text>\r\n",
       "<text text-anchor=\"start\" x=\"574.5\" y=\"-587.8\" font-family=\"Helvetica,sans-Serif\" font-size=\"14.00\">class = Died</text>\r\n",
       "</g>\r\n",
       "<!-- 2&#45;&gt;18 -->\r\n",
       "<g id=\"edge18\" class=\"edge\"><title>2&#45;&gt;18</title>\r\n",
       "<path fill=\"none\" stroke=\"black\" d=\"M611.388,-698.907C611.673,-690.558 611.977,-681.671 612.273,-673.02\"/>\r\n",
       "<polygon fill=\"black\" stroke=\"black\" points=\"615.771,-673.135 612.615,-663.021 608.775,-672.895 615.771,-673.135\"/>\r\n",
       "</g>\r\n",
       "<!-- 4 -->\r\n",
       "<g id=\"node5\" class=\"node\"><title>4</title>\r\n",
       "<path fill=\"#e58139\" fill-opacity=\"0.847059\" stroke=\"black\" d=\"M390,-544C390,-544 256,-544 256,-544 250,-544 244,-538 244,-532 244,-532 244,-473 244,-473 244,-467 250,-461 256,-461 256,-461 390,-461 390,-461 396,-461 402,-467 402,-473 402,-473 402,-532 402,-532 402,-538 396,-544 390,-544\"/>\r\n",
       "<text text-anchor=\"start\" x=\"252\" y=\"-528.8\" font-family=\"Helvetica,sans-Serif\" font-size=\"14.00\">Embarked_code ≤ 1.5</text>\r\n",
       "<text text-anchor=\"start\" x=\"273\" y=\"-513.8\" font-family=\"Helvetica,sans-Serif\" font-size=\"14.00\">entropy = 0.567</text>\r\n",
       "<text text-anchor=\"start\" x=\"275.5\" y=\"-498.8\" font-family=\"Helvetica,sans-Serif\" font-size=\"14.00\">samples = 210</text>\r\n",
       "<text text-anchor=\"start\" x=\"270\" y=\"-483.8\" font-family=\"Helvetica,sans-Serif\" font-size=\"14.00\">value = [182, 28]</text>\r\n",
       "<text text-anchor=\"start\" x=\"283.5\" y=\"-468.8\" font-family=\"Helvetica,sans-Serif\" font-size=\"14.00\">class = Died</text>\r\n",
       "</g>\r\n",
       "<!-- 3&#45;&gt;4 -->\r\n",
       "<g id=\"edge4\" class=\"edge\"><title>3&#45;&gt;4</title>\r\n",
       "<path fill=\"none\" stroke=\"black\" d=\"M423.57,-579.907C410.909,-570.288 397.306,-559.953 384.324,-550.09\"/>\r\n",
       "<polygon fill=\"black\" stroke=\"black\" points=\"386.415,-547.283 376.335,-544.021 382.18,-552.857 386.415,-547.283\"/>\r\n",
       "</g>\r\n",
       "<!-- 13 -->\r\n",
       "<g id=\"node14\" class=\"node\"><title>13</title>\r\n",
       "<path fill=\"#e58139\" fill-opacity=\"0.933333\" stroke=\"black\" d=\"M524,-544C524,-544 432,-544 432,-544 426,-544 420,-538 420,-532 420,-532 420,-473 420,-473 420,-467 426,-461 432,-461 432,-461 524,-461 524,-461 530,-461 536,-467 536,-473 536,-473 536,-532 536,-532 536,-538 530,-544 524,-544\"/>\r\n",
       "<text text-anchor=\"start\" x=\"437\" y=\"-528.8\" font-family=\"Helvetica,sans-Serif\" font-size=\"14.00\">Fare ≤ 7.762</text>\r\n",
       "<text text-anchor=\"start\" x=\"428\" y=\"-513.8\" font-family=\"Helvetica,sans-Serif\" font-size=\"14.00\">entropy = 0.339</text>\r\n",
       "<text text-anchor=\"start\" x=\"430.5\" y=\"-498.8\" font-family=\"Helvetica,sans-Serif\" font-size=\"14.00\">samples = 111</text>\r\n",
       "<text text-anchor=\"start\" x=\"429.5\" y=\"-483.8\" font-family=\"Helvetica,sans-Serif\" font-size=\"14.00\">value = [104, 7]</text>\r\n",
       "<text text-anchor=\"start\" x=\"438.5\" y=\"-468.8\" font-family=\"Helvetica,sans-Serif\" font-size=\"14.00\">class = Died</text>\r\n",
       "</g>\r\n",
       "<!-- 3&#45;&gt;13 -->\r\n",
       "<g id=\"edge13\" class=\"edge\"><title>3&#45;&gt;13</title>\r\n",
       "<path fill=\"none\" stroke=\"black\" d=\"M477.347,-579.907C477.418,-571.649 477.493,-562.864 477.566,-554.302\"/>\r\n",
       "<polygon fill=\"black\" stroke=\"black\" points=\"481.068,-554.05 477.654,-544.021 474.068,-553.99 481.068,-554.05\"/>\r\n",
       "</g>\r\n",
       "<!-- 5 -->\r\n",
       "<g id=\"node6\" class=\"node\"><title>5</title>\r\n",
       "<path fill=\"#e58139\" fill-opacity=\"0.737255\" stroke=\"black\" d=\"M235,-417.5C235,-417.5 143,-417.5 143,-417.5 137,-417.5 131,-411.5 131,-405.5 131,-405.5 131,-361.5 131,-361.5 131,-355.5 137,-349.5 143,-349.5 143,-349.5 235,-349.5 235,-349.5 241,-349.5 247,-355.5 247,-361.5 247,-361.5 247,-405.5 247,-405.5 247,-411.5 241,-417.5 235,-417.5\"/>\r\n",
       "<text text-anchor=\"start\" x=\"139\" y=\"-402.3\" font-family=\"Helvetica,sans-Serif\" font-size=\"14.00\">entropy = 0.738</text>\r\n",
       "<text text-anchor=\"start\" x=\"145.5\" y=\"-387.3\" font-family=\"Helvetica,sans-Serif\" font-size=\"14.00\">samples = 48</text>\r\n",
       "<text text-anchor=\"start\" x=\"140.5\" y=\"-372.3\" font-family=\"Helvetica,sans-Serif\" font-size=\"14.00\">value = [38, 10]</text>\r\n",
       "<text text-anchor=\"start\" x=\"149.5\" y=\"-357.3\" font-family=\"Helvetica,sans-Serif\" font-size=\"14.00\">class = Died</text>\r\n",
       "</g>\r\n",
       "<!-- 4&#45;&gt;5 -->\r\n",
       "<g id=\"edge5\" class=\"edge\"><title>4&#45;&gt;5</title>\r\n",
       "<path fill=\"none\" stroke=\"black\" d=\"M276.509,-460.907C262.987,-449.101 248.231,-436.217 234.754,-424.45\"/>\r\n",
       "<polygon fill=\"black\" stroke=\"black\" points=\"236.821,-421.608 226.986,-417.667 232.217,-426.881 236.821,-421.608\"/>\r\n",
       "</g>\r\n",
       "<!-- 6 -->\r\n",
       "<g id=\"node7\" class=\"node\"><title>6</title>\r\n",
       "<path fill=\"#e58139\" fill-opacity=\"0.874510\" stroke=\"black\" d=\"M375,-425C375,-425 277,-425 277,-425 271,-425 265,-419 265,-413 265,-413 265,-354 265,-354 265,-348 271,-342 277,-342 277,-342 375,-342 375,-342 381,-342 387,-348 387,-354 387,-354 387,-413 387,-413 387,-419 381,-425 375,-425\"/>\r\n",
       "<text text-anchor=\"start\" x=\"289.5\" y=\"-409.8\" font-family=\"Helvetica,sans-Serif\" font-size=\"14.00\">Fare ≤ 11.0</text>\r\n",
       "<text text-anchor=\"start\" x=\"276\" y=\"-394.8\" font-family=\"Helvetica,sans-Serif\" font-size=\"14.00\">entropy = 0.503</text>\r\n",
       "<text text-anchor=\"start\" x=\"278.5\" y=\"-379.8\" font-family=\"Helvetica,sans-Serif\" font-size=\"14.00\">samples = 162</text>\r\n",
       "<text text-anchor=\"start\" x=\"273\" y=\"-364.8\" font-family=\"Helvetica,sans-Serif\" font-size=\"14.00\">value = [144, 18]</text>\r\n",
       "<text text-anchor=\"start\" x=\"286.5\" y=\"-349.8\" font-family=\"Helvetica,sans-Serif\" font-size=\"14.00\">class = Died</text>\r\n",
       "</g>\r\n",
       "<!-- 4&#45;&gt;6 -->\r\n",
       "<g id=\"edge6\" class=\"edge\"><title>4&#45;&gt;6</title>\r\n",
       "<path fill=\"none\" stroke=\"black\" d=\"M324.041,-460.907C324.255,-452.558 324.483,-443.671 324.705,-435.02\"/>\r\n",
       "<polygon fill=\"black\" stroke=\"black\" points=\"328.203,-435.107 324.961,-425.021 321.206,-434.928 328.203,-435.107\"/>\r\n",
       "</g>\r\n",
       "<!-- 7 -->\r\n",
       "<g id=\"node8\" class=\"node\"><title>7</title>\r\n",
       "<path fill=\"#e58139\" fill-opacity=\"0.843137\" stroke=\"black\" d=\"M241,-306C241,-306 143,-306 143,-306 137,-306 131,-300 131,-294 131,-294 131,-235 131,-235 131,-229 137,-223 143,-223 143,-223 241,-223 241,-223 247,-223 253,-229 253,-235 253,-235 253,-294 253,-294 253,-300 247,-306 241,-306\"/>\r\n",
       "<text text-anchor=\"start\" x=\"157\" y=\"-290.8\" font-family=\"Helvetica,sans-Serif\" font-size=\"14.00\">Age ≤ 26.5</text>\r\n",
       "<text text-anchor=\"start\" x=\"146\" y=\"-275.8\" font-family=\"Helvetica,sans-Serif\" font-size=\"14.00\">entropy = 0.57</text>\r\n",
       "<text text-anchor=\"start\" x=\"144.5\" y=\"-260.8\" font-family=\"Helvetica,sans-Serif\" font-size=\"14.00\">samples = 119</text>\r\n",
       "<text text-anchor=\"start\" x=\"139\" y=\"-245.8\" font-family=\"Helvetica,sans-Serif\" font-size=\"14.00\">value = [103, 16]</text>\r\n",
       "<text text-anchor=\"start\" x=\"152.5\" y=\"-230.8\" font-family=\"Helvetica,sans-Serif\" font-size=\"14.00\">class = Died</text>\r\n",
       "</g>\r\n",
       "<!-- 6&#45;&gt;7 -->\r\n",
       "<g id=\"edge7\" class=\"edge\"><title>6&#45;&gt;7</title>\r\n",
       "<path fill=\"none\" stroke=\"black\" d=\"M279.509,-341.907C268.7,-332.469 257.102,-322.343 246,-312.649\"/>\r\n",
       "<polygon fill=\"black\" stroke=\"black\" points=\"248.243,-309.961 238.408,-306.021 243.639,-315.234 248.243,-309.961\"/>\r\n",
       "</g>\r\n",
       "<!-- 12 -->\r\n",
       "<g id=\"node13\" class=\"node\"><title>12</title>\r\n",
       "<path fill=\"#e58139\" fill-opacity=\"0.952941\" stroke=\"black\" d=\"M375,-298.5C375,-298.5 283,-298.5 283,-298.5 277,-298.5 271,-292.5 271,-286.5 271,-286.5 271,-242.5 271,-242.5 271,-236.5 277,-230.5 283,-230.5 283,-230.5 375,-230.5 375,-230.5 381,-230.5 387,-236.5 387,-242.5 387,-242.5 387,-286.5 387,-286.5 387,-292.5 381,-298.5 375,-298.5\"/>\r\n",
       "<text text-anchor=\"start\" x=\"279\" y=\"-283.3\" font-family=\"Helvetica,sans-Serif\" font-size=\"14.00\">entropy = 0.271</text>\r\n",
       "<text text-anchor=\"start\" x=\"285.5\" y=\"-268.3\" font-family=\"Helvetica,sans-Serif\" font-size=\"14.00\">samples = 43</text>\r\n",
       "<text text-anchor=\"start\" x=\"284.5\" y=\"-253.3\" font-family=\"Helvetica,sans-Serif\" font-size=\"14.00\">value = [41, 2]</text>\r\n",
       "<text text-anchor=\"start\" x=\"289.5\" y=\"-238.3\" font-family=\"Helvetica,sans-Serif\" font-size=\"14.00\">class = Died</text>\r\n",
       "</g>\r\n",
       "<!-- 6&#45;&gt;12 -->\r\n",
       "<g id=\"edge12\" class=\"edge\"><title>6&#45;&gt;12</title>\r\n",
       "<path fill=\"none\" stroke=\"black\" d=\"M327.041,-341.907C327.315,-331.204 327.612,-319.615 327.89,-308.776\"/>\r\n",
       "<polygon fill=\"black\" stroke=\"black\" points=\"331.392,-308.753 328.15,-298.667 324.394,-308.574 331.392,-308.753\"/>\r\n",
       "</g>\r\n",
       "<!-- 8 -->\r\n",
       "<g id=\"node9\" class=\"node\"><title>8</title>\r\n",
       "<path fill=\"#e58139\" fill-opacity=\"0.890196\" stroke=\"black\" d=\"M171,-187C171,-187 79,-187 79,-187 73,-187 67,-181 67,-175 67,-175 67,-116 67,-116 67,-110 73,-104 79,-104 79,-104 171,-104 171,-104 177,-104 183,-110 183,-116 183,-116 183,-175 183,-175 183,-181 177,-187 171,-187\"/>\r\n",
       "<text text-anchor=\"start\" x=\"84\" y=\"-171.8\" font-family=\"Helvetica,sans-Serif\" font-size=\"14.00\">Fare ≤ 7.988</text>\r\n",
       "<text text-anchor=\"start\" x=\"75\" y=\"-156.8\" font-family=\"Helvetica,sans-Serif\" font-size=\"14.00\">entropy = 0.465</text>\r\n",
       "<text text-anchor=\"start\" x=\"81.5\" y=\"-141.8\" font-family=\"Helvetica,sans-Serif\" font-size=\"14.00\">samples = 81</text>\r\n",
       "<text text-anchor=\"start\" x=\"80.5\" y=\"-126.8\" font-family=\"Helvetica,sans-Serif\" font-size=\"14.00\">value = [73, 8]</text>\r\n",
       "<text text-anchor=\"start\" x=\"85.5\" y=\"-111.8\" font-family=\"Helvetica,sans-Serif\" font-size=\"14.00\">class = Died</text>\r\n",
       "</g>\r\n",
       "<!-- 7&#45;&gt;8 -->\r\n",
       "<g id=\"edge8\" class=\"edge\"><title>7&#45;&gt;8</title>\r\n",
       "<path fill=\"none\" stroke=\"black\" d=\"M168.755,-222.907C163.766,-214.195 158.441,-204.897 153.285,-195.893\"/>\r\n",
       "<polygon fill=\"black\" stroke=\"black\" points=\"156.211,-193.959 148.204,-187.021 150.136,-197.438 156.211,-193.959\"/>\r\n",
       "</g>\r\n",
       "<!-- 11 -->\r\n",
       "<g id=\"node12\" class=\"node\"><title>11</title>\r\n",
       "<path fill=\"#e58139\" fill-opacity=\"0.733333\" stroke=\"black\" d=\"M305,-179.5C305,-179.5 213,-179.5 213,-179.5 207,-179.5 201,-173.5 201,-167.5 201,-167.5 201,-123.5 201,-123.5 201,-117.5 207,-111.5 213,-111.5 213,-111.5 305,-111.5 305,-111.5 311,-111.5 317,-117.5 317,-123.5 317,-123.5 317,-167.5 317,-167.5 317,-173.5 311,-179.5 305,-179.5\"/>\r\n",
       "<text text-anchor=\"start\" x=\"209\" y=\"-164.3\" font-family=\"Helvetica,sans-Serif\" font-size=\"14.00\">entropy = 0.742</text>\r\n",
       "<text text-anchor=\"start\" x=\"215.5\" y=\"-149.3\" font-family=\"Helvetica,sans-Serif\" font-size=\"14.00\">samples = 38</text>\r\n",
       "<text text-anchor=\"start\" x=\"214.5\" y=\"-134.3\" font-family=\"Helvetica,sans-Serif\" font-size=\"14.00\">value = [30, 8]</text>\r\n",
       "<text text-anchor=\"start\" x=\"219.5\" y=\"-119.3\" font-family=\"Helvetica,sans-Serif\" font-size=\"14.00\">class = Died</text>\r\n",
       "</g>\r\n",
       "<!-- 7&#45;&gt;11 -->\r\n",
       "<g id=\"edge11\" class=\"edge\"><title>7&#45;&gt;11</title>\r\n",
       "<path fill=\"none\" stroke=\"black\" d=\"M215.245,-222.907C221.627,-211.763 228.559,-199.658 234.984,-188.439\"/>\r\n",
       "<polygon fill=\"black\" stroke=\"black\" points=\"238.075,-190.084 240.007,-179.667 232,-186.606 238.075,-190.084\"/>\r\n",
       "</g>\r\n",
       "<!-- 9 -->\r\n",
       "<g id=\"node10\" class=\"node\"><title>9</title>\r\n",
       "<path fill=\"#e58139\" fill-opacity=\"0.874510\" stroke=\"black\" d=\"M104,-68C104,-68 12,-68 12,-68 6,-68 0,-62 0,-56 0,-56 0,-12 0,-12 0,-6 6,-0 12,-0 12,-0 104,-0 104,-0 110,-0 116,-6 116,-12 116,-12 116,-56 116,-56 116,-62 110,-68 104,-68\"/>\r\n",
       "<text text-anchor=\"start\" x=\"8\" y=\"-52.8\" font-family=\"Helvetica,sans-Serif\" font-size=\"14.00\">entropy = 0.503</text>\r\n",
       "<text text-anchor=\"start\" x=\"14.5\" y=\"-37.8\" font-family=\"Helvetica,sans-Serif\" font-size=\"14.00\">samples = 45</text>\r\n",
       "<text text-anchor=\"start\" x=\"13.5\" y=\"-22.8\" font-family=\"Helvetica,sans-Serif\" font-size=\"14.00\">value = [40, 5]</text>\r\n",
       "<text text-anchor=\"start\" x=\"18.5\" y=\"-7.8\" font-family=\"Helvetica,sans-Serif\" font-size=\"14.00\">class = Died</text>\r\n",
       "</g>\r\n",
       "<!-- 8&#45;&gt;9 -->\r\n",
       "<g id=\"edge9\" class=\"edge\"><title>8&#45;&gt;9</title>\r\n",
       "<path fill=\"none\" stroke=\"black\" d=\"M100.052,-103.726C94.6941,-94.9703 89.0238,-85.7032 83.6405,-76.9051\"/>\r\n",
       "<polygon fill=\"black\" stroke=\"black\" points=\"86.5799,-75.0028 78.3751,-68.2996 80.6089,-78.6563 86.5799,-75.0028\"/>\r\n",
       "</g>\r\n",
       "<!-- 10 -->\r\n",
       "<g id=\"node11\" class=\"node\"><title>10</title>\r\n",
       "<path fill=\"#e58139\" fill-opacity=\"0.909804\" stroke=\"black\" d=\"M238,-68C238,-68 146,-68 146,-68 140,-68 134,-62 134,-56 134,-56 134,-12 134,-12 134,-6 140,-0 146,-0 146,-0 238,-0 238,-0 244,-0 250,-6 250,-12 250,-12 250,-56 250,-56 250,-62 244,-68 238,-68\"/>\r\n",
       "<text text-anchor=\"start\" x=\"142\" y=\"-52.8\" font-family=\"Helvetica,sans-Serif\" font-size=\"14.00\">entropy = 0.414</text>\r\n",
       "<text text-anchor=\"start\" x=\"148.5\" y=\"-37.8\" font-family=\"Helvetica,sans-Serif\" font-size=\"14.00\">samples = 36</text>\r\n",
       "<text text-anchor=\"start\" x=\"147.5\" y=\"-22.8\" font-family=\"Helvetica,sans-Serif\" font-size=\"14.00\">value = [33, 3]</text>\r\n",
       "<text text-anchor=\"start\" x=\"152.5\" y=\"-7.8\" font-family=\"Helvetica,sans-Serif\" font-size=\"14.00\">class = Died</text>\r\n",
       "</g>\r\n",
       "<!-- 8&#45;&gt;10 -->\r\n",
       "<g id=\"edge10\" class=\"edge\"><title>8&#45;&gt;10</title>\r\n",
       "<path fill=\"none\" stroke=\"black\" d=\"M149.948,-103.726C155.306,-94.9703 160.976,-85.7032 166.359,-76.9051\"/>\r\n",
       "<polygon fill=\"black\" stroke=\"black\" points=\"169.391,-78.6563 171.625,-68.2996 163.42,-75.0028 169.391,-78.6563\"/>\r\n",
       "</g>\r\n",
       "<!-- 14 -->\r\n",
       "<g id=\"node15\" class=\"node\"><title>14</title>\r\n",
       "<path fill=\"#e58139\" stroke=\"black\" d=\"M510.5,-417.5C510.5,-417.5 429.5,-417.5 429.5,-417.5 423.5,-417.5 417.5,-411.5 417.5,-405.5 417.5,-405.5 417.5,-361.5 417.5,-361.5 417.5,-355.5 423.5,-349.5 429.5,-349.5 429.5,-349.5 510.5,-349.5 510.5,-349.5 516.5,-349.5 522.5,-355.5 522.5,-361.5 522.5,-361.5 522.5,-405.5 522.5,-405.5 522.5,-411.5 516.5,-417.5 510.5,-417.5\"/>\r\n",
       "<text text-anchor=\"start\" x=\"428\" y=\"-402.3\" font-family=\"Helvetica,sans-Serif\" font-size=\"14.00\">entropy = 0.0</text>\r\n",
       "<text text-anchor=\"start\" x=\"426.5\" y=\"-387.3\" font-family=\"Helvetica,sans-Serif\" font-size=\"14.00\">samples = 36</text>\r\n",
       "<text text-anchor=\"start\" x=\"425.5\" y=\"-372.3\" font-family=\"Helvetica,sans-Serif\" font-size=\"14.00\">value = [36, 0]</text>\r\n",
       "<text text-anchor=\"start\" x=\"430.5\" y=\"-357.3\" font-family=\"Helvetica,sans-Serif\" font-size=\"14.00\">class = Died</text>\r\n",
       "</g>\r\n",
       "<!-- 13&#45;&gt;14 -->\r\n",
       "<g id=\"edge14\" class=\"edge\"><title>13&#45;&gt;14</title>\r\n",
       "<path fill=\"none\" stroke=\"black\" d=\"M475.224,-460.907C474.493,-450.204 473.7,-438.615 472.959,-427.776\"/>\r\n",
       "<polygon fill=\"black\" stroke=\"black\" points=\"476.442,-427.405 472.268,-417.667 469.458,-427.882 476.442,-427.405\"/>\r\n",
       "</g>\r\n",
       "<!-- 15 -->\r\n",
       "<g id=\"node16\" class=\"node\"><title>15</title>\r\n",
       "<path fill=\"#e58139\" fill-opacity=\"0.898039\" stroke=\"black\" d=\"M645,-425C645,-425 553,-425 553,-425 547,-425 541,-419 541,-413 541,-413 541,-354 541,-354 541,-348 547,-342 553,-342 553,-342 645,-342 645,-342 651,-342 657,-348 657,-354 657,-354 657,-413 657,-413 657,-419 651,-425 645,-425\"/>\r\n",
       "<text text-anchor=\"start\" x=\"558\" y=\"-409.8\" font-family=\"Helvetica,sans-Serif\" font-size=\"14.00\">Fare ≤ 8.831</text>\r\n",
       "<text text-anchor=\"start\" x=\"549\" y=\"-394.8\" font-family=\"Helvetica,sans-Serif\" font-size=\"14.00\">entropy = 0.447</text>\r\n",
       "<text text-anchor=\"start\" x=\"555.5\" y=\"-379.8\" font-family=\"Helvetica,sans-Serif\" font-size=\"14.00\">samples = 75</text>\r\n",
       "<text text-anchor=\"start\" x=\"554.5\" y=\"-364.8\" font-family=\"Helvetica,sans-Serif\" font-size=\"14.00\">value = [68, 7]</text>\r\n",
       "<text text-anchor=\"start\" x=\"559.5\" y=\"-349.8\" font-family=\"Helvetica,sans-Serif\" font-size=\"14.00\">class = Died</text>\r\n",
       "</g>\r\n",
       "<!-- 13&#45;&gt;15 -->\r\n",
       "<g id=\"edge15\" class=\"edge\"><title>13&#45;&gt;15</title>\r\n",
       "<path fill=\"none\" stroke=\"black\" d=\"M519.98,-460.907C529.553,-451.651 539.811,-441.732 549.66,-432.209\"/>\r\n",
       "<polygon fill=\"black\" stroke=\"black\" points=\"552.338,-434.488 557.094,-425.021 547.472,-429.456 552.338,-434.488\"/>\r\n",
       "</g>\r\n",
       "<!-- 16 -->\r\n",
       "<g id=\"node17\" class=\"node\"><title>16</title>\r\n",
       "<path fill=\"#e58139\" fill-opacity=\"0.874510\" stroke=\"black\" d=\"M514,-298.5C514,-298.5 422,-298.5 422,-298.5 416,-298.5 410,-292.5 410,-286.5 410,-286.5 410,-242.5 410,-242.5 410,-236.5 416,-230.5 422,-230.5 422,-230.5 514,-230.5 514,-230.5 520,-230.5 526,-236.5 526,-242.5 526,-242.5 526,-286.5 526,-286.5 526,-292.5 520,-298.5 514,-298.5\"/>\r\n",
       "<text text-anchor=\"start\" x=\"418\" y=\"-283.3\" font-family=\"Helvetica,sans-Serif\" font-size=\"14.00\">entropy = 0.503</text>\r\n",
       "<text text-anchor=\"start\" x=\"424.5\" y=\"-268.3\" font-family=\"Helvetica,sans-Serif\" font-size=\"14.00\">samples = 36</text>\r\n",
       "<text text-anchor=\"start\" x=\"423.5\" y=\"-253.3\" font-family=\"Helvetica,sans-Serif\" font-size=\"14.00\">value = [32, 4]</text>\r\n",
       "<text text-anchor=\"start\" x=\"428.5\" y=\"-238.3\" font-family=\"Helvetica,sans-Serif\" font-size=\"14.00\">class = Died</text>\r\n",
       "</g>\r\n",
       "<!-- 15&#45;&gt;16 -->\r\n",
       "<g id=\"edge16\" class=\"edge\"><title>15&#45;&gt;16</title>\r\n",
       "<path fill=\"none\" stroke=\"black\" d=\"M553.55,-341.907C540.33,-330.101 525.905,-317.217 512.73,-305.45\"/>\r\n",
       "<polygon fill=\"black\" stroke=\"black\" points=\"514.925,-302.718 505.136,-298.667 510.263,-307.939 514.925,-302.718\"/>\r\n",
       "</g>\r\n",
       "<!-- 17 -->\r\n",
       "<g id=\"node18\" class=\"node\"><title>17</title>\r\n",
       "<path fill=\"#e58139\" fill-opacity=\"0.917647\" stroke=\"black\" d=\"M648,-298.5C648,-298.5 556,-298.5 556,-298.5 550,-298.5 544,-292.5 544,-286.5 544,-286.5 544,-242.5 544,-242.5 544,-236.5 550,-230.5 556,-230.5 556,-230.5 648,-230.5 648,-230.5 654,-230.5 660,-236.5 660,-242.5 660,-242.5 660,-286.5 660,-286.5 660,-292.5 654,-298.5 648,-298.5\"/>\r\n",
       "<text text-anchor=\"start\" x=\"552\" y=\"-283.3\" font-family=\"Helvetica,sans-Serif\" font-size=\"14.00\">entropy = 0.391</text>\r\n",
       "<text text-anchor=\"start\" x=\"558.5\" y=\"-268.3\" font-family=\"Helvetica,sans-Serif\" font-size=\"14.00\">samples = 39</text>\r\n",
       "<text text-anchor=\"start\" x=\"557.5\" y=\"-253.3\" font-family=\"Helvetica,sans-Serif\" font-size=\"14.00\">value = [36, 3]</text>\r\n",
       "<text text-anchor=\"start\" x=\"562.5\" y=\"-238.3\" font-family=\"Helvetica,sans-Serif\" font-size=\"14.00\">class = Died</text>\r\n",
       "</g>\r\n",
       "<!-- 15&#45;&gt;17 -->\r\n",
       "<g id=\"edge17\" class=\"edge\"><title>15&#45;&gt;17</title>\r\n",
       "<path fill=\"none\" stroke=\"black\" d=\"M600.041,-341.907C600.315,-331.204 600.612,-319.615 600.89,-308.776\"/>\r\n",
       "<polygon fill=\"black\" stroke=\"black\" points=\"604.392,-308.753 601.15,-298.667 597.394,-308.574 604.392,-308.753\"/>\r\n",
       "</g>\r\n",
       "<!-- 19 -->\r\n",
       "<g id=\"node20\" class=\"node\"><title>19</title>\r\n",
       "<path fill=\"#e58139\" fill-opacity=\"0.682353\" stroke=\"black\" d=\"M659,-536.5C659,-536.5 567,-536.5 567,-536.5 561,-536.5 555,-530.5 555,-524.5 555,-524.5 555,-480.5 555,-480.5 555,-474.5 561,-468.5 567,-468.5 567,-468.5 659,-468.5 659,-468.5 665,-468.5 671,-474.5 671,-480.5 671,-480.5 671,-524.5 671,-524.5 671,-530.5 665,-536.5 659,-536.5\"/>\r\n",
       "<text text-anchor=\"start\" x=\"563\" y=\"-521.3\" font-family=\"Helvetica,sans-Serif\" font-size=\"14.00\">entropy = 0.795</text>\r\n",
       "<text text-anchor=\"start\" x=\"569.5\" y=\"-506.3\" font-family=\"Helvetica,sans-Serif\" font-size=\"14.00\">samples = 50</text>\r\n",
       "<text text-anchor=\"start\" x=\"564.5\" y=\"-491.3\" font-family=\"Helvetica,sans-Serif\" font-size=\"14.00\">value = [38, 12]</text>\r\n",
       "<text text-anchor=\"start\" x=\"573.5\" y=\"-476.3\" font-family=\"Helvetica,sans-Serif\" font-size=\"14.00\">class = Died</text>\r\n",
       "</g>\r\n",
       "<!-- 18&#45;&gt;19 -->\r\n",
       "<g id=\"edge19\" class=\"edge\"><title>18&#45;&gt;19</title>\r\n",
       "<path fill=\"none\" stroke=\"black\" d=\"M613.653,-579.907C613.562,-569.204 613.463,-557.615 613.37,-546.776\"/>\r\n",
       "<polygon fill=\"black\" stroke=\"black\" points=\"616.869,-546.637 613.283,-536.667 609.869,-546.697 616.869,-546.637\"/>\r\n",
       "</g>\r\n",
       "<!-- 20 -->\r\n",
       "<g id=\"node21\" class=\"node\"><title>20</title>\r\n",
       "<path fill=\"#e58139\" fill-opacity=\"0.400000\" stroke=\"black\" d=\"M793,-536.5C793,-536.5 701,-536.5 701,-536.5 695,-536.5 689,-530.5 689,-524.5 689,-524.5 689,-480.5 689,-480.5 689,-474.5 695,-468.5 701,-468.5 701,-468.5 793,-468.5 793,-468.5 799,-468.5 805,-474.5 805,-480.5 805,-480.5 805,-524.5 805,-524.5 805,-530.5 799,-536.5 793,-536.5\"/>\r\n",
       "<text text-anchor=\"start\" x=\"697\" y=\"-521.3\" font-family=\"Helvetica,sans-Serif\" font-size=\"14.00\">entropy = 0.954</text>\r\n",
       "<text text-anchor=\"start\" x=\"703.5\" y=\"-506.3\" font-family=\"Helvetica,sans-Serif\" font-size=\"14.00\">samples = 48</text>\r\n",
       "<text text-anchor=\"start\" x=\"698.5\" y=\"-491.3\" font-family=\"Helvetica,sans-Serif\" font-size=\"14.00\">value = [30, 18]</text>\r\n",
       "<text text-anchor=\"start\" x=\"707.5\" y=\"-476.3\" font-family=\"Helvetica,sans-Serif\" font-size=\"14.00\">class = Died</text>\r\n",
       "</g>\r\n",
       "<!-- 18&#45;&gt;20 -->\r\n",
       "<g id=\"edge20\" class=\"edge\"><title>18&#45;&gt;20</title>\r\n",
       "<path fill=\"none\" stroke=\"black\" d=\"M660.144,-579.907C673.565,-568.101 688.211,-555.217 701.587,-543.45\"/>\r\n",
       "<polygon fill=\"black\" stroke=\"black\" points=\"704.101,-545.9 709.297,-536.667 699.477,-540.644 704.101,-545.9\"/>\r\n",
       "</g>\r\n",
       "<!-- 23 -->\r\n",
       "<g id=\"node24\" class=\"node\"><title>23</title>\r\n",
       "<path fill=\"#399de5\" fill-opacity=\"0.960784\" stroke=\"black\" d=\"M933,-782C933,-782 837,-782 837,-782 831,-782 825,-776 825,-770 825,-770 825,-711 825,-711 825,-705 831,-699 837,-699 837,-699 933,-699 933,-699 939,-699 945,-705 945,-711 945,-711 945,-770 945,-770 945,-776 939,-782 933,-782\"/>\r\n",
       "<text text-anchor=\"start\" x=\"850\" y=\"-766.8\" font-family=\"Helvetica,sans-Serif\" font-size=\"14.00\">Age ≤ 27.5</text>\r\n",
       "<text text-anchor=\"start\" x=\"835\" y=\"-751.8\" font-family=\"Helvetica,sans-Serif\" font-size=\"14.00\">entropy = 0.235</text>\r\n",
       "<text text-anchor=\"start\" x=\"837.5\" y=\"-736.8\" font-family=\"Helvetica,sans-Serif\" font-size=\"14.00\">samples = 130</text>\r\n",
       "<text text-anchor=\"start\" x=\"836.5\" y=\"-721.8\" font-family=\"Helvetica,sans-Serif\" font-size=\"14.00\">value = [5, 125]</text>\r\n",
       "<text text-anchor=\"start\" x=\"833\" y=\"-706.8\" font-family=\"Helvetica,sans-Serif\" font-size=\"14.00\">class = Survived</text>\r\n",
       "</g>\r\n",
       "<!-- 22&#45;&gt;23 -->\r\n",
       "<g id=\"edge23\" class=\"edge\"><title>22&#45;&gt;23</title>\r\n",
       "<path fill=\"none\" stroke=\"black\" d=\"M885.653,-817.907C885.582,-809.649 885.507,-800.864 885.434,-792.302\"/>\r\n",
       "<polygon fill=\"black\" stroke=\"black\" points=\"888.932,-791.99 885.346,-782.021 881.932,-792.05 888.932,-791.99\"/>\r\n",
       "</g>\r\n",
       "<!-- 28 -->\r\n",
       "<g id=\"node29\" class=\"node\"><title>28</title>\r\n",
       "<path fill=\"#e58139\" fill-opacity=\"0.050980\" stroke=\"black\" d=\"M1109,-782C1109,-782 975,-782 975,-782 969,-782 963,-776 963,-770 963,-770 963,-711 963,-711 963,-705 969,-699 975,-699 975,-699 1109,-699 1109,-699 1115,-699 1121,-705 1121,-711 1121,-711 1121,-770 1121,-770 1121,-776 1115,-782 1109,-782\"/>\r\n",
       "<text text-anchor=\"start\" x=\"971\" y=\"-766.8\" font-family=\"Helvetica,sans-Serif\" font-size=\"14.00\">Embarked_code ≤ 1.5</text>\r\n",
       "<text text-anchor=\"start\" x=\"1000\" y=\"-751.8\" font-family=\"Helvetica,sans-Serif\" font-size=\"14.00\">entropy = 1.0</text>\r\n",
       "<text text-anchor=\"start\" x=\"994.5\" y=\"-736.8\" font-family=\"Helvetica,sans-Serif\" font-size=\"14.00\">samples = 115</text>\r\n",
       "<text text-anchor=\"start\" x=\"993.5\" y=\"-721.8\" font-family=\"Helvetica,sans-Serif\" font-size=\"14.00\">value = [59, 56]</text>\r\n",
       "<text text-anchor=\"start\" x=\"1002.5\" y=\"-706.8\" font-family=\"Helvetica,sans-Serif\" font-size=\"14.00\">class = Died</text>\r\n",
       "</g>\r\n",
       "<!-- 22&#45;&gt;28 -->\r\n",
       "<g id=\"edge28\" class=\"edge\"><title>22&#45;&gt;28</title>\r\n",
       "<path fill=\"none\" stroke=\"black\" d=\"M940.123,-817.907C952.95,-808.288 966.729,-797.953 979.88,-788.09\"/>\r\n",
       "<polygon fill=\"black\" stroke=\"black\" points=\"982.072,-790.821 987.972,-782.021 977.872,-785.221 982.072,-790.821\"/>\r\n",
       "</g>\r\n",
       "<!-- 24 -->\r\n",
       "<g id=\"node25\" class=\"node\"><title>24</title>\r\n",
       "<path fill=\"#399de5\" fill-opacity=\"0.917647\" stroke=\"black\" d=\"M802,-655.5C802,-655.5 706,-655.5 706,-655.5 700,-655.5 694,-649.5 694,-643.5 694,-643.5 694,-599.5 694,-599.5 694,-593.5 700,-587.5 706,-587.5 706,-587.5 802,-587.5 802,-587.5 808,-587.5 814,-593.5 814,-599.5 814,-599.5 814,-643.5 814,-643.5 814,-649.5 808,-655.5 802,-655.5\"/>\r\n",
       "<text text-anchor=\"start\" x=\"704\" y=\"-640.3\" font-family=\"Helvetica,sans-Serif\" font-size=\"14.00\">entropy = 0.391</text>\r\n",
       "<text text-anchor=\"start\" x=\"710.5\" y=\"-625.3\" font-family=\"Helvetica,sans-Serif\" font-size=\"14.00\">samples = 52</text>\r\n",
       "<text text-anchor=\"start\" x=\"709.5\" y=\"-610.3\" font-family=\"Helvetica,sans-Serif\" font-size=\"14.00\">value = [4, 48]</text>\r\n",
       "<text text-anchor=\"start\" x=\"702\" y=\"-595.3\" font-family=\"Helvetica,sans-Serif\" font-size=\"14.00\">class = Survived</text>\r\n",
       "</g>\r\n",
       "<!-- 23&#45;&gt;24 -->\r\n",
       "<g id=\"edge24\" class=\"edge\"><title>23&#45;&gt;24</title>\r\n",
       "<path fill=\"none\" stroke=\"black\" d=\"M839.55,-698.907C826.33,-687.101 811.905,-674.217 798.73,-662.45\"/>\r\n",
       "<polygon fill=\"black\" stroke=\"black\" points=\"800.925,-659.718 791.136,-655.667 796.263,-664.939 800.925,-659.718\"/>\r\n",
       "</g>\r\n",
       "<!-- 25 -->\r\n",
       "<g id=\"node26\" class=\"node\"><title>25</title>\r\n",
       "<path fill=\"#399de5\" fill-opacity=\"0.988235\" stroke=\"black\" d=\"M940,-663C940,-663 844,-663 844,-663 838,-663 832,-657 832,-651 832,-651 832,-592 832,-592 832,-586 838,-580 844,-580 844,-580 940,-580 940,-580 946,-580 952,-586 952,-592 952,-592 952,-651 952,-651 952,-657 946,-663 940,-663\"/>\r\n",
       "<text text-anchor=\"start\" x=\"851\" y=\"-647.8\" font-family=\"Helvetica,sans-Serif\" font-size=\"14.00\">Fare ≤ 45.54</text>\r\n",
       "<text text-anchor=\"start\" x=\"842\" y=\"-632.8\" font-family=\"Helvetica,sans-Serif\" font-size=\"14.00\">entropy = 0.099</text>\r\n",
       "<text text-anchor=\"start\" x=\"848.5\" y=\"-617.8\" font-family=\"Helvetica,sans-Serif\" font-size=\"14.00\">samples = 78</text>\r\n",
       "<text text-anchor=\"start\" x=\"847.5\" y=\"-602.8\" font-family=\"Helvetica,sans-Serif\" font-size=\"14.00\">value = [1, 77]</text>\r\n",
       "<text text-anchor=\"start\" x=\"840\" y=\"-587.8\" font-family=\"Helvetica,sans-Serif\" font-size=\"14.00\">class = Survived</text>\r\n",
       "</g>\r\n",
       "<!-- 23&#45;&gt;25 -->\r\n",
       "<g id=\"edge25\" class=\"edge\"><title>23&#45;&gt;25</title>\r\n",
       "<path fill=\"none\" stroke=\"black\" d=\"M887.429,-698.907C887.928,-690.558 888.46,-681.671 888.977,-673.02\"/>\r\n",
       "<polygon fill=\"black\" stroke=\"black\" points=\"892.472,-673.212 889.576,-663.021 885.485,-672.794 892.472,-673.212\"/>\r\n",
       "</g>\r\n",
       "<!-- 26 -->\r\n",
       "<g id=\"node27\" class=\"node\"><title>26</title>\r\n",
       "<path fill=\"#399de5\" fill-opacity=\"0.972549\" stroke=\"black\" d=\"M936,-536.5C936,-536.5 840,-536.5 840,-536.5 834,-536.5 828,-530.5 828,-524.5 828,-524.5 828,-480.5 828,-480.5 828,-474.5 834,-468.5 840,-468.5 840,-468.5 936,-468.5 936,-468.5 942,-468.5 948,-474.5 948,-480.5 948,-480.5 948,-524.5 948,-524.5 948,-530.5 942,-536.5 936,-536.5\"/>\r\n",
       "<text text-anchor=\"start\" x=\"838\" y=\"-521.3\" font-family=\"Helvetica,sans-Serif\" font-size=\"14.00\">entropy = 0.183</text>\r\n",
       "<text text-anchor=\"start\" x=\"844.5\" y=\"-506.3\" font-family=\"Helvetica,sans-Serif\" font-size=\"14.00\">samples = 36</text>\r\n",
       "<text text-anchor=\"start\" x=\"843.5\" y=\"-491.3\" font-family=\"Helvetica,sans-Serif\" font-size=\"14.00\">value = [1, 35]</text>\r\n",
       "<text text-anchor=\"start\" x=\"836\" y=\"-476.3\" font-family=\"Helvetica,sans-Serif\" font-size=\"14.00\">class = Survived</text>\r\n",
       "</g>\r\n",
       "<!-- 25&#45;&gt;26 -->\r\n",
       "<g id=\"edge26\" class=\"edge\"><title>25&#45;&gt;26</title>\r\n",
       "<path fill=\"none\" stroke=\"black\" d=\"M890.612,-579.907C890.246,-569.204 889.85,-557.615 889.48,-546.776\"/>\r\n",
       "<polygon fill=\"black\" stroke=\"black\" points=\"892.974,-546.541 889.134,-536.667 885.978,-546.781 892.974,-546.541\"/>\r\n",
       "</g>\r\n",
       "<!-- 27 -->\r\n",
       "<g id=\"node28\" class=\"node\"><title>27</title>\r\n",
       "<path fill=\"#399de5\" stroke=\"black\" d=\"M1074,-536.5C1074,-536.5 978,-536.5 978,-536.5 972,-536.5 966,-530.5 966,-524.5 966,-524.5 966,-480.5 966,-480.5 966,-474.5 972,-468.5 978,-468.5 978,-468.5 1074,-468.5 1074,-468.5 1080,-468.5 1086,-474.5 1086,-480.5 1086,-480.5 1086,-524.5 1086,-524.5 1086,-530.5 1080,-536.5 1074,-536.5\"/>\r\n",
       "<text text-anchor=\"start\" x=\"984\" y=\"-521.3\" font-family=\"Helvetica,sans-Serif\" font-size=\"14.00\">entropy = 0.0</text>\r\n",
       "<text text-anchor=\"start\" x=\"982.5\" y=\"-506.3\" font-family=\"Helvetica,sans-Serif\" font-size=\"14.00\">samples = 42</text>\r\n",
       "<text text-anchor=\"start\" x=\"981.5\" y=\"-491.3\" font-family=\"Helvetica,sans-Serif\" font-size=\"14.00\">value = [0, 42]</text>\r\n",
       "<text text-anchor=\"start\" x=\"974\" y=\"-476.3\" font-family=\"Helvetica,sans-Serif\" font-size=\"14.00\">class = Survived</text>\r\n",
       "</g>\r\n",
       "<!-- 25&#45;&gt;27 -->\r\n",
       "<g id=\"edge27\" class=\"edge\"><title>25&#45;&gt;27</title>\r\n",
       "<path fill=\"none\" stroke=\"black\" d=\"M938.491,-579.907C952.013,-568.101 966.769,-555.217 980.246,-543.45\"/>\r\n",
       "<polygon fill=\"black\" stroke=\"black\" points=\"982.783,-545.881 988.014,-536.667 978.179,-540.608 982.783,-545.881\"/>\r\n",
       "</g>\r\n",
       "<!-- 29 -->\r\n",
       "<g id=\"node30\" class=\"node\"><title>29</title>\r\n",
       "<path fill=\"#399de5\" fill-opacity=\"0.607843\" stroke=\"black\" d=\"M1087,-655.5C1087,-655.5 991,-655.5 991,-655.5 985,-655.5 979,-649.5 979,-643.5 979,-643.5 979,-599.5 979,-599.5 979,-593.5 985,-587.5 991,-587.5 991,-587.5 1087,-587.5 1087,-587.5 1093,-587.5 1099,-593.5 1099,-599.5 1099,-599.5 1099,-643.5 1099,-643.5 1099,-649.5 1093,-655.5 1087,-655.5\"/>\r\n",
       "<text text-anchor=\"start\" x=\"989\" y=\"-640.3\" font-family=\"Helvetica,sans-Serif\" font-size=\"14.00\">entropy = 0.858</text>\r\n",
       "<text text-anchor=\"start\" x=\"995.5\" y=\"-625.3\" font-family=\"Helvetica,sans-Serif\" font-size=\"14.00\">samples = 39</text>\r\n",
       "<text text-anchor=\"start\" x=\"990.5\" y=\"-610.3\" font-family=\"Helvetica,sans-Serif\" font-size=\"14.00\">value = [11, 28]</text>\r\n",
       "<text text-anchor=\"start\" x=\"987\" y=\"-595.3\" font-family=\"Helvetica,sans-Serif\" font-size=\"14.00\">class = Survived</text>\r\n",
       "</g>\r\n",
       "<!-- 28&#45;&gt;29 -->\r\n",
       "<g id=\"edge29\" class=\"edge\"><title>28&#45;&gt;29</title>\r\n",
       "<path fill=\"none\" stroke=\"black\" d=\"M1040.96,-698.907C1040.68,-688.204 1040.39,-676.615 1040.11,-665.776\"/>\r\n",
       "<polygon fill=\"black\" stroke=\"black\" points=\"1043.61,-665.574 1039.85,-655.667 1036.61,-665.753 1043.61,-665.574\"/>\r\n",
       "</g>\r\n",
       "<!-- 30 -->\r\n",
       "<g id=\"node31\" class=\"node\"><title>30</title>\r\n",
       "<path fill=\"#e58139\" fill-opacity=\"0.415686\" stroke=\"black\" d=\"M1221,-663C1221,-663 1129,-663 1129,-663 1123,-663 1117,-657 1117,-651 1117,-651 1117,-592 1117,-592 1117,-586 1123,-580 1129,-580 1129,-580 1221,-580 1221,-580 1227,-580 1233,-586 1233,-592 1233,-592 1233,-651 1233,-651 1233,-657 1227,-663 1221,-663\"/>\r\n",
       "<text text-anchor=\"start\" x=\"1137.5\" y=\"-647.8\" font-family=\"Helvetica,sans-Serif\" font-size=\"14.00\">SibSp ≤ 0.5</text>\r\n",
       "<text text-anchor=\"start\" x=\"1125\" y=\"-632.8\" font-family=\"Helvetica,sans-Serif\" font-size=\"14.00\">entropy = 0.949</text>\r\n",
       "<text text-anchor=\"start\" x=\"1131.5\" y=\"-617.8\" font-family=\"Helvetica,sans-Serif\" font-size=\"14.00\">samples = 76</text>\r\n",
       "<text text-anchor=\"start\" x=\"1126.5\" y=\"-602.8\" font-family=\"Helvetica,sans-Serif\" font-size=\"14.00\">value = [48, 28]</text>\r\n",
       "<text text-anchor=\"start\" x=\"1135.5\" y=\"-587.8\" font-family=\"Helvetica,sans-Serif\" font-size=\"14.00\">class = Died</text>\r\n",
       "</g>\r\n",
       "<!-- 28&#45;&gt;30 -->\r\n",
       "<g id=\"edge30\" class=\"edge\"><title>28&#45;&gt;30</title>\r\n",
       "<path fill=\"none\" stroke=\"black\" d=\"M1088.14,-698.907C1098.87,-689.469 1110.38,-679.343 1121.4,-669.649\"/>\r\n",
       "<polygon fill=\"black\" stroke=\"black\" points=\"1123.74,-672.254 1128.94,-663.021 1119.12,-666.998 1123.74,-672.254\"/>\r\n",
       "</g>\r\n",
       "<!-- 31 -->\r\n",
       "<g id=\"node32\" class=\"node\"><title>31</title>\r\n",
       "<path fill=\"none\" stroke=\"black\" d=\"M1212.5,-536.5C1212.5,-536.5 1123.5,-536.5 1123.5,-536.5 1117.5,-536.5 1111.5,-530.5 1111.5,-524.5 1111.5,-524.5 1111.5,-480.5 1111.5,-480.5 1111.5,-474.5 1117.5,-468.5 1123.5,-468.5 1123.5,-468.5 1212.5,-468.5 1212.5,-468.5 1218.5,-468.5 1224.5,-474.5 1224.5,-480.5 1224.5,-480.5 1224.5,-524.5 1224.5,-524.5 1224.5,-530.5 1218.5,-536.5 1212.5,-536.5\"/>\r\n",
       "<text text-anchor=\"start\" x=\"1126\" y=\"-521.3\" font-family=\"Helvetica,sans-Serif\" font-size=\"14.00\">entropy = 1.0</text>\r\n",
       "<text text-anchor=\"start\" x=\"1124.5\" y=\"-506.3\" font-family=\"Helvetica,sans-Serif\" font-size=\"14.00\">samples = 36</text>\r\n",
       "<text text-anchor=\"start\" x=\"1119.5\" y=\"-491.3\" font-family=\"Helvetica,sans-Serif\" font-size=\"14.00\">value = [18, 18]</text>\r\n",
       "<text text-anchor=\"start\" x=\"1128.5\" y=\"-476.3\" font-family=\"Helvetica,sans-Serif\" font-size=\"14.00\">class = Died</text>\r\n",
       "</g>\r\n",
       "<!-- 30&#45;&gt;31 -->\r\n",
       "<g id=\"edge31\" class=\"edge\"><title>30&#45;&gt;31</title>\r\n",
       "<path fill=\"none\" stroke=\"black\" d=\"M1172.57,-579.907C1171.93,-569.204 1171.24,-557.615 1170.59,-546.776\"/>\r\n",
       "<polygon fill=\"black\" stroke=\"black\" points=\"1174.08,-546.44 1169.98,-536.667 1167.09,-546.858 1174.08,-546.44\"/>\r\n",
       "</g>\r\n",
       "<!-- 32 -->\r\n",
       "<g id=\"node33\" class=\"node\"><title>32</title>\r\n",
       "<path fill=\"#e58139\" fill-opacity=\"0.666667\" stroke=\"black\" d=\"M1347,-536.5C1347,-536.5 1255,-536.5 1255,-536.5 1249,-536.5 1243,-530.5 1243,-524.5 1243,-524.5 1243,-480.5 1243,-480.5 1243,-474.5 1249,-468.5 1255,-468.5 1255,-468.5 1347,-468.5 1347,-468.5 1353,-468.5 1359,-474.5 1359,-480.5 1359,-480.5 1359,-524.5 1359,-524.5 1359,-530.5 1353,-536.5 1347,-536.5\"/>\r\n",
       "<text text-anchor=\"start\" x=\"1251\" y=\"-521.3\" font-family=\"Helvetica,sans-Serif\" font-size=\"14.00\">entropy = 0.811</text>\r\n",
       "<text text-anchor=\"start\" x=\"1257.5\" y=\"-506.3\" font-family=\"Helvetica,sans-Serif\" font-size=\"14.00\">samples = 40</text>\r\n",
       "<text text-anchor=\"start\" x=\"1252.5\" y=\"-491.3\" font-family=\"Helvetica,sans-Serif\" font-size=\"14.00\">value = [30, 10]</text>\r\n",
       "<text text-anchor=\"start\" x=\"1261.5\" y=\"-476.3\" font-family=\"Helvetica,sans-Serif\" font-size=\"14.00\">class = Died</text>\r\n",
       "</g>\r\n",
       "<!-- 30&#45;&gt;32 -->\r\n",
       "<g id=\"edge32\" class=\"edge\"><title>30&#45;&gt;32</title>\r\n",
       "<path fill=\"none\" stroke=\"black\" d=\"M1218.72,-579.907C1231.31,-568.211 1245.05,-555.457 1257.62,-543.78\"/>\r\n",
       "<polygon fill=\"black\" stroke=\"black\" points=\"1260.34,-546.036 1265.28,-536.667 1255.57,-540.907 1260.34,-546.036\"/>\r\n",
       "</g>\r\n",
       "</g>\r\n",
       "</svg>\r\n"
      ],
      "text/plain": [
       "<graphviz.files.Source at 0x234defe2080>"
      ]
     },
     "execution_count": 96,
     "metadata": {},
     "output_type": "execute_result"
    }
   ],
   "source": [
    "#for max_d in range(1,50):\n",
    "\n",
    "for min_s in range()\n",
    "clf_entropy = tree.DecisionTreeClassifier(criterion=\"entropy\", min_samples_leaf=0.05)\n",
    "clf_entropy.fit(X_train, y_train)\n",
    "\n",
    "test_prediction = clf_entropy.predict(X_test)\n",
    "test_accuracy = sum(test_prediction == y_test.values)/len(test_prediction)*100\n",
    "\n",
    "train_prediction = clf.predict(X_train)\n",
    "train_accuracy = sum(train_prediction == y_train.values)/len(train_prediction)*100\n",
    "\n",
    "print(\"\\n{}\".format(max_d))\n",
    "print(\"Train accuracy: {:.2f}%\".format(train_accuracy))\n",
    "print(\"Test accuracy: {:.2f}%\".format(test_accuracy))\n",
    "print(\"Bias: {:.2f}\".format(train_accuracy-test_accuracy))\n",
    "\n",
    "\n",
    "dot_data = tree.export_graphviz(clf_entropy, out_file=None, \n",
    "                         feature_names=features.columns.values,  \n",
    "                         class_names=[\"Died\", \"Survived\"],  \n",
    "                         filled=True, rounded=True,  \n",
    "                         special_characters=True)  \n",
    "graphviz.Source(dot_data)"
   ]
  },
  {
   "cell_type": "markdown",
   "metadata": {},
   "source": [
    "# IV - Conclusion<a id=\"conclusion\"></a>"
   ]
  },
  {
   "cell_type": "code",
   "execution_count": null,
   "metadata": {},
   "outputs": [],
   "source": []
  }
 ],
 "metadata": {
  "kernelspec": {
   "display_name": "Python 3",
   "language": "python",
   "name": "python3"
  },
  "language_info": {
   "codemirror_mode": {
    "name": "ipython",
    "version": 3
   },
   "file_extension": ".py",
   "mimetype": "text/x-python",
   "name": "python",
   "nbconvert_exporter": "python",
   "pygments_lexer": "ipython3",
   "version": "3.6.5"
  }
 },
 "nbformat": 4,
 "nbformat_minor": 2
}
