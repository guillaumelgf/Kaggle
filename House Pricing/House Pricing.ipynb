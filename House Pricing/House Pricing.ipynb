{
 "cells": [
  {
   "cell_type": "markdown",
   "metadata": {},
   "source": [
    "# House Pricing Prediction\n",
    "<ul>\n",
    "    <li><a href=\"#introduction\">I - Introduction</a></li>\n",
    "    <li><a href=\"#exploring_datas\">II - Exploring datas</a></li>\n",
    "    <ul>\n",
    "        <li><a href=\"#loading_datas\">1. Loading the datas</a></li>\n",
    "        <li><a href=\"#sale_price\">2. Sale Price</a></li>\n",
    "        <li><a href=\"#missing_datas\">3. Missing datas</a></li>\n",
    "    </ul>\n",
    "</ul>\n",
    "\n",
    "## I - Introduction<a id=\"introduction\"></a>\n",
    "\n",
    "### Competition Description\n",
    "\n",
    "<p style=\"text-align:justify\">Ask a home buyer to describe their dream house, and they probably won't begin with the height of the basement ceiling or the proximity to an east-west railroad. But this playground competition's dataset proves that much more influences price negotiations than the number of bedrooms or a white-picket fence.</p>\n",
    "<p style=\"text-align:justify\">With 79 explanatory variables describing (almost) every aspect of residential homes in Ames, Iowa, this competition challenges you to predict the final price of each home.</p>\n",
    "\n",
    "### Practice Skills\n",
    "\n",
    "<ul>\n",
    "    <li>Creative feature engineering </li>\n",
    "    <li>Advanced regression techniques like random forest and gradient boosting</li>\n",
    "</ul>\n",
    "\n",
    "### Goal\n",
    "\n",
    "<p style=\"text-align:justify\">It is your job to predict the sales price for each house. For each Id in the test set, you must predict the value of the SalePrice variable.</p>\n",
    "\n",
    "### Metric\n",
    "\n",
    "<p style=\"text-align:justify\">Submissions are evaluated on Root-Mean-Squared-Error (RMSE) between the logarithm of the predicted value and the logarithm of the observed sales price. (Taking logs means that errors in predicting expensive houses and cheap houses will affect the result equally.)</p>\n",
    "\n",
    "### Submission File Format\n",
    "The file should contain a header and have the following format:\n",
    "\n",
    "<p class=\"alert alert-info\">\n",
    "Id,SalePrice<br>\n",
    "1461,169000.1<br>\n",
    "1462,187724.1233<br>\n",
    "1463,175221<br>\n",
    "etc.</p>\n",
    "\n",
    "## II - Exploring the datas<a id=\"exploring_datas\"></a>\n",
    "\n",
    "### Loading the datas<a id=\"loading_datas\"></a>\n",
    "First of all, let's take a look at what are the datas contained in this dataset. We import a few librarires which will be usefull to exploit these datas."
   ]
  },
  {
   "cell_type": "code",
   "execution_count": 71,
   "metadata": {},
   "outputs": [],
   "source": [
    "import pandas as pd\n",
    "import matplotlib.pyplot as plt\n",
    "import seaborn as sns\n",
    "import numpy as np\n",
    "\n",
    "\n",
    "import scipy.stats as st"
   ]
  },
  {
   "cell_type": "code",
   "execution_count": 72,
   "metadata": {},
   "outputs": [],
   "source": [
    "import warnings\n",
    "warnings.filterwarnings('ignore')"
   ]
  },
  {
   "cell_type": "code",
   "execution_count": 73,
   "metadata": {},
   "outputs": [],
   "source": [
    "train_df = pd.read_csv(\"datas/train.csv\")\n",
    "test_df = pd.read_csv(\"datas/test.csv\")\n",
    "full = (train_df, test_df)\n",
    "full_df = pd.concat([train_df, test_df])"
   ]
  },
  {
   "cell_type": "code",
   "execution_count": 74,
   "metadata": {},
   "outputs": [
    {
     "data": {
      "text/html": [
       "<div>\n",
       "<style scoped>\n",
       "    .dataframe tbody tr th:only-of-type {\n",
       "        vertical-align: middle;\n",
       "    }\n",
       "\n",
       "    .dataframe tbody tr th {\n",
       "        vertical-align: top;\n",
       "    }\n",
       "\n",
       "    .dataframe thead th {\n",
       "        text-align: right;\n",
       "    }\n",
       "</style>\n",
       "<table border=\"1\" class=\"dataframe\">\n",
       "  <thead>\n",
       "    <tr style=\"text-align: right;\">\n",
       "      <th></th>\n",
       "      <th>Id</th>\n",
       "      <th>MSSubClass</th>\n",
       "      <th>MSZoning</th>\n",
       "      <th>LotFrontage</th>\n",
       "      <th>LotArea</th>\n",
       "      <th>Street</th>\n",
       "      <th>Alley</th>\n",
       "      <th>LotShape</th>\n",
       "      <th>LandContour</th>\n",
       "      <th>Utilities</th>\n",
       "      <th>...</th>\n",
       "      <th>PoolArea</th>\n",
       "      <th>PoolQC</th>\n",
       "      <th>Fence</th>\n",
       "      <th>MiscFeature</th>\n",
       "      <th>MiscVal</th>\n",
       "      <th>MoSold</th>\n",
       "      <th>YrSold</th>\n",
       "      <th>SaleType</th>\n",
       "      <th>SaleCondition</th>\n",
       "      <th>SalePrice</th>\n",
       "    </tr>\n",
       "  </thead>\n",
       "  <tbody>\n",
       "    <tr>\n",
       "      <th>0</th>\n",
       "      <td>1</td>\n",
       "      <td>60</td>\n",
       "      <td>RL</td>\n",
       "      <td>65.0</td>\n",
       "      <td>8450</td>\n",
       "      <td>Pave</td>\n",
       "      <td>NaN</td>\n",
       "      <td>Reg</td>\n",
       "      <td>Lvl</td>\n",
       "      <td>AllPub</td>\n",
       "      <td>...</td>\n",
       "      <td>0</td>\n",
       "      <td>NaN</td>\n",
       "      <td>NaN</td>\n",
       "      <td>NaN</td>\n",
       "      <td>0</td>\n",
       "      <td>2</td>\n",
       "      <td>2008</td>\n",
       "      <td>WD</td>\n",
       "      <td>Normal</td>\n",
       "      <td>208500</td>\n",
       "    </tr>\n",
       "    <tr>\n",
       "      <th>1</th>\n",
       "      <td>2</td>\n",
       "      <td>20</td>\n",
       "      <td>RL</td>\n",
       "      <td>80.0</td>\n",
       "      <td>9600</td>\n",
       "      <td>Pave</td>\n",
       "      <td>NaN</td>\n",
       "      <td>Reg</td>\n",
       "      <td>Lvl</td>\n",
       "      <td>AllPub</td>\n",
       "      <td>...</td>\n",
       "      <td>0</td>\n",
       "      <td>NaN</td>\n",
       "      <td>NaN</td>\n",
       "      <td>NaN</td>\n",
       "      <td>0</td>\n",
       "      <td>5</td>\n",
       "      <td>2007</td>\n",
       "      <td>WD</td>\n",
       "      <td>Normal</td>\n",
       "      <td>181500</td>\n",
       "    </tr>\n",
       "    <tr>\n",
       "      <th>2</th>\n",
       "      <td>3</td>\n",
       "      <td>60</td>\n",
       "      <td>RL</td>\n",
       "      <td>68.0</td>\n",
       "      <td>11250</td>\n",
       "      <td>Pave</td>\n",
       "      <td>NaN</td>\n",
       "      <td>IR1</td>\n",
       "      <td>Lvl</td>\n",
       "      <td>AllPub</td>\n",
       "      <td>...</td>\n",
       "      <td>0</td>\n",
       "      <td>NaN</td>\n",
       "      <td>NaN</td>\n",
       "      <td>NaN</td>\n",
       "      <td>0</td>\n",
       "      <td>9</td>\n",
       "      <td>2008</td>\n",
       "      <td>WD</td>\n",
       "      <td>Normal</td>\n",
       "      <td>223500</td>\n",
       "    </tr>\n",
       "    <tr>\n",
       "      <th>3</th>\n",
       "      <td>4</td>\n",
       "      <td>70</td>\n",
       "      <td>RL</td>\n",
       "      <td>60.0</td>\n",
       "      <td>9550</td>\n",
       "      <td>Pave</td>\n",
       "      <td>NaN</td>\n",
       "      <td>IR1</td>\n",
       "      <td>Lvl</td>\n",
       "      <td>AllPub</td>\n",
       "      <td>...</td>\n",
       "      <td>0</td>\n",
       "      <td>NaN</td>\n",
       "      <td>NaN</td>\n",
       "      <td>NaN</td>\n",
       "      <td>0</td>\n",
       "      <td>2</td>\n",
       "      <td>2006</td>\n",
       "      <td>WD</td>\n",
       "      <td>Abnorml</td>\n",
       "      <td>140000</td>\n",
       "    </tr>\n",
       "    <tr>\n",
       "      <th>4</th>\n",
       "      <td>5</td>\n",
       "      <td>60</td>\n",
       "      <td>RL</td>\n",
       "      <td>84.0</td>\n",
       "      <td>14260</td>\n",
       "      <td>Pave</td>\n",
       "      <td>NaN</td>\n",
       "      <td>IR1</td>\n",
       "      <td>Lvl</td>\n",
       "      <td>AllPub</td>\n",
       "      <td>...</td>\n",
       "      <td>0</td>\n",
       "      <td>NaN</td>\n",
       "      <td>NaN</td>\n",
       "      <td>NaN</td>\n",
       "      <td>0</td>\n",
       "      <td>12</td>\n",
       "      <td>2008</td>\n",
       "      <td>WD</td>\n",
       "      <td>Normal</td>\n",
       "      <td>250000</td>\n",
       "    </tr>\n",
       "  </tbody>\n",
       "</table>\n",
       "<p>5 rows × 81 columns</p>\n",
       "</div>"
      ],
      "text/plain": [
       "   Id  MSSubClass MSZoning  LotFrontage  LotArea Street Alley LotShape  \\\n",
       "0   1          60       RL         65.0     8450   Pave   NaN      Reg   \n",
       "1   2          20       RL         80.0     9600   Pave   NaN      Reg   \n",
       "2   3          60       RL         68.0    11250   Pave   NaN      IR1   \n",
       "3   4          70       RL         60.0     9550   Pave   NaN      IR1   \n",
       "4   5          60       RL         84.0    14260   Pave   NaN      IR1   \n",
       "\n",
       "  LandContour Utilities    ...     PoolArea PoolQC Fence MiscFeature MiscVal  \\\n",
       "0         Lvl    AllPub    ...            0    NaN   NaN         NaN       0   \n",
       "1         Lvl    AllPub    ...            0    NaN   NaN         NaN       0   \n",
       "2         Lvl    AllPub    ...            0    NaN   NaN         NaN       0   \n",
       "3         Lvl    AllPub    ...            0    NaN   NaN         NaN       0   \n",
       "4         Lvl    AllPub    ...            0    NaN   NaN         NaN       0   \n",
       "\n",
       "  MoSold YrSold  SaleType  SaleCondition  SalePrice  \n",
       "0      2   2008        WD         Normal     208500  \n",
       "1      5   2007        WD         Normal     181500  \n",
       "2      9   2008        WD         Normal     223500  \n",
       "3      2   2006        WD        Abnorml     140000  \n",
       "4     12   2008        WD         Normal     250000  \n",
       "\n",
       "[5 rows x 81 columns]"
      ]
     },
     "metadata": {},
     "output_type": "display_data"
    },
    {
     "name": "stdout",
     "output_type": "stream",
     "text": [
      "The shape of the train dataset is (1460, 81)\n",
      "The shape of the test dataset is (1459, 80)\n"
     ]
    }
   ],
   "source": [
    "display(train_df.head())\n",
    "print(\"The shape of the train dataset is {}\".format(train_df.shape))\n",
    "print(\"The shape of the test dataset is {}\".format(test_df.shape))"
   ]
  },
  {
   "cell_type": "code",
   "execution_count": 75,
   "metadata": {},
   "outputs": [],
   "source": [
    "for dataset in full:\n",
    "    dataset.drop([\"Id\"], axis=1, inplace=True)"
   ]
  },
  {
   "cell_type": "markdown",
   "metadata": {},
   "source": [
    "<p style=\"text-align:justify\">I started by dropping the ID, because it is not an interesting feature for our predictions. As we can see we have 1460 training datas and 1459 test datas. After dropping the ID, we have 79 features to describe the houses. In the train dataset, we also have the price of the house. Our goal is to train an algorithm using the train dataset to then predict the prices of the houses in the test dataset with the best accuracy.<br>We have a lot of features, so we need to look at this problem with method.</p>"
   ]
  },
  {
   "cell_type": "markdown",
   "metadata": {},
   "source": [
    "### Most Important features"
   ]
  },
  {
   "cell_type": "code",
   "execution_count": 90,
   "metadata": {},
   "outputs": [
    {
     "name": "stdout",
     "output_type": "stream",
     "text": [
      "We can determine the correlation of 37 features with the SalePrice.\n"
     ]
    }
   ],
   "source": [
    "non_obj_features = [col for col in train_df.columns if train_df[col].dtype != \"object\"]\n",
    "print(\"We can determine the correlation of {} features with the SalePrice.\".format(len(non_obj_features)))"
   ]
  },
  {
   "cell_type": "code",
   "execution_count": 77,
   "metadata": {
    "scrolled": false
   },
   "outputs": [
    {
     "data": {
      "image/png": "[encoded data removed]",
      "text/plain": [
       "<matplotlib.figure.Figure at 0x20336868940>"
      ]
     },
     "metadata": {},
     "output_type": "display_data"
    },
    {
     "data": {
      "text/plain": [
       "SalePrice        1.000000\n",
       "OverallQual      0.790982\n",
       "GrLivArea        0.708624\n",
       "GarageCars       0.640409\n",
       "GarageArea       0.623431\n",
       "TotalBsmtSF      0.613581\n",
       "1stFlrSF         0.605852\n",
       "FullBath         0.560664\n",
       "TotRmsAbvGrd     0.533723\n",
       "YearBuilt        0.522897\n",
       "YearRemodAdd     0.507101\n",
       "GarageYrBlt      0.486362\n",
       "MasVnrArea       0.477493\n",
       "Fireplaces       0.466929\n",
       "BsmtFinSF1       0.386420\n",
       "LotFrontage      0.351799\n",
       "WoodDeckSF       0.324413\n",
       "2ndFlrSF         0.319334\n",
       "OpenPorchSF      0.315856\n",
       "HalfBath         0.284108\n",
       "LotArea          0.263843\n",
       "BsmtFullBath     0.227122\n",
       "BsmtUnfSF        0.214479\n",
       "BedroomAbvGr     0.168213\n",
       "KitchenAbvGr     0.135907\n",
       "EnclosedPorch    0.128578\n",
       "ScreenPorch      0.111447\n",
       "PoolArea         0.092404\n",
       "MSSubClass       0.084284\n",
       "OverallCond      0.077856\n",
       "MoSold           0.046432\n",
       "3SsnPorch        0.044584\n",
       "YrSold           0.028923\n",
       "LowQualFinSF     0.025606\n",
       "MiscVal          0.021190\n",
       "BsmtHalfBath     0.016844\n",
       "BsmtFinSF2       0.011378\n",
       "Name: SalePrice, dtype: float64"
      ]
     },
     "metadata": {},
     "output_type": "display_data"
    }
   ],
   "source": [
    "correlation = train_df.corr().abs()\n",
    "sns.clustermap(correlation, center=0, cmap=\"GnBu\", linewidths=.75, figsize=(20,20), metric=\"correlation\")\n",
    "plt.show()\n",
    "\n",
    "display(correlation.loc[\"SalePrice\"].sort_values(ascending=False))"
   ]
  },
  {
   "cell_type": "markdown",
   "metadata": {},
   "source": [
    "As there are a lot of features to analyse, I like to begin by looking at what are the most relevant features. But this only includes numerical features. We have to perform feature engineering on object features do discover weither they are relevant or not.\n",
    "<p style=\"text-align:justify\">Now we know what are the most important features to predict the price of our houses. This ranking comes with no surprises as all these features give a general description of the house. But this only include the numerical features. We still need to study all the features whith a dtype of \"object\".</p>\n",
    "<ul>\n",
    "    <li><b>OverallQual:</b> Rates the overall material and finish of the house</li>\n",
    "    <li><b>GrLivArea:</b> Above grade (ground) living area square feet</li>\n",
    "    <li><b>GarageCars:</b> Size of garage in car capacity</li>\n",
    "    <li><b>GarageArea:</b> Size of garage in square feet</li>\n",
    "    <li><b>TotalBsmtSF:</b> Total square feet of basement area</li>\n",
    "    <li><b>1stFlrSF:</b> First Floor square feet</li>\n",
    "    <li><b>FullBath:</b> Full bathrooms above grade</li>\n",
    "    <li><b>TotRmsAbvGrd:</b> Total rooms above grade (does not include bathrooms)</li>\n",
    "    <li><b>YearBuilt:</b> Original construction date</li>\n",
    "    <li><b>YearRemodAdd:</b> Remodel date (same as construction date if no remodeling or additions)</li>\n",
    "</ul>"
   ]
  },
  {
   "cell_type": "markdown",
   "metadata": {},
   "source": [
    "### Type of features"
   ]
  },
  {
   "cell_type": "code",
   "execution_count": 118,
   "metadata": {},
   "outputs": [
    {
     "name": "stdout",
     "output_type": "stream",
     "text": [
      "Number of object features: 43\n",
      "Number of float64 features: 4\n",
      "Number of int64 features: 33\n"
     ]
    },
    {
     "data": {
      "text/plain": [
       "{'BsmtFinSF1',\n",
       " 'BsmtFinSF2',\n",
       " 'BsmtFullBath',\n",
       " 'BsmtHalfBath',\n",
       " 'BsmtUnfSF',\n",
       " 'GarageArea',\n",
       " 'GarageCars',\n",
       " 'GarageYrBlt',\n",
       " 'LotFrontage',\n",
       " 'MasVnrArea',\n",
       " 'SalePrice',\n",
       " 'TotalBsmtSF'}"
      ]
     },
     "execution_count": 118,
     "metadata": {},
     "output_type": "execute_result"
    }
   ],
   "source": [
    "types = set([train_df[col].dtype for col in train_df.columns])\n",
    "nbr_types = []\n",
    "for values in types:\n",
    "    print(\"Number of {} features: {}\".format(values, len(train_df.select_dtypes(include=values).columns)))\n",
    "obj_features = set([col for col in train_df.columns if train_df[col].dtype == \"object\"]) \n",
    "\n",
    "isnull = pd.concat([train_df, test_df]).isnull().any(axis=0)\n",
    "set([isnull.index[col] for col in range(len(isnull)) if isnull[col]]) - obj_features"
   ]
  },
  {
   "cell_type": "markdown",
   "metadata": {},
   "source": [
    "We have 37 numerical features that we will be able to exploit as such. But we will need to convert the categorical features."
   ]
  },
  {
   "cell_type": "markdown",
   "metadata": {},
   "source": [
    "### Missing datas<a id=\"missing_datas\"></a>"
   ]
  },
  {
   "cell_type": "code",
   "execution_count": 83,
   "metadata": {},
   "outputs": [
    {
     "data": {
      "text/plain": [
       "43"
      ]
     },
     "execution_count": 83,
     "metadata": {},
     "output_type": "execute_result"
    }
   ],
   "source": [
    "len([col for col in train_df.columns if train_df[col].dtype == \"object\"])"
   ]
  },
  {
   "cell_type": "code",
   "execution_count": 84,
   "metadata": {},
   "outputs": [
    {
     "data": {
      "text/html": [
       "<div>\n",
       "<style scoped>\n",
       "    .dataframe tbody tr th:only-of-type {\n",
       "        vertical-align: middle;\n",
       "    }\n",
       "\n",
       "    .dataframe tbody tr th {\n",
       "        vertical-align: top;\n",
       "    }\n",
       "\n",
       "    .dataframe thead th {\n",
       "        text-align: right;\n",
       "    }\n",
       "</style>\n",
       "<table border=\"1\" class=\"dataframe\">\n",
       "  <thead>\n",
       "    <tr style=\"text-align: right;\">\n",
       "      <th></th>\n",
       "      <th>Train missing</th>\n",
       "      <th>Test missing</th>\n",
       "      <th>Correlation</th>\n",
       "    </tr>\n",
       "  </thead>\n",
       "  <tbody>\n",
       "    <tr>\n",
       "      <th>PoolQC</th>\n",
       "      <td>99.520548</td>\n",
       "      <td>99.794380</td>\n",
       "      <td>NaN</td>\n",
       "    </tr>\n",
       "    <tr>\n",
       "      <th>MiscFeature</th>\n",
       "      <td>96.301370</td>\n",
       "      <td>96.504455</td>\n",
       "      <td>NaN</td>\n",
       "    </tr>\n",
       "    <tr>\n",
       "      <th>Alley</th>\n",
       "      <td>93.767123</td>\n",
       "      <td>92.666210</td>\n",
       "      <td>NaN</td>\n",
       "    </tr>\n",
       "    <tr>\n",
       "      <th>Fence</th>\n",
       "      <td>80.753425</td>\n",
       "      <td>80.123372</td>\n",
       "      <td>NaN</td>\n",
       "    </tr>\n",
       "    <tr>\n",
       "      <th>FireplaceQu</th>\n",
       "      <td>47.260274</td>\n",
       "      <td>50.034270</td>\n",
       "      <td>NaN</td>\n",
       "    </tr>\n",
       "    <tr>\n",
       "      <th>LotFrontage</th>\n",
       "      <td>17.739726</td>\n",
       "      <td>15.558602</td>\n",
       "      <td>0.351799</td>\n",
       "    </tr>\n",
       "    <tr>\n",
       "      <th>GarageQual</th>\n",
       "      <td>5.547945</td>\n",
       "      <td>5.346127</td>\n",
       "      <td>NaN</td>\n",
       "    </tr>\n",
       "    <tr>\n",
       "      <th>GarageFinish</th>\n",
       "      <td>5.547945</td>\n",
       "      <td>5.346127</td>\n",
       "      <td>NaN</td>\n",
       "    </tr>\n",
       "    <tr>\n",
       "      <th>GarageCond</th>\n",
       "      <td>5.547945</td>\n",
       "      <td>5.346127</td>\n",
       "      <td>NaN</td>\n",
       "    </tr>\n",
       "    <tr>\n",
       "      <th>GarageYrBlt</th>\n",
       "      <td>5.547945</td>\n",
       "      <td>5.346127</td>\n",
       "      <td>0.486362</td>\n",
       "    </tr>\n",
       "    <tr>\n",
       "      <th>GarageType</th>\n",
       "      <td>5.547945</td>\n",
       "      <td>5.209047</td>\n",
       "      <td>NaN</td>\n",
       "    </tr>\n",
       "    <tr>\n",
       "      <th>BsmtCond</th>\n",
       "      <td>2.534247</td>\n",
       "      <td>3.084304</td>\n",
       "      <td>NaN</td>\n",
       "    </tr>\n",
       "    <tr>\n",
       "      <th>BsmtExposure</th>\n",
       "      <td>2.602740</td>\n",
       "      <td>3.015764</td>\n",
       "      <td>NaN</td>\n",
       "    </tr>\n",
       "    <tr>\n",
       "      <th>BsmtQual</th>\n",
       "      <td>2.534247</td>\n",
       "      <td>3.015764</td>\n",
       "      <td>NaN</td>\n",
       "    </tr>\n",
       "    <tr>\n",
       "      <th>BsmtFinType1</th>\n",
       "      <td>2.534247</td>\n",
       "      <td>2.878684</td>\n",
       "      <td>NaN</td>\n",
       "    </tr>\n",
       "    <tr>\n",
       "      <th>BsmtFinType2</th>\n",
       "      <td>2.602740</td>\n",
       "      <td>2.878684</td>\n",
       "      <td>NaN</td>\n",
       "    </tr>\n",
       "    <tr>\n",
       "      <th>MasVnrType</th>\n",
       "      <td>0.547945</td>\n",
       "      <td>1.096642</td>\n",
       "      <td>NaN</td>\n",
       "    </tr>\n",
       "    <tr>\n",
       "      <th>MasVnrArea</th>\n",
       "      <td>0.547945</td>\n",
       "      <td>1.028101</td>\n",
       "      <td>0.477493</td>\n",
       "    </tr>\n",
       "    <tr>\n",
       "      <th>MSZoning</th>\n",
       "      <td>0.000000</td>\n",
       "      <td>0.274160</td>\n",
       "      <td>NaN</td>\n",
       "    </tr>\n",
       "    <tr>\n",
       "      <th>BsmtHalfBath</th>\n",
       "      <td>0.000000</td>\n",
       "      <td>0.137080</td>\n",
       "      <td>0.016844</td>\n",
       "    </tr>\n",
       "    <tr>\n",
       "      <th>Utilities</th>\n",
       "      <td>0.000000</td>\n",
       "      <td>0.137080</td>\n",
       "      <td>NaN</td>\n",
       "    </tr>\n",
       "    <tr>\n",
       "      <th>BsmtFullBath</th>\n",
       "      <td>0.000000</td>\n",
       "      <td>0.137080</td>\n",
       "      <td>0.227122</td>\n",
       "    </tr>\n",
       "    <tr>\n",
       "      <th>Functional</th>\n",
       "      <td>0.000000</td>\n",
       "      <td>0.137080</td>\n",
       "      <td>NaN</td>\n",
       "    </tr>\n",
       "    <tr>\n",
       "      <th>Exterior1st</th>\n",
       "      <td>0.000000</td>\n",
       "      <td>0.068540</td>\n",
       "      <td>NaN</td>\n",
       "    </tr>\n",
       "    <tr>\n",
       "      <th>GarageArea</th>\n",
       "      <td>0.000000</td>\n",
       "      <td>0.068540</td>\n",
       "      <td>0.623431</td>\n",
       "    </tr>\n",
       "    <tr>\n",
       "      <th>KitchenQual</th>\n",
       "      <td>0.000000</td>\n",
       "      <td>0.068540</td>\n",
       "      <td>NaN</td>\n",
       "    </tr>\n",
       "    <tr>\n",
       "      <th>BsmtFinSF2</th>\n",
       "      <td>0.000000</td>\n",
       "      <td>0.068540</td>\n",
       "      <td>0.011378</td>\n",
       "    </tr>\n",
       "    <tr>\n",
       "      <th>SaleType</th>\n",
       "      <td>0.000000</td>\n",
       "      <td>0.068540</td>\n",
       "      <td>NaN</td>\n",
       "    </tr>\n",
       "    <tr>\n",
       "      <th>BsmtUnfSF</th>\n",
       "      <td>0.000000</td>\n",
       "      <td>0.068540</td>\n",
       "      <td>0.214479</td>\n",
       "    </tr>\n",
       "    <tr>\n",
       "      <th>Exterior2nd</th>\n",
       "      <td>0.000000</td>\n",
       "      <td>0.068540</td>\n",
       "      <td>NaN</td>\n",
       "    </tr>\n",
       "    <tr>\n",
       "      <th>GarageCars</th>\n",
       "      <td>0.000000</td>\n",
       "      <td>0.068540</td>\n",
       "      <td>0.640409</td>\n",
       "    </tr>\n",
       "    <tr>\n",
       "      <th>TotalBsmtSF</th>\n",
       "      <td>0.000000</td>\n",
       "      <td>0.068540</td>\n",
       "      <td>0.613581</td>\n",
       "    </tr>\n",
       "    <tr>\n",
       "      <th>BsmtFinSF1</th>\n",
       "      <td>0.000000</td>\n",
       "      <td>0.068540</td>\n",
       "      <td>0.386420</td>\n",
       "    </tr>\n",
       "    <tr>\n",
       "      <th>OverallCond</th>\n",
       "      <td>0.000000</td>\n",
       "      <td>0.000000</td>\n",
       "      <td>0.077856</td>\n",
       "    </tr>\n",
       "  </tbody>\n",
       "</table>\n",
       "</div>"
      ],
      "text/plain": [
       "              Train missing  Test missing  Correlation\n",
       "PoolQC            99.520548     99.794380          NaN\n",
       "MiscFeature       96.301370     96.504455          NaN\n",
       "Alley             93.767123     92.666210          NaN\n",
       "Fence             80.753425     80.123372          NaN\n",
       "FireplaceQu       47.260274     50.034270          NaN\n",
       "LotFrontage       17.739726     15.558602     0.351799\n",
       "GarageQual         5.547945      5.346127          NaN\n",
       "GarageFinish       5.547945      5.346127          NaN\n",
       "GarageCond         5.547945      5.346127          NaN\n",
       "GarageYrBlt        5.547945      5.346127     0.486362\n",
       "GarageType         5.547945      5.209047          NaN\n",
       "BsmtCond           2.534247      3.084304          NaN\n",
       "BsmtExposure       2.602740      3.015764          NaN\n",
       "BsmtQual           2.534247      3.015764          NaN\n",
       "BsmtFinType1       2.534247      2.878684          NaN\n",
       "BsmtFinType2       2.602740      2.878684          NaN\n",
       "MasVnrType         0.547945      1.096642          NaN\n",
       "MasVnrArea         0.547945      1.028101     0.477493\n",
       "MSZoning           0.000000      0.274160          NaN\n",
       "BsmtHalfBath       0.000000      0.137080     0.016844\n",
       "Utilities          0.000000      0.137080          NaN\n",
       "BsmtFullBath       0.000000      0.137080     0.227122\n",
       "Functional         0.000000      0.137080          NaN\n",
       "Exterior1st        0.000000      0.068540          NaN\n",
       "GarageArea         0.000000      0.068540     0.623431\n",
       "KitchenQual        0.000000      0.068540          NaN\n",
       "BsmtFinSF2         0.000000      0.068540     0.011378\n",
       "SaleType           0.000000      0.068540          NaN\n",
       "BsmtUnfSF          0.000000      0.068540     0.214479\n",
       "Exterior2nd        0.000000      0.068540          NaN\n",
       "GarageCars         0.000000      0.068540     0.640409\n",
       "TotalBsmtSF        0.000000      0.068540     0.613581\n",
       "BsmtFinSF1         0.000000      0.068540     0.386420\n",
       "OverallCond        0.000000      0.000000     0.077856"
      ]
     },
     "execution_count": 84,
     "metadata": {},
     "output_type": "execute_result"
    }
   ],
   "source": [
    "train_missing = (train_df.isnull().sum()/len(train_df)*100)\n",
    "test_missing = (test_df.isnull().sum()/len(test_df)*100)\n",
    "pd.concat([train_missing, test_missing, correlation.loc[\"SalePrice\"]], axis=1, keys=[\"Train missing\", \"Test missing\", \"Correlation\"]).sort_values(\"Test missing\", ascending=False).head(34)"
   ]
  },
  {
   "cell_type": "markdown",
   "metadata": {},
   "source": [
    "<p style=\"text-align:justify;\">Missing datas are an important part of our datasets. We will need to do some feature engineering to complete these datasets with informations that fit the example the most. <br>We are goig to drop all the features that have more than 15% missing datas, because they do not carry enought information to make appropriate decisions. Also these features are not what buyers are looking at when they are looking for a new house to buy. Thus we can drop these features without worrying. Now we have 27 features to complete.</p>\n",
    "<ul>\n",
    "    <li><b>PoolQC:</b> Pool quality</li>\n",
    "    <li><b>MiscFeature:</b> Miscellaneous feature not covered in other categories</li>\n",
    "    <li><b>Alley:</b> Type of alley access to property</li>\n",
    "    <li><b>Fence:</b> Fence quality</li>\n",
    "    <li><b>FireplaceQu:</b> Fireplace quality</li>\n",
    "</ul>"
   ]
  },
  {
   "cell_type": "code",
   "execution_count": 13,
   "metadata": {},
   "outputs": [
    {
     "name": "stdout",
     "output_type": "stream",
     "text": [
      "The following features were drop for having too much missing datas:\n"
     ]
    },
    {
     "data": {
      "text/plain": [
       "['Alley', 'FireplaceQu', 'PoolQC', 'Fence', 'MiscFeature']"
      ]
     },
     "metadata": {},
     "output_type": "display_data"
    }
   ],
   "source": [
    "features_to_drop = [col for col in train_missing.index if train_missing[col]>20]\n",
    "for dataset in full:\n",
    "    dataset.drop(features_to_drop, axis=1, inplace=True)\n",
    "print(\"The following features were drop for having too much missing datas:\")\n",
    "display(features_to_drop)"
   ]
  },
  {
   "cell_type": "markdown",
   "metadata": {},
   "source": [
    "### Basement features"
   ]
  },
  {
   "cell_type": "markdown",
   "metadata": {},
   "source": [
    "First of all, let's display all the features related to the basement."
   ]
  },
  {
   "cell_type": "code",
   "execution_count": 14,
   "metadata": {},
   "outputs": [],
   "source": [
    "basements = [col for col in train_df.columns if \"Bsmt\" in col]"
   ]
  },
  {
   "cell_type": "markdown",
   "metadata": {},
   "source": [
    "Then let's have a look at how many missing datas there is for each of these features."
   ]
  },
  {
   "cell_type": "code",
   "execution_count": 15,
   "metadata": {},
   "outputs": [
    {
     "name": "stdout",
     "output_type": "stream",
     "text": [
      "BsmtQual(object): \t37 missing train \t44 missing test\n",
      "BsmtCond(object): \t37 missing train \t45 missing test\n",
      "BsmtExposure(object): \t38 missing train \t44 missing test\n",
      "BsmtFinType1(object): \t37 missing train \t42 missing test\n",
      "BsmtFinSF1(int64): \t0 missing train \t1 missing test\n",
      "BsmtFinType2(object): \t38 missing train \t42 missing test\n",
      "BsmtFinSF2(int64): \t0 missing train \t1 missing test\n",
      "BsmtUnfSF(int64): \t0 missing train \t1 missing test\n",
      "TotalBsmtSF(int64): \t0 missing train \t1 missing test\n",
      "BsmtFullBath(int64): \t0 missing train \t2 missing test\n",
      "BsmtHalfBath(int64): \t0 missing train \t2 missing test\n"
     ]
    }
   ],
   "source": [
    "for feature in basements:\n",
    "    print(\"{}({}): \\t{} missing train \\t{} missing test\".format(feature, train_df[feature].dtype, train_df[feature].isnull().sum(), test_df[feature].isnull().sum()))"
   ]
  },
  {
   "cell_type": "code",
   "execution_count": 16,
   "metadata": {},
   "outputs": [
    {
     "data": {
      "text/plain": [
       "['BsmtQual', 'BsmtCond', 'BsmtExposure', 'BsmtFinType1', 'BsmtFinType2']"
      ]
     },
     "execution_count": 16,
     "metadata": {},
     "output_type": "execute_result"
    }
   ],
   "source": [
    "obj_features = [col for col in basements if train_df[col].dtype == \"object\"]\n",
    "obj_features"
   ]
  },
  {
   "cell_type": "markdown",
   "metadata": {},
   "source": [
    "Let's take the training dataset. The problem is: we have 37 missing features for 3 objects and 38 missing features for 2 other objects. All the int64 features have no missing features.<br>\n",
    "We need to complete the objects using the int64. But we have a difference between our objects, we need first to see what are the two examples which are different."
   ]
  },
  {
   "cell_type": "code",
   "execution_count": 17,
   "metadata": {},
   "outputs": [
    {
     "data": {
      "text/html": [
       "<div>\n",
       "<style scoped>\n",
       "    .dataframe tbody tr th:only-of-type {\n",
       "        vertical-align: middle;\n",
       "    }\n",
       "\n",
       "    .dataframe tbody tr th {\n",
       "        vertical-align: top;\n",
       "    }\n",
       "\n",
       "    .dataframe thead th {\n",
       "        text-align: right;\n",
       "    }\n",
       "</style>\n",
       "<table border=\"1\" class=\"dataframe\">\n",
       "  <thead>\n",
       "    <tr style=\"text-align: right;\">\n",
       "      <th></th>\n",
       "      <th>BsmtQual</th>\n",
       "      <th>BsmtCond</th>\n",
       "      <th>BsmtExposure</th>\n",
       "      <th>BsmtFinType1</th>\n",
       "      <th>BsmtFinSF1</th>\n",
       "      <th>BsmtFinType2</th>\n",
       "      <th>BsmtFinSF2</th>\n",
       "      <th>BsmtUnfSF</th>\n",
       "      <th>TotalBsmtSF</th>\n",
       "      <th>BsmtFullBath</th>\n",
       "      <th>BsmtHalfBath</th>\n",
       "    </tr>\n",
       "  </thead>\n",
       "  <tbody>\n",
       "    <tr>\n",
       "      <th>332</th>\n",
       "      <td>Gd</td>\n",
       "      <td>TA</td>\n",
       "      <td>No</td>\n",
       "      <td>GLQ</td>\n",
       "      <td>1124</td>\n",
       "      <td>NaN</td>\n",
       "      <td>479</td>\n",
       "      <td>1603</td>\n",
       "      <td>3206</td>\n",
       "      <td>1</td>\n",
       "      <td>0</td>\n",
       "    </tr>\n",
       "    <tr>\n",
       "      <th>948</th>\n",
       "      <td>Gd</td>\n",
       "      <td>TA</td>\n",
       "      <td>NaN</td>\n",
       "      <td>Unf</td>\n",
       "      <td>0</td>\n",
       "      <td>Unf</td>\n",
       "      <td>0</td>\n",
       "      <td>936</td>\n",
       "      <td>936</td>\n",
       "      <td>0</td>\n",
       "      <td>0</td>\n",
       "    </tr>\n",
       "  </tbody>\n",
       "</table>\n",
       "</div>"
      ],
      "text/plain": [
       "    BsmtQual BsmtCond BsmtExposure BsmtFinType1  BsmtFinSF1 BsmtFinType2  \\\n",
       "332       Gd       TA           No          GLQ        1124          NaN   \n",
       "948       Gd       TA          NaN          Unf           0          Unf   \n",
       "\n",
       "     BsmtFinSF2  BsmtUnfSF  TotalBsmtSF  BsmtFullBath  BsmtHalfBath  \n",
       "332         479       1603         3206             1             0  \n",
       "948           0        936          936             0             0  "
      ]
     },
     "execution_count": 17,
     "metadata": {},
     "output_type": "execute_result"
    }
   ],
   "source": [
    "train_df[train_df[[\"BsmtExposure\", \"BsmtFinType2\"]].isnull().any(axis=1)][train_df[\"BsmtQual\"].notnull()][basements]"
   ]
  },
  {
   "cell_type": "code",
   "execution_count": 18,
   "metadata": {},
   "outputs": [],
   "source": [
    "train_df[basements] = train_df[basements].set_value([332], \"BsmtFinType2\", train_df[\"BsmtFinType2\"].describe().top)\n",
    "train_df[basements] = train_df[basements].set_value([948], \"BsmtExposure\", train_df[\"BsmtExposure\"].describe().top)"
   ]
  },
  {
   "cell_type": "code",
   "execution_count": 19,
   "metadata": {},
   "outputs": [
    {
     "data": {
      "text/plain": [
       "0"
      ]
     },
     "execution_count": 19,
     "metadata": {},
     "output_type": "execute_result"
    }
   ],
   "source": [
    "train_df[train_df[obj_features].isnull().any(axis=1)][\"TotalBsmtSF\"].sum()"
   ]
  },
  {
   "cell_type": "code",
   "execution_count": 20,
   "metadata": {},
   "outputs": [],
   "source": [
    "train_df[basements] = train_df[basements].fillna(\"NA\")"
   ]
  },
  {
   "cell_type": "markdown",
   "metadata": {},
   "source": [
    "For the test dataset, we have a lot of different cases... Let's reduce 45 to 44. If we take a look at this formula to see if we can simply replace eveerything with NA, we see that it is not possible. We will need to be more carefull in our feature engineering."
   ]
  },
  {
   "cell_type": "code",
   "execution_count": 21,
   "metadata": {},
   "outputs": [
    {
     "data": {
      "text/plain": [
       "6397.0"
      ]
     },
     "execution_count": 21,
     "metadata": {},
     "output_type": "execute_result"
    }
   ],
   "source": [
    "test_df[test_df[obj_features].isnull().any(axis=1)][\"TotalBsmtSF\"].sum()"
   ]
  },
  {
   "cell_type": "code",
   "execution_count": 22,
   "metadata": {},
   "outputs": [
    {
     "data": {
      "text/html": [
       "<div>\n",
       "<style scoped>\n",
       "    .dataframe tbody tr th:only-of-type {\n",
       "        vertical-align: middle;\n",
       "    }\n",
       "\n",
       "    .dataframe tbody tr th {\n",
       "        vertical-align: top;\n",
       "    }\n",
       "\n",
       "    .dataframe thead th {\n",
       "        text-align: right;\n",
       "    }\n",
       "</style>\n",
       "<table border=\"1\" class=\"dataframe\">\n",
       "  <thead>\n",
       "    <tr style=\"text-align: right;\">\n",
       "      <th></th>\n",
       "      <th>BsmtQual</th>\n",
       "      <th>BsmtCond</th>\n",
       "      <th>BsmtExposure</th>\n",
       "      <th>BsmtFinType1</th>\n",
       "      <th>BsmtFinSF1</th>\n",
       "      <th>BsmtFinType2</th>\n",
       "      <th>BsmtFinSF2</th>\n",
       "      <th>BsmtUnfSF</th>\n",
       "      <th>TotalBsmtSF</th>\n",
       "      <th>BsmtFullBath</th>\n",
       "      <th>BsmtHalfBath</th>\n",
       "    </tr>\n",
       "  </thead>\n",
       "  <tbody>\n",
       "    <tr>\n",
       "      <th>580</th>\n",
       "      <td>Gd</td>\n",
       "      <td>NaN</td>\n",
       "      <td>Mn</td>\n",
       "      <td>GLQ</td>\n",
       "      <td>1044.0</td>\n",
       "      <td>Rec</td>\n",
       "      <td>382.0</td>\n",
       "      <td>0.0</td>\n",
       "      <td>1426.0</td>\n",
       "      <td>1.0</td>\n",
       "      <td>0.0</td>\n",
       "    </tr>\n",
       "    <tr>\n",
       "      <th>725</th>\n",
       "      <td>TA</td>\n",
       "      <td>NaN</td>\n",
       "      <td>No</td>\n",
       "      <td>BLQ</td>\n",
       "      <td>1033.0</td>\n",
       "      <td>Unf</td>\n",
       "      <td>0.0</td>\n",
       "      <td>94.0</td>\n",
       "      <td>1127.0</td>\n",
       "      <td>0.0</td>\n",
       "      <td>1.0</td>\n",
       "    </tr>\n",
       "    <tr>\n",
       "      <th>1064</th>\n",
       "      <td>TA</td>\n",
       "      <td>NaN</td>\n",
       "      <td>Av</td>\n",
       "      <td>ALQ</td>\n",
       "      <td>755.0</td>\n",
       "      <td>Unf</td>\n",
       "      <td>0.0</td>\n",
       "      <td>240.0</td>\n",
       "      <td>995.0</td>\n",
       "      <td>0.0</td>\n",
       "      <td>0.0</td>\n",
       "    </tr>\n",
       "  </tbody>\n",
       "</table>\n",
       "</div>"
      ],
      "text/plain": [
       "     BsmtQual BsmtCond BsmtExposure BsmtFinType1  BsmtFinSF1 BsmtFinType2  \\\n",
       "580        Gd      NaN           Mn          GLQ      1044.0          Rec   \n",
       "725        TA      NaN           No          BLQ      1033.0          Unf   \n",
       "1064       TA      NaN           Av          ALQ       755.0          Unf   \n",
       "\n",
       "      BsmtFinSF2  BsmtUnfSF  TotalBsmtSF  BsmtFullBath  BsmtHalfBath  \n",
       "580        382.0        0.0       1426.0           1.0           0.0  \n",
       "725          0.0       94.0       1127.0           0.0           1.0  \n",
       "1064         0.0      240.0        995.0           0.0           0.0  "
      ]
     },
     "metadata": {},
     "output_type": "display_data"
    }
   ],
   "source": [
    "problem = test_df[test_df[\"BsmtCond\"].isnull()][test_df[\"BsmtFinType1\"].notnull()][basements]\n",
    "display(problem)\n",
    "indexes = problem.index"
   ]
  },
  {
   "cell_type": "code",
   "execution_count": 23,
   "metadata": {},
   "outputs": [],
   "source": [
    "top = test_df[\"BsmtCond\"].describe().top\n",
    "test_df[basements] = test_df[basements].set_value(indexes, \"BsmtCond\", top)"
   ]
  },
  {
   "cell_type": "code",
   "execution_count": 24,
   "metadata": {},
   "outputs": [
    {
     "data": {
      "text/html": [
       "<div>\n",
       "<style scoped>\n",
       "    .dataframe tbody tr th:only-of-type {\n",
       "        vertical-align: middle;\n",
       "    }\n",
       "\n",
       "    .dataframe tbody tr th {\n",
       "        vertical-align: top;\n",
       "    }\n",
       "\n",
       "    .dataframe thead th {\n",
       "        text-align: right;\n",
       "    }\n",
       "</style>\n",
       "<table border=\"1\" class=\"dataframe\">\n",
       "  <thead>\n",
       "    <tr style=\"text-align: right;\">\n",
       "      <th></th>\n",
       "      <th>BsmtQual</th>\n",
       "      <th>BsmtCond</th>\n",
       "      <th>BsmtExposure</th>\n",
       "      <th>BsmtFinType1</th>\n",
       "      <th>BsmtFinSF1</th>\n",
       "      <th>BsmtFinType2</th>\n",
       "      <th>BsmtFinSF2</th>\n",
       "      <th>BsmtUnfSF</th>\n",
       "      <th>TotalBsmtSF</th>\n",
       "      <th>BsmtFullBath</th>\n",
       "      <th>BsmtHalfBath</th>\n",
       "    </tr>\n",
       "  </thead>\n",
       "  <tbody>\n",
       "    <tr>\n",
       "      <th>27</th>\n",
       "      <td>Gd</td>\n",
       "      <td>TA</td>\n",
       "      <td>NaN</td>\n",
       "      <td>Unf</td>\n",
       "      <td>0.0</td>\n",
       "      <td>Unf</td>\n",
       "      <td>0.0</td>\n",
       "      <td>1595.0</td>\n",
       "      <td>1595.0</td>\n",
       "      <td>0.0</td>\n",
       "      <td>0.0</td>\n",
       "    </tr>\n",
       "    <tr>\n",
       "      <th>757</th>\n",
       "      <td>NaN</td>\n",
       "      <td>Fa</td>\n",
       "      <td>No</td>\n",
       "      <td>Unf</td>\n",
       "      <td>0.0</td>\n",
       "      <td>Unf</td>\n",
       "      <td>0.0</td>\n",
       "      <td>173.0</td>\n",
       "      <td>173.0</td>\n",
       "      <td>0.0</td>\n",
       "      <td>0.0</td>\n",
       "    </tr>\n",
       "    <tr>\n",
       "      <th>758</th>\n",
       "      <td>NaN</td>\n",
       "      <td>TA</td>\n",
       "      <td>No</td>\n",
       "      <td>Unf</td>\n",
       "      <td>0.0</td>\n",
       "      <td>Unf</td>\n",
       "      <td>0.0</td>\n",
       "      <td>356.0</td>\n",
       "      <td>356.0</td>\n",
       "      <td>0.0</td>\n",
       "      <td>0.0</td>\n",
       "    </tr>\n",
       "    <tr>\n",
       "      <th>888</th>\n",
       "      <td>Gd</td>\n",
       "      <td>TA</td>\n",
       "      <td>NaN</td>\n",
       "      <td>Unf</td>\n",
       "      <td>0.0</td>\n",
       "      <td>Unf</td>\n",
       "      <td>0.0</td>\n",
       "      <td>725.0</td>\n",
       "      <td>725.0</td>\n",
       "      <td>0.0</td>\n",
       "      <td>0.0</td>\n",
       "    </tr>\n",
       "  </tbody>\n",
       "</table>\n",
       "</div>"
      ],
      "text/plain": [
       "    BsmtQual BsmtCond BsmtExposure BsmtFinType1  BsmtFinSF1 BsmtFinType2  \\\n",
       "27        Gd       TA          NaN          Unf         0.0          Unf   \n",
       "757      NaN       Fa           No          Unf         0.0          Unf   \n",
       "758      NaN       TA           No          Unf         0.0          Unf   \n",
       "888       Gd       TA          NaN          Unf         0.0          Unf   \n",
       "\n",
       "     BsmtFinSF2  BsmtUnfSF  TotalBsmtSF  BsmtFullBath  BsmtHalfBath  \n",
       "27          0.0     1595.0       1595.0           0.0           0.0  \n",
       "757         0.0      173.0        173.0           0.0           0.0  \n",
       "758         0.0      356.0        356.0           0.0           0.0  \n",
       "888         0.0      725.0        725.0           0.0           0.0  "
      ]
     },
     "execution_count": 24,
     "metadata": {},
     "output_type": "execute_result"
    }
   ],
   "source": [
    "test_df[test_df[[\"BsmtQual\", \"BsmtExposure\"]].isnull().any(axis=1)][test_df[\"BsmtCond\"].notnull()][basements]"
   ]
  },
  {
   "cell_type": "code",
   "execution_count": 25,
   "metadata": {},
   "outputs": [],
   "source": [
    "top_qual = test_df[\"BsmtQual\"].describe().top\n",
    "top_exposure = test_df[\"BsmtExposure\"].describe().top\n",
    "\n",
    "test_df[basements] = test_df[basements].set_value([757], \"BsmtQual\", top_qual)\n",
    "test_df[basements] = test_df[basements].set_value([758], \"BsmtQual\", top_qual)\n",
    "test_df[basements] = test_df[basements].set_value([27], \"BsmtExposure\", top_exposure)\n",
    "test_df[basements] = test_df[basements].set_value([888], \"BsmtExposure\", top_exposure)"
   ]
  },
  {
   "cell_type": "code",
   "execution_count": 26,
   "metadata": {},
   "outputs": [
    {
     "data": {
      "text/html": [
       "<div>\n",
       "<style scoped>\n",
       "    .dataframe tbody tr th:only-of-type {\n",
       "        vertical-align: middle;\n",
       "    }\n",
       "\n",
       "    .dataframe tbody tr th {\n",
       "        vertical-align: top;\n",
       "    }\n",
       "\n",
       "    .dataframe thead th {\n",
       "        text-align: right;\n",
       "    }\n",
       "</style>\n",
       "<table border=\"1\" class=\"dataframe\">\n",
       "  <thead>\n",
       "    <tr style=\"text-align: right;\">\n",
       "      <th></th>\n",
       "      <th>BsmtQual</th>\n",
       "      <th>BsmtCond</th>\n",
       "      <th>BsmtExposure</th>\n",
       "      <th>BsmtFinType1</th>\n",
       "      <th>BsmtFinSF1</th>\n",
       "      <th>BsmtFinType2</th>\n",
       "      <th>BsmtFinSF2</th>\n",
       "      <th>BsmtUnfSF</th>\n",
       "      <th>TotalBsmtSF</th>\n",
       "      <th>BsmtFullBath</th>\n",
       "      <th>BsmtHalfBath</th>\n",
       "    </tr>\n",
       "  </thead>\n",
       "  <tbody>\n",
       "    <tr>\n",
       "      <th>660</th>\n",
       "      <td>NaN</td>\n",
       "      <td>NaN</td>\n",
       "      <td>NaN</td>\n",
       "      <td>NaN</td>\n",
       "      <td>NaN</td>\n",
       "      <td>NaN</td>\n",
       "      <td>NaN</td>\n",
       "      <td>NaN</td>\n",
       "      <td>NaN</td>\n",
       "      <td>NaN</td>\n",
       "      <td>NaN</td>\n",
       "    </tr>\n",
       "    <tr>\n",
       "      <th>728</th>\n",
       "      <td>NaN</td>\n",
       "      <td>NaN</td>\n",
       "      <td>NaN</td>\n",
       "      <td>NaN</td>\n",
       "      <td>0.0</td>\n",
       "      <td>NaN</td>\n",
       "      <td>0.0</td>\n",
       "      <td>0.0</td>\n",
       "      <td>0.0</td>\n",
       "      <td>NaN</td>\n",
       "      <td>NaN</td>\n",
       "    </tr>\n",
       "  </tbody>\n",
       "</table>\n",
       "</div>"
      ],
      "text/plain": [
       "    BsmtQual BsmtCond BsmtExposure BsmtFinType1  BsmtFinSF1 BsmtFinType2  \\\n",
       "660      NaN      NaN          NaN          NaN         NaN          NaN   \n",
       "728      NaN      NaN          NaN          NaN         0.0          NaN   \n",
       "\n",
       "     BsmtFinSF2  BsmtUnfSF  TotalBsmtSF  BsmtFullBath  BsmtHalfBath  \n",
       "660         NaN        NaN          NaN           NaN           NaN  \n",
       "728         0.0        0.0          0.0           NaN           NaN  "
      ]
     },
     "execution_count": 26,
     "metadata": {},
     "output_type": "execute_result"
    }
   ],
   "source": [
    "test_df[test_df[[col for col in basements if test_df[col].dtype != \"object\"]].isnull().any(axis=1)][basements]"
   ]
  },
  {
   "cell_type": "code",
   "execution_count": 27,
   "metadata": {},
   "outputs": [],
   "source": [
    "for feature in [col for col in basements if test_df[col].dtype != \"object\"]:\n",
    "    test_df[basements] = test_df[basements].set_value([660], feature, 0)\n",
    "    test_df[basements] = test_df[basements].set_value([728], feature, 0)"
   ]
  },
  {
   "cell_type": "code",
   "execution_count": 28,
   "metadata": {},
   "outputs": [
    {
     "data": {
      "text/plain": [
       "0.0"
      ]
     },
     "execution_count": 28,
     "metadata": {},
     "output_type": "execute_result"
    }
   ],
   "source": [
    "test_df[test_df[obj_features].isnull().any(axis=1)][test_df[\"TotalBsmtSF\"].notnull()][[\"BsmtFinSF1\", \"BsmtFinSF2\", \"BsmtUnfSF\", \"BsmtFullBath\", \"BsmtHalfBath\"]].sum().sum()"
   ]
  },
  {
   "cell_type": "code",
   "execution_count": 29,
   "metadata": {},
   "outputs": [],
   "source": [
    "test_df[basements] = test_df[basements].fillna(\"NA\")"
   ]
  },
  {
   "cell_type": "code",
   "execution_count": 30,
   "metadata": {},
   "outputs": [
    {
     "data": {
      "image/png": "[encoded data removed]",
      "text/plain": [
       "<matplotlib.figure.Figure at 0x203367e9c18>"
      ]
     },
     "metadata": {},
     "output_type": "display_data"
    }
   ],
   "source": [
    "fig = plt.figure(figsize=(20,20))\n",
    "\n",
    "for i in range(1, len(obj_features)+1):\n",
    "    ax1 = fig.add_subplot(3, 2, i)\n",
    "    sns.countplot(obj_features[i-1], data=train_df)\n",
    "plt.show()"
   ]
  },
  {
   "cell_type": "code",
   "execution_count": 31,
   "metadata": {},
   "outputs": [],
   "source": [
    "full_dict = {\n",
    "    \"BsmtQual\": {\n",
    "        \"Ex\": 5,\n",
    "        \"Gd\": 4,\n",
    "        \"TA\": 3,\n",
    "        \"Fa\": 2,\n",
    "        \"Po\": 1,\n",
    "        \"NA\": 0\n",
    "    },\n",
    "    \"BsmtCond\": {\n",
    "        \"Ex\": 5,\n",
    "        \"Gd\": 4,\n",
    "        \"TA\": 3,\n",
    "        \"Fa\": 2,\n",
    "        \"Po\": 1,\n",
    "        \"NA\": 0\n",
    "    },\n",
    "    \"BsmtExposure\": {\n",
    "        \"Gd\": 4,\n",
    "        \"Av\": 3,\n",
    "        \"Mn\": 2,\n",
    "        \"No\": 1,\n",
    "        \"NA\": 0\n",
    "    },\n",
    "    \"BsmtFinType1\": {\n",
    "        \"GLQ\": 6,\n",
    "        \"ALQ\": 5,\n",
    "        \"BLQ\": 4,\n",
    "        \"Rec\": 3,\n",
    "        \"LwQ\": 2,\n",
    "        \"Unf\": 1,\n",
    "        \"NA\": 0\n",
    "    },\n",
    "    \"BsmtFinType2\": {\n",
    "        \"GLQ\": 6,\n",
    "        \"ALQ\": 5,\n",
    "        \"BLQ\": 4,\n",
    "        \"Rec\": 3,\n",
    "        \"LwQ\": 2,\n",
    "        \"Unf\": 1,\n",
    "        \"NA\": 0\n",
    "    }\n",
    "}"
   ]
  },
  {
   "cell_type": "code",
   "execution_count": 32,
   "metadata": {},
   "outputs": [],
   "source": [
    "for feature in obj_features:\n",
    "    train_df[feature] = train_df[feature].map(full_dict[feature])\n",
    "    test_df[feature] = test_df[feature].map(full_dict[feature])"
   ]
  },
  {
   "cell_type": "markdown",
   "metadata": {},
   "source": [
    "### Garage related features"
   ]
  },
  {
   "cell_type": "markdown",
   "metadata": {},
   "source": [
    "First let's collect all the features that are related to the garage."
   ]
  },
  {
   "cell_type": "code",
   "execution_count": 33,
   "metadata": {},
   "outputs": [
    {
     "data": {
      "text/plain": [
       "['GarageType',\n",
       " 'GarageYrBlt',\n",
       " 'GarageFinish',\n",
       " 'GarageCars',\n",
       " 'GarageArea',\n",
       " 'GarageQual',\n",
       " 'GarageCond']"
      ]
     },
     "metadata": {},
     "output_type": "display_data"
    }
   ],
   "source": [
    "garages = [col for col in train_df.columns if col.startswith('Garage')]\n",
    "display(garages)"
   ]
  },
  {
   "cell_type": "markdown",
   "metadata": {},
   "source": [
    "Now let's examine what how many missing datas there are for each of these features."
   ]
  },
  {
   "cell_type": "code",
   "execution_count": 34,
   "metadata": {},
   "outputs": [
    {
     "name": "stdout",
     "output_type": "stream",
     "text": [
      "GarageType(object): \t81 missing train \t76 missing test\n",
      "GarageYrBlt(float64): \t81 missing train \t78 missing test\n",
      "GarageFinish(object): \t81 missing train \t78 missing test\n",
      "GarageCars(int64): \t0 missing train \t1 missing test\n",
      "GarageArea(int64): \t0 missing train \t1 missing test\n",
      "GarageQual(object): \t81 missing train \t78 missing test\n",
      "GarageCond(object): \t81 missing train \t78 missing test\n"
     ]
    }
   ],
   "source": [
    "for feature in garages:\n",
    "    print(\"{}({}): \\t{} missing train \\t{} missing test\".format(feature, train_df[feature].dtype, train_df[feature].isnull().sum(), test_df[feature].isnull().sum()))"
   ]
  },
  {
   "cell_type": "markdown",
   "metadata": {},
   "source": [
    "Before completting these features we can examine something. We have no missing datas for the training dataset for GarageCars feature and only one missing for the test dataset. With this feature only, we can understand weither there is a garage or not."
   ]
  },
  {
   "cell_type": "code",
   "execution_count": 35,
   "metadata": {},
   "outputs": [
    {
     "name": "stdout",
     "output_type": "stream",
     "text": [
      "There is a garage 0\n",
      "There is a garage 1.0\n"
     ]
    }
   ],
   "source": [
    "obj_features = [col for col in garages if train_df[col].dtype == \"object\"]\n",
    "print(\"There is a garage {}\".format(train_df[train_df[obj_features].isnull().any(axis=1)][\"GarageCars\"].sum()))\n",
    "print(\"There is a garage {}\".format(test_df[test_df[obj_features].isnull().any(axis=1)][\"GarageCars\"].sum()))"
   ]
  },
  {
   "cell_type": "markdown",
   "metadata": {},
   "source": [
    "For the training dataset there is no garage for all the object features which are missing datas, we can complete them with NA value (no garage). For the test dataset we have one problem, let's examine it."
   ]
  },
  {
   "cell_type": "code",
   "execution_count": 36,
   "metadata": {},
   "outputs": [
    {
     "data": {
      "text/html": [
       "<div>\n",
       "<style scoped>\n",
       "    .dataframe tbody tr th:only-of-type {\n",
       "        vertical-align: middle;\n",
       "    }\n",
       "\n",
       "    .dataframe tbody tr th {\n",
       "        vertical-align: top;\n",
       "    }\n",
       "\n",
       "    .dataframe thead th {\n",
       "        text-align: right;\n",
       "    }\n",
       "</style>\n",
       "<table border=\"1\" class=\"dataframe\">\n",
       "  <thead>\n",
       "    <tr style=\"text-align: right;\">\n",
       "      <th></th>\n",
       "      <th>GarageType</th>\n",
       "      <th>GarageYrBlt</th>\n",
       "      <th>GarageFinish</th>\n",
       "      <th>GarageCars</th>\n",
       "      <th>GarageArea</th>\n",
       "      <th>GarageQual</th>\n",
       "      <th>GarageCond</th>\n",
       "    </tr>\n",
       "  </thead>\n",
       "  <tbody>\n",
       "    <tr>\n",
       "      <th>1116</th>\n",
       "      <td>Detchd</td>\n",
       "      <td>NaN</td>\n",
       "      <td>NaN</td>\n",
       "      <td>NaN</td>\n",
       "      <td>NaN</td>\n",
       "      <td>NaN</td>\n",
       "      <td>NaN</td>\n",
       "    </tr>\n",
       "  </tbody>\n",
       "</table>\n",
       "</div>"
      ],
      "text/plain": [
       "     GarageType  GarageYrBlt GarageFinish  GarageCars  GarageArea GarageQual  \\\n",
       "1116     Detchd          NaN          NaN         NaN         NaN        NaN   \n",
       "\n",
       "     GarageCond  \n",
       "1116        NaN  "
      ]
     },
     "execution_count": 36,
     "metadata": {},
     "output_type": "execute_result"
    }
   ],
   "source": [
    "test_df[test_df[\"GarageCars\"].isnull()][garages]"
   ]
  },
  {
   "cell_type": "markdown",
   "metadata": {},
   "source": [
    "In this case, we can see from the first feature that there is a garage, but we have no informations about it... So I decided to complete the object features with the top values for each feature. The GarageCars feature will be completed with the mean value for this feature."
   ]
  },
  {
   "cell_type": "markdown",
   "metadata": {},
   "source": [
    "We can assume that the year the garage was built is the same year as the year the house was built."
   ]
  },
  {
   "cell_type": "code",
   "execution_count": 37,
   "metadata": {},
   "outputs": [
    {
     "data": {
      "text/html": [
       "<div>\n",
       "<style scoped>\n",
       "    .dataframe tbody tr th:only-of-type {\n",
       "        vertical-align: middle;\n",
       "    }\n",
       "\n",
       "    .dataframe tbody tr th {\n",
       "        vertical-align: top;\n",
       "    }\n",
       "\n",
       "    .dataframe thead th {\n",
       "        text-align: right;\n",
       "    }\n",
       "</style>\n",
       "<table border=\"1\" class=\"dataframe\">\n",
       "  <thead>\n",
       "    <tr style=\"text-align: right;\">\n",
       "      <th></th>\n",
       "      <th>MSSubClass</th>\n",
       "      <th>MSZoning</th>\n",
       "      <th>LotFrontage</th>\n",
       "      <th>LotArea</th>\n",
       "      <th>Street</th>\n",
       "      <th>LotShape</th>\n",
       "      <th>LandContour</th>\n",
       "      <th>Utilities</th>\n",
       "      <th>LotConfig</th>\n",
       "      <th>LandSlope</th>\n",
       "      <th>...</th>\n",
       "      <th>OpenPorchSF</th>\n",
       "      <th>EnclosedPorch</th>\n",
       "      <th>3SsnPorch</th>\n",
       "      <th>ScreenPorch</th>\n",
       "      <th>PoolArea</th>\n",
       "      <th>MiscVal</th>\n",
       "      <th>MoSold</th>\n",
       "      <th>YrSold</th>\n",
       "      <th>SaleType</th>\n",
       "      <th>SaleCondition</th>\n",
       "    </tr>\n",
       "  </thead>\n",
       "  <tbody>\n",
       "    <tr>\n",
       "      <th>1116</th>\n",
       "      <td>70</td>\n",
       "      <td>RM</td>\n",
       "      <td>50.0</td>\n",
       "      <td>9060</td>\n",
       "      <td>Pave</td>\n",
       "      <td>Reg</td>\n",
       "      <td>Lvl</td>\n",
       "      <td>AllPub</td>\n",
       "      <td>Inside</td>\n",
       "      <td>Gtl</td>\n",
       "      <td>...</td>\n",
       "      <td>0</td>\n",
       "      <td>212</td>\n",
       "      <td>0</td>\n",
       "      <td>0</td>\n",
       "      <td>0</td>\n",
       "      <td>0</td>\n",
       "      <td>3</td>\n",
       "      <td>2007</td>\n",
       "      <td>WD</td>\n",
       "      <td>Alloca</td>\n",
       "    </tr>\n",
       "  </tbody>\n",
       "</table>\n",
       "<p>1 rows × 74 columns</p>\n",
       "</div>"
      ],
      "text/plain": [
       "      MSSubClass MSZoning  LotFrontage  LotArea Street LotShape LandContour  \\\n",
       "1116          70       RM         50.0     9060   Pave      Reg         Lvl   \n",
       "\n",
       "     Utilities LotConfig LandSlope      ...      OpenPorchSF EnclosedPorch  \\\n",
       "1116    AllPub    Inside       Gtl      ...                0           212   \n",
       "\n",
       "     3SsnPorch ScreenPorch PoolArea  MiscVal  MoSold  YrSold  SaleType  \\\n",
       "1116         0           0        0        0       3    2007        WD   \n",
       "\n",
       "     SaleCondition  \n",
       "1116        Alloca  \n",
       "\n",
       "[1 rows x 74 columns]"
      ]
     },
     "execution_count": 37,
     "metadata": {},
     "output_type": "execute_result"
    }
   ],
   "source": [
    "test_df[test_df[\"GarageCars\"].isnull()]"
   ]
  },
  {
   "cell_type": "code",
   "execution_count": 38,
   "metadata": {},
   "outputs": [],
   "source": [
    "full_df = pd.concat([train_df, test_df])\n",
    "for feature in obj_features:\n",
    "    test_df[feature] = test_df[test_df[\"GarageCars\"].isnull()][feature].fillna(full_df[feature].describe().top)\n",
    "test_df[\"GarageArea\"][1116] = int(full_df[\"GarageArea\"].mean())\n",
    "test_df[\"GarageCars\"][1116] = int(full_df[\"GarageCars\"].mean())"
   ]
  },
  {
   "cell_type": "code",
   "execution_count": 39,
   "metadata": {},
   "outputs": [
    {
     "data": {
      "text/html": [
       "<div>\n",
       "<style scoped>\n",
       "    .dataframe tbody tr th:only-of-type {\n",
       "        vertical-align: middle;\n",
       "    }\n",
       "\n",
       "    .dataframe tbody tr th {\n",
       "        vertical-align: top;\n",
       "    }\n",
       "\n",
       "    .dataframe thead th {\n",
       "        text-align: right;\n",
       "    }\n",
       "</style>\n",
       "<table border=\"1\" class=\"dataframe\">\n",
       "  <thead>\n",
       "    <tr style=\"text-align: right;\">\n",
       "      <th></th>\n",
       "      <th>MSSubClass</th>\n",
       "      <th>MSZoning</th>\n",
       "      <th>LotFrontage</th>\n",
       "      <th>LotArea</th>\n",
       "      <th>Street</th>\n",
       "      <th>LotShape</th>\n",
       "      <th>LandContour</th>\n",
       "      <th>Utilities</th>\n",
       "      <th>LotConfig</th>\n",
       "      <th>LandSlope</th>\n",
       "      <th>...</th>\n",
       "      <th>OpenPorchSF</th>\n",
       "      <th>EnclosedPorch</th>\n",
       "      <th>3SsnPorch</th>\n",
       "      <th>ScreenPorch</th>\n",
       "      <th>PoolArea</th>\n",
       "      <th>MiscVal</th>\n",
       "      <th>MoSold</th>\n",
       "      <th>YrSold</th>\n",
       "      <th>SaleType</th>\n",
       "      <th>SaleCondition</th>\n",
       "    </tr>\n",
       "  </thead>\n",
       "  <tbody>\n",
       "  </tbody>\n",
       "</table>\n",
       "<p>0 rows × 74 columns</p>\n",
       "</div>"
      ],
      "text/plain": [
       "Empty DataFrame\n",
       "Columns: [MSSubClass, MSZoning, LotFrontage, LotArea, Street, LotShape, LandContour, Utilities, LotConfig, LandSlope, Neighborhood, Condition1, Condition2, BldgType, HouseStyle, OverallQual, OverallCond, YearBuilt, YearRemodAdd, RoofStyle, RoofMatl, Exterior1st, Exterior2nd, MasVnrType, MasVnrArea, ExterQual, ExterCond, Foundation, BsmtQual, BsmtCond, BsmtExposure, BsmtFinType1, BsmtFinSF1, BsmtFinType2, BsmtFinSF2, BsmtUnfSF, TotalBsmtSF, Heating, HeatingQC, CentralAir, Electrical, 1stFlrSF, 2ndFlrSF, LowQualFinSF, GrLivArea, BsmtFullBath, BsmtHalfBath, FullBath, HalfBath, BedroomAbvGr, KitchenAbvGr, KitchenQual, TotRmsAbvGrd, Functional, Fireplaces, GarageType, GarageYrBlt, GarageFinish, GarageCars, GarageArea, GarageQual, GarageCond, PavedDrive, WoodDeckSF, OpenPorchSF, EnclosedPorch, 3SsnPorch, ScreenPorch, PoolArea, MiscVal, MoSold, YrSold, SaleType, SaleCondition]\n",
       "Index: []\n",
       "\n",
       "[0 rows x 74 columns]"
      ]
     },
     "execution_count": 39,
     "metadata": {},
     "output_type": "execute_result"
    }
   ],
   "source": [
    "test_df[test_df[\"GarageCars\"].isnull()]"
   ]
  },
  {
   "cell_type": "code",
   "execution_count": 40,
   "metadata": {},
   "outputs": [],
   "source": [
    "for dataset in full:\n",
    "    dataset[\"GarageYrBlt\"] = dataset[\"GarageYrBlt\"].fillna(dataset[\"YearBuilt\"])\n",
    "    for feature in obj_features:\n",
    "        dataset[feature] = dataset[feature].fillna(\"NA\")"
   ]
  },
  {
   "cell_type": "code",
   "execution_count": 41,
   "metadata": {},
   "outputs": [
    {
     "name": "stdout",
     "output_type": "stream",
     "text": [
      "0\n",
      "1\n",
      "2\n",
      "3\n"
     ]
    }
   ],
   "source": [
    "for k in range(len(obj_features)):\n",
    "    print(k)"
   ]
  },
  {
   "cell_type": "code",
   "execution_count": 42,
   "metadata": {},
   "outputs": [
    {
     "data": {
      "image/png": "[encoded data removed]",
      "text/plain": [
       "<matplotlib.figure.Figure at 0x20331f30860>"
      ]
     },
     "metadata": {},
     "output_type": "display_data"
    }
   ],
   "source": [
    "fig = plt.figure(figsize=(20,20))\n",
    "\n",
    "for axe in range(1, len(obj_features)+1):\n",
    "    ax1 = fig.add_subplot(2,2,axe)\n",
    "    sns.countplot(x=obj_features[axe-1], data=train_df)\n",
    "\n",
    "plt.show()"
   ]
  },
  {
   "cell_type": "code",
   "execution_count": 43,
   "metadata": {},
   "outputs": [],
   "source": [
    "full_dict = {\n",
    "    \"GarageType\": {\n",
    "        \"2Types\": 6,\n",
    "        \"Attchd\": 5,\n",
    "        \"Basment\": 4,\n",
    "        \"BuiltIn\": 3,\n",
    "        \"CarPort\": 2,\n",
    "        \"Detchd\": 1,\n",
    "        \"NA\": 0\n",
    "    },\n",
    "    \"GarageFinish\": {\n",
    "        \"Fin\": 3,\n",
    "        \"RFn\": 2,\n",
    "        \"Unf\": 1,\n",
    "        \"NA\": 0\n",
    "    },\n",
    "    \"GarageQual\": {\n",
    "        \"Ex\":5,\n",
    "        \"Gd\":4,\n",
    "        \"TA\":3,\n",
    "        \"Fa\":2,\n",
    "        \"Po\":1,\n",
    "        \"NA\":0\n",
    "    },\n",
    "    \"GarageCond\": {\n",
    "        \"Ex\":5,\n",
    "        \"Gd\":4,\n",
    "        \"TA\":3,\n",
    "        \"Fa\":2,\n",
    "        \"Po\":1,\n",
    "        \"NA\":0\n",
    "    }\n",
    "}"
   ]
  },
  {
   "cell_type": "code",
   "execution_count": 44,
   "metadata": {},
   "outputs": [
    {
     "name": "stdout",
     "output_type": "stream",
     "text": [
      "GarageType filled with Attchd\n",
      "GarageFinish filled with Unf\n",
      "GarageQual filled with TA\n",
      "GarageCond filled with TA\n"
     ]
    }
   ],
   "source": [
    "for feature in garages:\n",
    "    if train_df[feature].dtype == \"object\":\n",
    "        top = full_df[feature].describe().top\n",
    "        \n",
    "        for dataset in full:\n",
    "            dataset[feature] = dataset[feature].fillna(top)\n",
    "            dataset[feature] = dataset[feature].map(full_dict[feature])            \n",
    "            \n",
    "        print(\"{} filled with {}\".format(feature, top))"
   ]
  },
  {
   "cell_type": "markdown",
   "metadata": {},
   "source": [
    "<div class=\"alert alert-info\"><b>GarageType:</b> Garage location<br>\n",
    "\n",
    "<ul>\n",
    "    <li>2Types: More than one type of garage</li>\n",
    "    <li>Attchd: Attached to home</li>\n",
    "    <li>Basment: Basement Garage</li>\n",
    "    <li>BuiltIn: Built-In (Garage part of house - typically has room above garage)<br>\n",
    "    <li>CarPort: Car Port<br>\n",
    "    <li>Detchd: Detached from home</li>\n",
    "    <li>NA: No Garage</li>\n",
    "</ul></div>"
   ]
  },
  {
   "cell_type": "markdown",
   "metadata": {},
   "source": [
    "<div class=\"alert alert-info\"><b>GarageYrBlt: </b>Year garage was built</div>"
   ]
  },
  {
   "cell_type": "markdown",
   "metadata": {},
   "source": [
    "<div class=\"alert alert-info\"><b>GarageFinish:</b> Interior finish of the garage<br>\n",
    "\n",
    "<ul>\n",
    "    <li>Fin: Finished</li>\n",
    "    <li>RFn: Rough Finished</li>\n",
    "    <li>Unf: Unfinished</li>\n",
    "    <li>NA: No Garage</li>\n",
    "</ul></div>"
   ]
  },
  {
   "cell_type": "markdown",
   "metadata": {},
   "source": [
    "<div class=\"alert alert-info\"><b>GarageCars:</b> Size of garage in car capacity</div>"
   ]
  },
  {
   "cell_type": "markdown",
   "metadata": {},
   "source": [
    "<div class=\"alert alert-info\"><b>GarageArea:</b> Size of garage in square feet</div>"
   ]
  },
  {
   "cell_type": "markdown",
   "metadata": {},
   "source": [
    "<div class=\"alert alert-info\"><b>GarageQual:</b> Garage quality<br>\n",
    "\n",
    "<ul>\n",
    "       <li>Ex: Excellent</li>\n",
    "       <li>Gd: Good</li>\n",
    "       <li>TA:  Typical/Average</li>\n",
    "       <li>Fa:\tFair<br>\n",
    "       <li>Po:\tPoor<br>\n",
    "    <li>NA:\tNo Garage</li></ul></div>"
   ]
  },
  {
   "cell_type": "markdown",
   "metadata": {},
   "source": [
    "<div class=\"alert alert-info\"><b>GarageCond:</b> Garage condition<br>\n",
    "\n",
    "<ul>\n",
    "    <li>Ex: Excellent</li>\n",
    "    <li>Gd: Good</li>\n",
    "    <li>TA: Typical/Average</li>\n",
    "    <li>Fa: Fair</li>\n",
    "    <li>Po: Poor</li>\n",
    "    <li>NA: No Garage</li>\n",
    "</ul></div>        "
   ]
  },
  {
   "cell_type": "markdown",
   "metadata": {},
   "source": [
    "### Lot Frontage"
   ]
  },
  {
   "cell_type": "markdown",
   "metadata": {},
   "source": [
    "<div class=\"alert alert-info\"><b>LotFrontage:</b> Linear feet of street connected to property</div>"
   ]
  },
  {
   "cell_type": "code",
   "execution_count": 2,
   "metadata": {},
   "outputs": [
    {
     "ename": "NameError",
     "evalue": "name 'plt' is not defined",
     "output_type": "error",
     "traceback": [
      "\u001b[1;31m---------------------------------------------------------------------------\u001b[0m",
      "\u001b[1;31mNameError\u001b[0m                                 Traceback (most recent call last)",
      "\u001b[1;32m<ipython-input-2-62a49375f332>\u001b[0m in \u001b[0;36m<module>\u001b[1;34m()\u001b[0m\n\u001b[1;32m----> 1\u001b[1;33m \u001b[0mfig\u001b[0m \u001b[1;33m=\u001b[0m \u001b[0mplt\u001b[0m\u001b[1;33m.\u001b[0m\u001b[0mfigure\u001b[0m\u001b[1;33m(\u001b[0m\u001b[0mfigsize\u001b[0m\u001b[1;33m=\u001b[0m\u001b[1;33m(\u001b[0m\u001b[1;36m20\u001b[0m\u001b[1;33m,\u001b[0m\u001b[1;36m8\u001b[0m\u001b[1;33m)\u001b[0m\u001b[1;33m)\u001b[0m\u001b[1;33m\u001b[0m\u001b[0m\n\u001b[0m\u001b[0;32m      2\u001b[0m \u001b[1;33m\u001b[0m\u001b[0m\n\u001b[0;32m      3\u001b[0m \u001b[1;33m(\u001b[0m\u001b[0mmu\u001b[0m\u001b[1;33m,\u001b[0m \u001b[0msigma\u001b[0m\u001b[1;33m)\u001b[0m \u001b[1;33m=\u001b[0m \u001b[0mst\u001b[0m\u001b[1;33m.\u001b[0m\u001b[0mnorm\u001b[0m\u001b[1;33m.\u001b[0m\u001b[0mfit\u001b[0m\u001b[1;33m(\u001b[0m\u001b[0mtrain_df\u001b[0m\u001b[1;33m[\u001b[0m\u001b[1;34m\"LotFrontage\"\u001b[0m\u001b[1;33m]\u001b[0m\u001b[1;33m.\u001b[0m\u001b[0mdropna\u001b[0m\u001b[1;33m(\u001b[0m\u001b[1;33m)\u001b[0m\u001b[1;33m)\u001b[0m\u001b[1;33m\u001b[0m\u001b[0m\n\u001b[0;32m      4\u001b[0m \u001b[0max1\u001b[0m \u001b[1;33m=\u001b[0m \u001b[0mfig\u001b[0m\u001b[1;33m.\u001b[0m\u001b[0madd_subplot\u001b[0m\u001b[1;33m(\u001b[0m\u001b[1;36m1\u001b[0m\u001b[1;33m,\u001b[0m \u001b[1;36m2\u001b[0m\u001b[1;33m,\u001b[0m \u001b[1;36m1\u001b[0m\u001b[1;33m)\u001b[0m\u001b[1;33m\u001b[0m\u001b[0m\n\u001b[0;32m      5\u001b[0m \u001b[0msns\u001b[0m\u001b[1;33m.\u001b[0m\u001b[0mdistplot\u001b[0m\u001b[1;33m(\u001b[0m\u001b[0mtrain_df\u001b[0m\u001b[1;33m[\u001b[0m\u001b[1;34m\"LotFrontage\"\u001b[0m\u001b[1;33m]\u001b[0m\u001b[1;33m.\u001b[0m\u001b[0mdropna\u001b[0m\u001b[1;33m(\u001b[0m\u001b[1;33m)\u001b[0m\u001b[1;33m,\u001b[0m \u001b[0mfit\u001b[0m\u001b[1;33m=\u001b[0m\u001b[0mst\u001b[0m\u001b[1;33m.\u001b[0m\u001b[0mnorm\u001b[0m\u001b[1;33m,\u001b[0m \u001b[0max\u001b[0m\u001b[1;33m=\u001b[0m\u001b[0max1\u001b[0m\u001b[1;33m)\u001b[0m\u001b[1;33m\u001b[0m\u001b[0m\n",
      "\u001b[1;31mNameError\u001b[0m: name 'plt' is not defined"
     ]
    }
   ],
   "source": [
    "fig = plt.figure(figsize=(20,8))\n",
    "\n",
    "(mu, sigma) = st.norm.fit(train_df[\"LotFrontage\"].dropna())\n",
    "ax1 = fig.add_subplot(1, 2, 1)\n",
    "sns.distplot(train_df[\"LotFrontage\"].dropna(), fit=st.norm, ax=ax1)\n",
    "ax1.legend([\"Normal distribution ($\\mu$= {:.2f}, $\\sigma$={:.2f})\".format(mu, sigma)], loc=\"best\", prop={\"size\": 16})\n",
    "plt.title(\"Distribution of LotFrontage\", fontsize=25)\n",
    "plt.xlabel(\"LotFrontage\", fontsize=20)\n",
    "plt.ylabel(\"Frequency\", fontsize=20)\n",
    "\n",
    "ax2 = fig.add_subplot(1, 2, 2)\n",
    "st.probplot(train_df[\"SalePrice\"], plot=ax2)\n",
    "plt.title(\"Probability Plot\", fontsize=25)\n",
    "plt.xlabel(\"Theorical quantities\", fontsize=20)\n",
    "plt.ylabel(\"Ordered Values\", fontsize=20)\n",
    "\n",
    "plt.show()\n",
    "\n",
    "\n",
    "\n",
    "#print(\"The skewness is equal to: {} %\".format(st.skew(train_df[\"LotFrontage\"])))\n",
    "#print(\"The kurtosis is equal to: {} %\".format(st.kurtosis(train_df[\"LotFrontage\"]))"
   ]
  },
  {
   "cell_type": "code",
   "execution_count": 54,
   "metadata": {},
   "outputs": [
    {
     "data": {
      "text/plain": [
       "count    1201.000000\n",
       "mean       70.049958\n",
       "std        24.284752\n",
       "min        21.000000\n",
       "25%        59.000000\n",
       "50%        69.000000\n",
       "75%        80.000000\n",
       "max       313.000000\n",
       "Name: LotFrontage, dtype: float64"
      ]
     },
     "execution_count": 54,
     "metadata": {},
     "output_type": "execute_result"
    }
   ],
   "source": [
    "train_df[\"LotFrontage\"].describe()"
   ]
  },
  {
   "cell_type": "code",
   "execution_count": 60,
   "metadata": {},
   "outputs": [
    {
     "data": {
      "text/plain": [
       "LotFrontage     1.000000\n",
       "1stFlrSF        0.457181\n",
       "LotArea         0.426095\n",
       "GrLivArea       0.402797\n",
       "TotalBsmtSF     0.392075\n",
       "MSSubClass      0.386347\n",
       "SalePrice       0.355878\n",
       "TotRmsAbvGrd    0.352096\n",
       "GarageArea      0.344997\n",
       "GarageCars      0.285691\n",
       "Name: LotFrontage, dtype: float64"
      ]
     },
     "metadata": {},
     "output_type": "display_data"
    }
   ],
   "source": [
    "display(correlation.loc[\"LotFrontage\"].sort_values(ascending=False).head(10))"
   ]
  },
  {
   "cell_type": "code",
   "execution_count": null,
   "metadata": {},
   "outputs": [],
   "source": []
  },
  {
   "cell_type": "markdown",
   "metadata": {},
   "source": [
    "### Usefull functions"
   ]
  },
  {
   "cell_type": "code",
   "execution_count": 78,
   "metadata": {},
   "outputs": [],
   "source": [
    "def draw_distribution(feature_name):\n",
    "    fig = plt.figure(figsize=(20,8))\n",
    "\n",
    "    (mu, sigma) = st.norm.fit(train_df[feature_name])\n",
    "\n",
    "    ax1 = fig.add_subplot(1, 2, 1)\n",
    "    sns.distplot(train_df[feature_name], fit=st.norm, ax=ax1)\n",
    "    ax1.legend([\"Normal distribution ($\\mu$= {:.2f}, $\\sigma$={:.2f})\".format(mu, sigma)], loc=\"best\", prop={\"size\": 16})\n",
    "    plt.title(\"Distribution of {}\".format(feature_name), fontsize=25)\n",
    "    plt.xlabel(feature_name, fontsize=20)\n",
    "    plt.ylabel(\"Frequency\", fontsize=20)\n",
    "\n",
    "    ax2 = fig.add_subplot(1, 2, 2)\n",
    "    st.probplot(train_df[\"SalePrice\"], plot=ax2)\n",
    "    plt.title(\"Probability Plot\", fontsize=25)\n",
    "    plt.xlabel(\"Theorical quantities\", fontsize=20)\n",
    "    plt.ylabel(\"Ordered Values\", fontsize=20)\n",
    "    plt.show()\n",
    "\n",
    "    print(\"The skewness is equal to: {} %\".format(st.skew(train_df[feature_name])))\n",
    "    print(\"The kurtosis is equal to: {} %\".format(st.kurtosis(train_df[feature_name])))"
   ]
  },
  {
   "cell_type": "markdown",
   "metadata": {},
   "source": [
    "### Sale Price<a id=\"sale_price\"></a>\n",
    "The SalePrice is the target of our dataset. Let's take a quick look at it."
   ]
  },
  {
   "cell_type": "code",
   "execution_count": 79,
   "metadata": {},
   "outputs": [
    {
     "data": {
      "text/plain": [
       "count      1460.000000\n",
       "mean     180921.195890\n",
       "std       79442.502883\n",
       "min       34900.000000\n",
       "25%      129975.000000\n",
       "50%      163000.000000\n",
       "75%      214000.000000\n",
       "max      755000.000000\n",
       "Name: SalePrice, dtype: float64"
      ]
     },
     "execution_count": 79,
     "metadata": {},
     "output_type": "execute_result"
    }
   ],
   "source": [
    "train_df[\"SalePrice\"].describe()"
   ]
  },
  {
   "cell_type": "code",
   "execution_count": 80,
   "metadata": {},
   "outputs": [
    {
     "data": {
      "image/png": "[encoded data removed]",
      "text/plain": [
       "<matplotlib.figure.Figure at 0x20332bf5710>"
      ]
     },
     "metadata": {},
     "output_type": "display_data"
    },
    {
     "name": "stdout",
     "output_type": "stream",
     "text": [
      "The skewness is equal to: 1.880940746034036 %\n",
      "The kurtosis is equal to: 6.509812011089439 %\n"
     ]
    }
   ],
   "source": [
    "draw_distribution(\"SalePrice\")"
   ]
  },
  {
   "cell_type": "markdown",
   "metadata": {},
   "source": [
    "<p style=\"text-align:justify;\">By plotting these graphs we can see that the distribution of the SalePrice feature does not follow a normal distribution. To improve the efficiency of our algorithm, we will need to do some modifications on this feature to get it to fit more a normal distribution. Let's try this:</p>"
   ]
  },
  {
   "cell_type": "code",
   "execution_count": 81,
   "metadata": {},
   "outputs": [
    {
     "data": {
      "image/png": "[encoded data removed]",
      "text/plain": [
       "<matplotlib.figure.Figure at 0x20332361a58>"
      ]
     },
     "metadata": {},
     "output_type": "display_data"
    },
    {
     "name": "stdout",
     "output_type": "stream",
     "text": [
      "The skewness is equal to: 0.1212103673013655 %\n",
      "The kurtosis is equal to: 0.8026555069117713 %\n"
     ]
    }
   ],
   "source": [
    "train_df.SalePrice = np.log(train_df.SalePrice)\n",
    "draw_distribution(\"SalePrice\")"
   ]
  },
  {
   "cell_type": "markdown",
   "metadata": {},
   "source": [
    "This is better, we will keep it like that."
   ]
  }
 ],
 "metadata": {
  "kernelspec": {
   "display_name": "Python 3",
   "language": "python",
   "name": "python3"
  },
  "language_info": {
   "codemirror_mode": {
    "name": "ipython",
    "version": 3
   },
   "file_extension": ".py",
   "mimetype": "text/x-python",
   "name": "python",
   "nbconvert_exporter": "python",
   "pygments_lexer": "ipython3",
   "version": "3.6.5"
  }
 },
 "nbformat": 4,
 "nbformat_minor": 2
}
